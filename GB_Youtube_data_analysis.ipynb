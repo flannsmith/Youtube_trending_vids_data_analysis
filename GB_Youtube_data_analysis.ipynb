{
 "cells": [
  {
   "cell_type": "code",
   "execution_count": 1,
   "metadata": {
    "collapsed": true
   },
   "outputs": [],
   "source": [
    "import pandas as pd\n",
    "import numpy as np\n",
    "import matplotlib.pyplot as plt\n",
    "import matplotlib.patches as mpatches\n",
    "import seaborn as sns\n",
    "sns.set()\n",
    "from matplotlib import style\n",
    "from matplotlib.backends.backend_pdf import PdfPages\n",
    "%matplotlib inline\n",
    "# plt.style.use('fivethirtyeight')\n",
    "plt.style.use(['ggplot'])\n",
    "%config IPCompleter.greedy=True\n",
    "#plt.style.use(['dark_background'])\n",
    "#plt.style.use('seaborn-dark', 'presentation')\n",
    "#import json"
   ]
  },
  {
   "cell_type": "markdown",
   "metadata": {},
   "source": [
    "### Understanding GB_csv"
   ]
  },
  {
   "cell_type": "code",
   "execution_count": 2,
   "metadata": {
    "collapsed": true
   },
   "outputs": [],
   "source": [
    "GB_csv = pd.read_csv(\"GBvideos.csv\")"
   ]
  },
  {
   "cell_type": "code",
   "execution_count": 3,
   "metadata": {},
   "outputs": [
    {
     "data": {
      "text/html": [
       "<div>\n",
       "<style>\n",
       "    .dataframe thead tr:only-child th {\n",
       "        text-align: right;\n",
       "    }\n",
       "\n",
       "    .dataframe thead th {\n",
       "        text-align: left;\n",
       "    }\n",
       "\n",
       "    .dataframe tbody tr th {\n",
       "        vertical-align: top;\n",
       "    }\n",
       "</style>\n",
       "<table border=\"1\" class=\"dataframe\">\n",
       "  <thead>\n",
       "    <tr style=\"text-align: right;\">\n",
       "      <th></th>\n",
       "      <th>video_id</th>\n",
       "      <th>trending_date</th>\n",
       "      <th>title</th>\n",
       "      <th>channel_title</th>\n",
       "      <th>category_id</th>\n",
       "      <th>publish_time</th>\n",
       "      <th>tags</th>\n",
       "      <th>views</th>\n",
       "      <th>likes</th>\n",
       "      <th>dislikes</th>\n",
       "      <th>comment_count</th>\n",
       "      <th>thumbnail_link</th>\n",
       "      <th>comments_disabled</th>\n",
       "      <th>ratings_disabled</th>\n",
       "      <th>video_error_or_removed</th>\n",
       "      <th>description</th>\n",
       "    </tr>\n",
       "  </thead>\n",
       "  <tbody>\n",
       "    <tr>\n",
       "      <th>0</th>\n",
       "      <td>Jw1Y-zhQURU</td>\n",
       "      <td>17.14.11</td>\n",
       "      <td>John Lewis Christmas Ad 2017 - #MozTheMonster</td>\n",
       "      <td>John Lewis</td>\n",
       "      <td>26</td>\n",
       "      <td>2017-11-10T07:38:29.000Z</td>\n",
       "      <td>christmas|\"john lewis christmas\"|\"john lewis\"|...</td>\n",
       "      <td>7224515</td>\n",
       "      <td>55681</td>\n",
       "      <td>10247</td>\n",
       "      <td>9479</td>\n",
       "      <td>https://i.ytimg.com/vi/Jw1Y-zhQURU/default.jpg</td>\n",
       "      <td>False</td>\n",
       "      <td>False</td>\n",
       "      <td>False</td>\n",
       "      <td>Click here to continue the story and make your...</td>\n",
       "    </tr>\n",
       "    <tr>\n",
       "      <th>1</th>\n",
       "      <td>3s1rvMFUweQ</td>\n",
       "      <td>17.14.11</td>\n",
       "      <td>Taylor Swift: …Ready for It? (Live) - SNL</td>\n",
       "      <td>Saturday Night Live</td>\n",
       "      <td>24</td>\n",
       "      <td>2017-11-12T06:24:44.000Z</td>\n",
       "      <td>SNL|\"Saturday Night Live\"|\"SNL Season 43\"|\"Epi...</td>\n",
       "      <td>1053632</td>\n",
       "      <td>25561</td>\n",
       "      <td>2294</td>\n",
       "      <td>2757</td>\n",
       "      <td>https://i.ytimg.com/vi/3s1rvMFUweQ/default.jpg</td>\n",
       "      <td>False</td>\n",
       "      <td>False</td>\n",
       "      <td>False</td>\n",
       "      <td>Musical guest Taylor Swift performs …Ready for...</td>\n",
       "    </tr>\n",
       "    <tr>\n",
       "      <th>2</th>\n",
       "      <td>n1WpP7iowLc</td>\n",
       "      <td>17.14.11</td>\n",
       "      <td>Eminem - Walk On Water (Audio) ft. Beyoncé</td>\n",
       "      <td>EminemVEVO</td>\n",
       "      <td>10</td>\n",
       "      <td>2017-11-10T17:00:03.000Z</td>\n",
       "      <td>Eminem|\"Walk\"|\"On\"|\"Water\"|\"Aftermath/Shady/In...</td>\n",
       "      <td>17158579</td>\n",
       "      <td>787420</td>\n",
       "      <td>43420</td>\n",
       "      <td>125882</td>\n",
       "      <td>https://i.ytimg.com/vi/n1WpP7iowLc/default.jpg</td>\n",
       "      <td>False</td>\n",
       "      <td>False</td>\n",
       "      <td>False</td>\n",
       "      <td>Eminem's new track Walk on Water ft. Beyoncé i...</td>\n",
       "    </tr>\n",
       "    <tr>\n",
       "      <th>3</th>\n",
       "      <td>PUTEiSjKwJU</td>\n",
       "      <td>17.14.11</td>\n",
       "      <td>Goals from Salford City vs Class of 92 and Fri...</td>\n",
       "      <td>Salford City Football Club</td>\n",
       "      <td>17</td>\n",
       "      <td>2017-11-13T02:30:38.000Z</td>\n",
       "      <td>Salford City FC|\"Salford City\"|\"Salford\"|\"Clas...</td>\n",
       "      <td>27833</td>\n",
       "      <td>193</td>\n",
       "      <td>12</td>\n",
       "      <td>37</td>\n",
       "      <td>https://i.ytimg.com/vi/PUTEiSjKwJU/default.jpg</td>\n",
       "      <td>False</td>\n",
       "      <td>False</td>\n",
       "      <td>False</td>\n",
       "      <td>Salford drew 4-4 against the Class of 92 and F...</td>\n",
       "    </tr>\n",
       "    <tr>\n",
       "      <th>4</th>\n",
       "      <td>rHwDegptbI4</td>\n",
       "      <td>17.14.11</td>\n",
       "      <td>Dashcam captures truck's near miss with child ...</td>\n",
       "      <td>Cute Girl Videos</td>\n",
       "      <td>25</td>\n",
       "      <td>2017-11-13T01:45:13.000Z</td>\n",
       "      <td>[none]</td>\n",
       "      <td>9815</td>\n",
       "      <td>30</td>\n",
       "      <td>2</td>\n",
       "      <td>30</td>\n",
       "      <td>https://i.ytimg.com/vi/rHwDegptbI4/default.jpg</td>\n",
       "      <td>False</td>\n",
       "      <td>False</td>\n",
       "      <td>False</td>\n",
       "      <td>Dashcam captures truck's near miss with child ...</td>\n",
       "    </tr>\n",
       "    <tr>\n",
       "      <th>5</th>\n",
       "      <td>AumaWl0TNBo</td>\n",
       "      <td>17.14.11</td>\n",
       "      <td>How My Relationship Started!</td>\n",
       "      <td>PointlessBlogVlogs</td>\n",
       "      <td>24</td>\n",
       "      <td>2017-11-11T17:00:00.000Z</td>\n",
       "      <td>pointlessblog|\"pointlessblogtv\"|\"pointlessblog...</td>\n",
       "      <td>1182775</td>\n",
       "      <td>52708</td>\n",
       "      <td>1431</td>\n",
       "      <td>2333</td>\n",
       "      <td>https://i.ytimg.com/vi/AumaWl0TNBo/default.jpg</td>\n",
       "      <td>False</td>\n",
       "      <td>False</td>\n",
       "      <td>False</td>\n",
       "      <td>► HOW MY RELATIONSHIP STARTED!\\n► PB Merch • h...</td>\n",
       "    </tr>\n",
       "    <tr>\n",
       "      <th>6</th>\n",
       "      <td>2Vv-BfVoq4g</td>\n",
       "      <td>17.14.11</td>\n",
       "      <td>Ed Sheeran - Perfect (Official Music Video)</td>\n",
       "      <td>Ed Sheeran</td>\n",
       "      <td>10</td>\n",
       "      <td>2017-11-09T11:04:14.000Z</td>\n",
       "      <td>edsheeran|\"ed sheeran\"|\"acoustic\"|\"live\"|\"cove...</td>\n",
       "      <td>33523622</td>\n",
       "      <td>1634124</td>\n",
       "      <td>21082</td>\n",
       "      <td>85067</td>\n",
       "      <td>https://i.ytimg.com/vi/2Vv-BfVoq4g/default.jpg</td>\n",
       "      <td>False</td>\n",
       "      <td>False</td>\n",
       "      <td>False</td>\n",
       "      <td>🎧: https://ad.gt/yt-perfect\\n💰: https://atlant...</td>\n",
       "    </tr>\n",
       "    <tr>\n",
       "      <th>7</th>\n",
       "      <td>-N5eucPMTTc</td>\n",
       "      <td>17.14.11</td>\n",
       "      <td>CHRISTMAS HAS GONE TO MY HEAD</td>\n",
       "      <td>MoreZoella</td>\n",
       "      <td>22</td>\n",
       "      <td>2017-11-10T19:19:43.000Z</td>\n",
       "      <td>zoe sugg|\"zoella\"|\"zoe\"|\"vlog\"|\"vlogging\"|\"vlo...</td>\n",
       "      <td>1164201</td>\n",
       "      <td>57309</td>\n",
       "      <td>749</td>\n",
       "      <td>624</td>\n",
       "      <td>https://i.ytimg.com/vi/-N5eucPMTTc/default.jpg</td>\n",
       "      <td>False</td>\n",
       "      <td>False</td>\n",
       "      <td>False</td>\n",
       "      <td>CHRISTMAS HAS GONE TO MY HEAD\\nPrevious Vlog: ...</td>\n",
       "    </tr>\n",
       "    <tr>\n",
       "      <th>8</th>\n",
       "      <td>LMCuKltaY3M</td>\n",
       "      <td>17.14.11</td>\n",
       "      <td>Elbow - Golden Slumbers (John Lewis Advert 2017)</td>\n",
       "      <td>ElbowVEVO</td>\n",
       "      <td>10</td>\n",
       "      <td>2017-11-10T08:00:01.000Z</td>\n",
       "      <td>Elbow|\"Golden\"|\"Slumbers\"|\"Polydor\"|\"Alternative\"</td>\n",
       "      <td>154494</td>\n",
       "      <td>2163</td>\n",
       "      <td>147</td>\n",
       "      <td>211</td>\n",
       "      <td>https://i.ytimg.com/vi/LMCuKltaY3M/default.jpg</td>\n",
       "      <td>False</td>\n",
       "      <td>False</td>\n",
       "      <td>False</td>\n",
       "      <td>“Golden Slumbers”, originally by The Beatles, ...</td>\n",
       "    </tr>\n",
       "    <tr>\n",
       "      <th>9</th>\n",
       "      <td>9t9u_yPEidY</td>\n",
       "      <td>17.14.11</td>\n",
       "      <td>Jennifer Lopez - Amor, Amor, Amor (Official Vi...</td>\n",
       "      <td>JenniferLopezVEVO</td>\n",
       "      <td>10</td>\n",
       "      <td>2017-11-10T15:00:00.000Z</td>\n",
       "      <td>Jennifer Lopez ft. Wisin|\"Jennifer Lopez ft. W...</td>\n",
       "      <td>9548677</td>\n",
       "      <td>190084</td>\n",
       "      <td>15015</td>\n",
       "      <td>11473</td>\n",
       "      <td>https://i.ytimg.com/vi/9t9u_yPEidY/default.jpg</td>\n",
       "      <td>False</td>\n",
       "      <td>False</td>\n",
       "      <td>False</td>\n",
       "      <td>Jennifer Lopez ft. Wisin - Amor, Amor, Amor (O...</td>\n",
       "    </tr>\n",
       "    <tr>\n",
       "      <th>10</th>\n",
       "      <td>ONQ-fAp5X64</td>\n",
       "      <td>17.14.11</td>\n",
       "      <td>CAN BABIES DO GYMNASTICS?  **World Record**</td>\n",
       "      <td>Nile Wilson</td>\n",
       "      <td>17</td>\n",
       "      <td>2017-11-11T10:30:00.000Z</td>\n",
       "      <td>nile wilson|\"nile wilson gymnastics\"|\"nile wil...</td>\n",
       "      <td>306724</td>\n",
       "      <td>9591</td>\n",
       "      <td>266</td>\n",
       "      <td>448</td>\n",
       "      <td>https://i.ytimg.com/vi/ONQ-fAp5X64/default.jpg</td>\n",
       "      <td>False</td>\n",
       "      <td>False</td>\n",
       "      <td>False</td>\n",
       "      <td>➢ Join my FREE 7 Steps to Success - http://www...</td>\n",
       "    </tr>\n",
       "    <tr>\n",
       "      <th>11</th>\n",
       "      <td>Dlwf5u2BLAg</td>\n",
       "      <td>17.14.11</td>\n",
       "      <td>TV Reporter Interviews Alleged Bank Robber, Th...</td>\n",
       "      <td>Inside Edition</td>\n",
       "      <td>25</td>\n",
       "      <td>2017-11-10T01:40:07.000Z</td>\n",
       "      <td>reporter|\"robbery\"|\"Crime\"|\"cat-news\"|\"police\"...</td>\n",
       "      <td>254314</td>\n",
       "      <td>1746</td>\n",
       "      <td>125</td>\n",
       "      <td>298</td>\n",
       "      <td>https://i.ytimg.com/vi/Dlwf5u2BLAg/default.jpg</td>\n",
       "      <td>False</td>\n",
       "      <td>False</td>\n",
       "      <td>False</td>\n",
       "      <td>More from Inside Edition: https://www.youtube....</td>\n",
       "    </tr>\n",
       "    <tr>\n",
       "      <th>12</th>\n",
       "      <td>NVCqz2BDfcQ</td>\n",
       "      <td>17.14.11</td>\n",
       "      <td>Gucci Mane  - Curve (ft. The Weeknd)</td>\n",
       "      <td>OfficialGucciMane</td>\n",
       "      <td>10</td>\n",
       "      <td>2017-11-10T17:18:13.000Z</td>\n",
       "      <td>Gucci Mane|\"The Weeknd\"|\"Curve\"|\"Official\"|\"Mu...</td>\n",
       "      <td>946859</td>\n",
       "      <td>37986</td>\n",
       "      <td>816</td>\n",
       "      <td>2006</td>\n",
       "      <td>https://i.ytimg.com/vi/NVCqz2BDfcQ/default.jpg</td>\n",
       "      <td>False</td>\n",
       "      <td>False</td>\n",
       "      <td>False</td>\n",
       "      <td>Gucci Mane - Curve feat. The Weeknd\\n\\n Mr. Da...</td>\n",
       "    </tr>\n",
       "    <tr>\n",
       "      <th>13</th>\n",
       "      <td>MyEqfBkzESU</td>\n",
       "      <td>17.14.11</td>\n",
       "      <td>EXTREME GOLDEN TAN TRANSFORMATION</td>\n",
       "      <td>John Maclean</td>\n",
       "      <td>26</td>\n",
       "      <td>2017-11-10T20:40:44.000Z</td>\n",
       "      <td>Extreme Tan|\"Tanning\"|\"Tanning Bed\"|\"How to ge...</td>\n",
       "      <td>300617</td>\n",
       "      <td>8133</td>\n",
       "      <td>2693</td>\n",
       "      <td>2911</td>\n",
       "      <td>https://i.ytimg.com/vi/MyEqfBkzESU/default.jpg</td>\n",
       "      <td>False</td>\n",
       "      <td>False</td>\n",
       "      <td>False</td>\n",
       "      <td>-\\n\\n\\nWebsite - http://www.johnmaclean.co.uk\\...</td>\n",
       "    </tr>\n",
       "    <tr>\n",
       "      <th>14</th>\n",
       "      <td>b4vTZx_AtHk</td>\n",
       "      <td>17.14.11</td>\n",
       "      <td>How To Dry a Shirt in 30 Seconds</td>\n",
       "      <td>HowToBasic</td>\n",
       "      <td>26</td>\n",
       "      <td>2017-11-09T18:36:48.000Z</td>\n",
       "      <td>how to dry a shirt in 30 seconds|\"how to dry a...</td>\n",
       "      <td>2063667</td>\n",
       "      <td>98804</td>\n",
       "      <td>11682</td>\n",
       "      <td>11443</td>\n",
       "      <td>https://i.ytimg.com/vi/b4vTZx_AtHk/default.jpg</td>\n",
       "      <td>False</td>\n",
       "      <td>False</td>\n",
       "      <td>False</td>\n",
       "      <td>Today I show you how to completely dry a shirt...</td>\n",
       "    </tr>\n",
       "    <tr>\n",
       "      <th>15</th>\n",
       "      <td>BsfhHKx6ajA</td>\n",
       "      <td>17.14.11</td>\n",
       "      <td>Attracting An Alpaca With An Accordion | Nowhe...</td>\n",
       "      <td>Good Mythical Morning</td>\n",
       "      <td>24</td>\n",
       "      <td>2017-11-10T11:00:00.000Z</td>\n",
       "      <td>rhett and link|\"gmm\"|\"good mythical morning\"|\"...</td>\n",
       "      <td>728547</td>\n",
       "      <td>12553</td>\n",
       "      <td>2146</td>\n",
       "      <td>1143</td>\n",
       "      <td>https://i.ytimg.com/vi/BsfhHKx6ajA/default.jpg</td>\n",
       "      <td>False</td>\n",
       "      <td>False</td>\n",
       "      <td>False</td>\n",
       "      <td>Trust us, there's nowhere else in the universe...</td>\n",
       "    </tr>\n",
       "    <tr>\n",
       "      <th>16</th>\n",
       "      <td>DIU3xPdhCBI</td>\n",
       "      <td>17.14.11</td>\n",
       "      <td>Sam Smith surprises brides at their wedding! (...</td>\n",
       "      <td>BBC Music</td>\n",
       "      <td>10</td>\n",
       "      <td>2017-11-09T22:26:10.000Z</td>\n",
       "      <td>bbc|\"music\"|\"bbc music\"|\"Sam Smith\"|\"Wedding\"|...</td>\n",
       "      <td>893462</td>\n",
       "      <td>22326</td>\n",
       "      <td>833</td>\n",
       "      <td>943</td>\n",
       "      <td>https://i.ytimg.com/vi/DIU3xPdhCBI/default.jpg</td>\n",
       "      <td>False</td>\n",
       "      <td>False</td>\n",
       "      <td>False</td>\n",
       "      <td>You have to watch this! Sam serenades a couple...</td>\n",
       "    </tr>\n",
       "    <tr>\n",
       "      <th>17</th>\n",
       "      <td>pz95u3UVpaM</td>\n",
       "      <td>17.14.11</td>\n",
       "      <td>Camila Cabello - Havana (Vertical Video) ft. Y...</td>\n",
       "      <td>CamilaCabelloVEVO</td>\n",
       "      <td>10</td>\n",
       "      <td>2017-11-10T05:01:00.000Z</td>\n",
       "      <td>camila cabello|\"camila\"|\"young thug\"|\"havana\"|...</td>\n",
       "      <td>5476738</td>\n",
       "      <td>286269</td>\n",
       "      <td>4083</td>\n",
       "      <td>12254</td>\n",
       "      <td>https://i.ytimg.com/vi/pz95u3UVpaM/default.jpg</td>\n",
       "      <td>False</td>\n",
       "      <td>False</td>\n",
       "      <td>False</td>\n",
       "      <td>Havana – Spotify Vertical Video \\nVideo Direct...</td>\n",
       "    </tr>\n",
       "    <tr>\n",
       "      <th>18</th>\n",
       "      <td>jp9hK-jY6yY</td>\n",
       "      <td>17.14.11</td>\n",
       "      <td>When Someone Has A Crush on You | Lilly Singh</td>\n",
       "      <td>IISuperwomanII</td>\n",
       "      <td>23</td>\n",
       "      <td>2017-11-09T22:21:13.000Z</td>\n",
       "      <td>iisuperwomanii|\"iisuperwomenii\"|\"superwoman\"|\"...</td>\n",
       "      <td>3371669</td>\n",
       "      <td>202676</td>\n",
       "      <td>3394</td>\n",
       "      <td>20086</td>\n",
       "      <td>https://i.ytimg.com/vi/jp9hK-jY6yY/default.jpg</td>\n",
       "      <td>False</td>\n",
       "      <td>False</td>\n",
       "      <td>False</td>\n",
       "      <td>You know that feeling when someone has a crush...</td>\n",
       "    </tr>\n",
       "    <tr>\n",
       "      <th>19</th>\n",
       "      <td>gEHCXl4J9Qo</td>\n",
       "      <td>17.14.11</td>\n",
       "      <td>Taylor Swift - “New Year’s Day” Fan Performance</td>\n",
       "      <td>ABC Television Network</td>\n",
       "      <td>24</td>\n",
       "      <td>2017-11-10T02:32:15.000Z</td>\n",
       "      <td>American Broadcasting Company|\"ABC\"|\"ABC Netwo...</td>\n",
       "      <td>2237404</td>\n",
       "      <td>72593</td>\n",
       "      <td>1830</td>\n",
       "      <td>3501</td>\n",
       "      <td>https://i.ytimg.com/vi/gEHCXl4J9Qo/default.jpg</td>\n",
       "      <td>False</td>\n",
       "      <td>False</td>\n",
       "      <td>False</td>\n",
       "      <td>This intimate fan performance of Taylor Swift'...</td>\n",
       "    </tr>\n",
       "    <tr>\n",
       "      <th>20</th>\n",
       "      <td>OWvCCu2t6Ts</td>\n",
       "      <td>17.14.11</td>\n",
       "      <td>SO Much To Tell You | 32 Weeks Pregnant | MOTH...</td>\n",
       "      <td>Sprinkleofglitter</td>\n",
       "      <td>26</td>\n",
       "      <td>2017-11-10T16:59:50.000Z</td>\n",
       "      <td>sprinkleofglitter|\"sprinkle of glitter\"|\"Louis...</td>\n",
       "      <td>238843</td>\n",
       "      <td>10028</td>\n",
       "      <td>248</td>\n",
       "      <td>650</td>\n",
       "      <td>https://i.ytimg.com/vi/OWvCCu2t6Ts/default.jpg</td>\n",
       "      <td>False</td>\n",
       "      <td>False</td>\n",
       "      <td>False</td>\n",
       "      <td>A big chat about everything going on in my pre...</td>\n",
       "    </tr>\n",
       "    <tr>\n",
       "      <th>21</th>\n",
       "      <td>6p-QzY5bxJ0</td>\n",
       "      <td>17.14.11</td>\n",
       "      <td>The 'Stranger Things' Kids Were Nearly a Motow...</td>\n",
       "      <td>The Late Late Show with James Corden</td>\n",
       "      <td>24</td>\n",
       "      <td>2017-11-09T06:45:55.000Z</td>\n",
       "      <td>James Corden|\"The Late Late Show\"|\"Colbert\"|\"l...</td>\n",
       "      <td>5541767</td>\n",
       "      <td>263918</td>\n",
       "      <td>1502</td>\n",
       "      <td>10706</td>\n",
       "      <td>https://i.ytimg.com/vi/6p-QzY5bxJ0/default.jpg</td>\n",
       "      <td>False</td>\n",
       "      <td>False</td>\n",
       "      <td>False</td>\n",
       "      <td>James and the young stars of Stranger Things -...</td>\n",
       "    </tr>\n",
       "    <tr>\n",
       "      <th>22</th>\n",
       "      <td>fiusxyygqGk</td>\n",
       "      <td>17.14.11</td>\n",
       "      <td>Marshmello - You &amp; Me (Official Music Video)</td>\n",
       "      <td>marshmello</td>\n",
       "      <td>10</td>\n",
       "      <td>2017-11-10T15:00:03.000Z</td>\n",
       "      <td>selena gomez wolves|\"alone marshmello\"|\"marshm...</td>\n",
       "      <td>3407008</td>\n",
       "      <td>207262</td>\n",
       "      <td>3167</td>\n",
       "      <td>13279</td>\n",
       "      <td>https://i.ytimg.com/vi/fiusxyygqGk/default.jpg</td>\n",
       "      <td>False</td>\n",
       "      <td>False</td>\n",
       "      <td>False</td>\n",
       "      <td>PURCHASE YOU &amp; ME HERE ▶ https://smarturl.it/m...</td>\n",
       "    </tr>\n",
       "    <tr>\n",
       "      <th>23</th>\n",
       "      <td>QOksZ8VogRw</td>\n",
       "      <td>17.14.11</td>\n",
       "      <td>Bastille - World Gone Mad (from Bright: The Al...</td>\n",
       "      <td>Atlantic Records</td>\n",
       "      <td>10</td>\n",
       "      <td>2017-11-09T17:03:42.000Z</td>\n",
       "      <td>music|\"official\"|\"music video\"|\"Bright\"|\"Brigh...</td>\n",
       "      <td>626688</td>\n",
       "      <td>25115</td>\n",
       "      <td>499</td>\n",
       "      <td>1392</td>\n",
       "      <td>https://i.ytimg.com/vi/QOksZ8VogRw/default.jpg</td>\n",
       "      <td>False</td>\n",
       "      <td>False</td>\n",
       "      <td>False</td>\n",
       "      <td>Bastille - World Gone Mad from Bright: The Alb...</td>\n",
       "    </tr>\n",
       "    <tr>\n",
       "      <th>24</th>\n",
       "      <td>lo5ERI5nPbM</td>\n",
       "      <td>17.14.11</td>\n",
       "      <td>Sharon Needles - Andy Warhol Is Dead [Official]</td>\n",
       "      <td>Sharon Needles</td>\n",
       "      <td>10</td>\n",
       "      <td>2017-11-10T18:52:40.000Z</td>\n",
       "      <td>Sharon Needles|\"Andy Warhol Is Dead\"|\"Battle A...</td>\n",
       "      <td>74934</td>\n",
       "      <td>4577</td>\n",
       "      <td>292</td>\n",
       "      <td>440</td>\n",
       "      <td>https://i.ytimg.com/vi/lo5ERI5nPbM/default.jpg</td>\n",
       "      <td>False</td>\n",
       "      <td>False</td>\n",
       "      <td>False</td>\n",
       "      <td>A Geek Mythology Production \\n\\nDirector Ben S...</td>\n",
       "    </tr>\n",
       "    <tr>\n",
       "      <th>25</th>\n",
       "      <td>Ja_GMU7-sjs</td>\n",
       "      <td>17.14.11</td>\n",
       "      <td>Google Pixelbook: $1000 of Weird!</td>\n",
       "      <td>Marques Brownlee</td>\n",
       "      <td>28</td>\n",
       "      <td>2017-11-09T21:18:33.000Z</td>\n",
       "      <td>Google Pixelbook|\"Chromebook\"|\"Pixel\"|\"$1000\"|...</td>\n",
       "      <td>1575525</td>\n",
       "      <td>52829</td>\n",
       "      <td>1524</td>\n",
       "      <td>5864</td>\n",
       "      <td>https://i.ytimg.com/vi/Ja_GMU7-sjs/default.jpg</td>\n",
       "      <td>False</td>\n",
       "      <td>False</td>\n",
       "      <td>False</td>\n",
       "      <td>Pixelbook is a $1000 2-in-1 laptop/tablet and ...</td>\n",
       "    </tr>\n",
       "    <tr>\n",
       "      <th>26</th>\n",
       "      <td>_6ViZ13mN9I</td>\n",
       "      <td>17.14.11</td>\n",
       "      <td>GSP and Tyron Woodley Talk About Their Potenti...</td>\n",
       "      <td>TMZSports</td>\n",
       "      <td>17</td>\n",
       "      <td>2017-11-10T21:52:31.000Z</td>\n",
       "      <td>TMZ|\"TMZ Sports\"|\"TMZ Sports Channel\"|\"TMZ 201...</td>\n",
       "      <td>86296</td>\n",
       "      <td>629</td>\n",
       "      <td>77</td>\n",
       "      <td>642</td>\n",
       "      <td>https://i.ytimg.com/vi/_6ViZ13mN9I/default.jpg</td>\n",
       "      <td>False</td>\n",
       "      <td>False</td>\n",
       "      <td>False</td>\n",
       "      <td>Every Friday on TMZ Sports UFC Welterweight Ch...</td>\n",
       "    </tr>\n",
       "    <tr>\n",
       "      <th>27</th>\n",
       "      <td>F62QpaPWXDI</td>\n",
       "      <td>17.14.11</td>\n",
       "      <td>THE CHEAPEST &amp; BEST EYESHADOWS?</td>\n",
       "      <td>Jamie Genevieve</td>\n",
       "      <td>22</td>\n",
       "      <td>2017-11-09T18:18:59.000Z</td>\n",
       "      <td>jamie genevieve|\"bblogger\"|\"youtuber\"|\"makeup\"...</td>\n",
       "      <td>110769</td>\n",
       "      <td>5029</td>\n",
       "      <td>81</td>\n",
       "      <td>305</td>\n",
       "      <td>https://i.ytimg.com/vi/F62QpaPWXDI/default.jpg</td>\n",
       "      <td>False</td>\n",
       "      <td>False</td>\n",
       "      <td>False</td>\n",
       "      <td>Subscribe and join the fam! http://www.youtube...</td>\n",
       "    </tr>\n",
       "    <tr>\n",
       "      <th>28</th>\n",
       "      <td>g5c1bk8weaQ</td>\n",
       "      <td>17.14.11</td>\n",
       "      <td>FIRST TIME IM DOING THIS! TALKS WITH LIZA.</td>\n",
       "      <td>Liza Koshy</td>\n",
       "      <td>23</td>\n",
       "      <td>2017-11-10T03:43:43.000Z</td>\n",
       "      <td>liza|\"lizza\"|\"lizzza\"|\"lizzzavine\"|\"lizzzak\"|\"...</td>\n",
       "      <td>3578502</td>\n",
       "      <td>307435</td>\n",
       "      <td>2573</td>\n",
       "      <td>12248</td>\n",
       "      <td>https://i.ytimg.com/vi/g5c1bk8weaQ/default.jpg</td>\n",
       "      <td>False</td>\n",
       "      <td>False</td>\n",
       "      <td>False</td>\n",
       "      <td>Having kids, having anxiety and not having boo...</td>\n",
       "    </tr>\n",
       "    <tr>\n",
       "      <th>29</th>\n",
       "      <td>3qYt_fXdaXY</td>\n",
       "      <td>17.14.11</td>\n",
       "      <td>Sweetie destroys Flav (Sweetie vs. Flavor Flav)</td>\n",
       "      <td>Foolmarkt</td>\n",
       "      <td>24</td>\n",
       "      <td>2016-08-06T12:25:20.000Z</td>\n",
       "      <td>flavor of love|\"fighting\"|\"sweetie\"|\"flavor fl...</td>\n",
       "      <td>28960</td>\n",
       "      <td>399</td>\n",
       "      <td>14</td>\n",
       "      <td>114</td>\n",
       "      <td>https://i.ytimg.com/vi/3qYt_fXdaXY/default.jpg</td>\n",
       "      <td>False</td>\n",
       "      <td>False</td>\n",
       "      <td>False</td>\n",
       "      <td>episode 4</td>\n",
       "    </tr>\n",
       "    <tr>\n",
       "      <th>...</th>\n",
       "      <td>...</td>\n",
       "      <td>...</td>\n",
       "      <td>...</td>\n",
       "      <td>...</td>\n",
       "      <td>...</td>\n",
       "      <td>...</td>\n",
       "      <td>...</td>\n",
       "      <td>...</td>\n",
       "      <td>...</td>\n",
       "      <td>...</td>\n",
       "      <td>...</td>\n",
       "      <td>...</td>\n",
       "      <td>...</td>\n",
       "      <td>...</td>\n",
       "      <td>...</td>\n",
       "      <td>...</td>\n",
       "    </tr>\n",
       "    <tr>\n",
       "      <th>28391</th>\n",
       "      <td>zVVrfqwA5lQ</td>\n",
       "      <td>18.07.04</td>\n",
       "      <td>Judas Priest - Spectre (Official Video)</td>\n",
       "      <td>JudasPriestVEVO</td>\n",
       "      <td>10</td>\n",
       "      <td>2018-03-09T05:00:03.000Z</td>\n",
       "      <td>judas priest|\"judas priest spectre\"|\"judas pri...</td>\n",
       "      <td>1494429</td>\n",
       "      <td>27240</td>\n",
       "      <td>532</td>\n",
       "      <td>2210</td>\n",
       "      <td>https://i.ytimg.com/vi/zVVrfqwA5lQ/default.jpg</td>\n",
       "      <td>False</td>\n",
       "      <td>False</td>\n",
       "      <td>False</td>\n",
       "      <td>Judas Priest - Spectre (Official Video)\\nTaken...</td>\n",
       "    </tr>\n",
       "    <tr>\n",
       "      <th>28392</th>\n",
       "      <td>y0PMqR7IbAQ</td>\n",
       "      <td>18.07.04</td>\n",
       "      <td>Ozuna, Brytiago, Chris Jeday - Bipolar (Video ...</td>\n",
       "      <td>ChrisJedayVEVO</td>\n",
       "      <td>10</td>\n",
       "      <td>2018-03-07T05:00:03.000Z</td>\n",
       "      <td>Chris|\"Jeday\"|\"Ozuna\"|\"Brytiago\"|\"Bipolar\"|\"Un...</td>\n",
       "      <td>54067360</td>\n",
       "      <td>395019</td>\n",
       "      <td>16026</td>\n",
       "      <td>8652</td>\n",
       "      <td>https://i.ytimg.com/vi/y0PMqR7IbAQ/default.jpg</td>\n",
       "      <td>False</td>\n",
       "      <td>False</td>\n",
       "      <td>False</td>\n",
       "      <td>Music video by Chris Jeday, Ozuna, Brytiago pe...</td>\n",
       "    </tr>\n",
       "    <tr>\n",
       "      <th>28393</th>\n",
       "      <td>425M4M3Opkk</td>\n",
       "      <td>18.07.04</td>\n",
       "      <td>Christopher Robin Official Teaser Trailer</td>\n",
       "      <td>Disney Movie Trailers</td>\n",
       "      <td>1</td>\n",
       "      <td>2018-03-06T17:00:01.000Z</td>\n",
       "      <td>ChristopherRobin DomesticTrailer1 NoGreenband ...</td>\n",
       "      <td>7919156</td>\n",
       "      <td>149679</td>\n",
       "      <td>5942</td>\n",
       "      <td>18771</td>\n",
       "      <td>https://i.ytimg.com/vi/425M4M3Opkk/default.jpg</td>\n",
       "      <td>False</td>\n",
       "      <td>False</td>\n",
       "      <td>False</td>\n",
       "      <td>The Hundred Acre Wood is opening up to our wor...</td>\n",
       "    </tr>\n",
       "    <tr>\n",
       "      <th>28394</th>\n",
       "      <td>_AsPY1bQx70</td>\n",
       "      <td>18.07.04</td>\n",
       "      <td>Shinedown - DEVIL (Official Video)</td>\n",
       "      <td>Shinedown</td>\n",
       "      <td>10</td>\n",
       "      <td>2018-03-07T12:05:31.000Z</td>\n",
       "      <td>shinedown|\"devil\"|\"official video\"|\"attention ...</td>\n",
       "      <td>2924302</td>\n",
       "      <td>52045</td>\n",
       "      <td>1963</td>\n",
       "      <td>3542</td>\n",
       "      <td>https://i.ytimg.com/vi/_AsPY1bQx70/default.jpg</td>\n",
       "      <td>False</td>\n",
       "      <td>False</td>\n",
       "      <td>False</td>\n",
       "      <td>Official video for Shinedown DEVIL\\n\\nThe new ...</td>\n",
       "    </tr>\n",
       "    <tr>\n",
       "      <th>28395</th>\n",
       "      <td>ToY6sjSV8h8</td>\n",
       "      <td>18.07.04</td>\n",
       "      <td>Rich The Kid - Plug Walk</td>\n",
       "      <td>RichTheKidVEVO</td>\n",
       "      <td>10</td>\n",
       "      <td>2018-03-05T05:00:00.000Z</td>\n",
       "      <td>Rich|\"The\"|\"Kid\"|\"Plug\"|\"Walk\"|\"(TDE/ISR\"|\"PS)...</td>\n",
       "      <td>42844249</td>\n",
       "      <td>476638</td>\n",
       "      <td>17720</td>\n",
       "      <td>18896</td>\n",
       "      <td>https://i.ytimg.com/vi/ToY6sjSV8h8/default.jpg</td>\n",
       "      <td>False</td>\n",
       "      <td>False</td>\n",
       "      <td>False</td>\n",
       "      <td>Rich The Kid’s debut album “The World Is Yours...</td>\n",
       "    </tr>\n",
       "    <tr>\n",
       "      <th>28396</th>\n",
       "      <td>LJjsm6CVsG8</td>\n",
       "      <td>18.07.04</td>\n",
       "      <td>6IX9INE Billy (WSHH Exclusive - Official Music...</td>\n",
       "      <td>WORLDSTARHIPHOP</td>\n",
       "      <td>10</td>\n",
       "      <td>2018-03-04T21:04:37.000Z</td>\n",
       "      <td>world star hip hop|\"worldstarhiphop\"|\"worldsta...</td>\n",
       "      <td>53494574</td>\n",
       "      <td>599425</td>\n",
       "      <td>82606</td>\n",
       "      <td>58619</td>\n",
       "      <td>https://i.ytimg.com/vi/LJjsm6CVsG8/default.jpg</td>\n",
       "      <td>False</td>\n",
       "      <td>False</td>\n",
       "      <td>False</td>\n",
       "      <td>Watch the official music video for Billy by 6I...</td>\n",
       "    </tr>\n",
       "    <tr>\n",
       "      <th>28397</th>\n",
       "      <td>Ek3aeUhHaFY</td>\n",
       "      <td>18.07.04</td>\n",
       "      <td>Primitive Technology: Lime</td>\n",
       "      <td>Primitive Technology</td>\n",
       "      <td>22</td>\n",
       "      <td>2018-03-06T22:00:03.000Z</td>\n",
       "      <td>[none]</td>\n",
       "      <td>4881616</td>\n",
       "      <td>144323</td>\n",
       "      <td>2068</td>\n",
       "      <td>12009</td>\n",
       "      <td>https://i.ytimg.com/vi/Ek3aeUhHaFY/default.jpg</td>\n",
       "      <td>False</td>\n",
       "      <td>False</td>\n",
       "      <td>False</td>\n",
       "      <td>At the old hut site (the new one being tempora...</td>\n",
       "    </tr>\n",
       "    <tr>\n",
       "      <th>28398</th>\n",
       "      <td>305ryPvU6A8</td>\n",
       "      <td>18.07.04</td>\n",
       "      <td>HomePod — Welcome Home by Spike Jonze — Apple</td>\n",
       "      <td>Apple</td>\n",
       "      <td>28</td>\n",
       "      <td>2018-03-06T05:00:32.000Z</td>\n",
       "      <td>anderson paak|\"apartment\"|\"apple\"|\"apple music...</td>\n",
       "      <td>8486629</td>\n",
       "      <td>114569</td>\n",
       "      <td>18945</td>\n",
       "      <td>0</td>\n",
       "      <td>https://i.ytimg.com/vi/305ryPvU6A8/default.jpg</td>\n",
       "      <td>True</td>\n",
       "      <td>False</td>\n",
       "      <td>False</td>\n",
       "      <td>HomePod. The new sound of home. Directed by Sp...</td>\n",
       "    </tr>\n",
       "    <tr>\n",
       "      <th>28399</th>\n",
       "      <td>kP3xrSPYi-0</td>\n",
       "      <td>18.07.04</td>\n",
       "      <td>ROYCE DA 5'9 | DJ PREMIER | #FREESTYLE090 WITH...</td>\n",
       "      <td>HOT 97</td>\n",
       "      <td>10</td>\n",
       "      <td>2018-03-07T13:07:46.000Z</td>\n",
       "      <td>hot97|\"hot97app\"|\"music\"|\"video\"|\"hip hop\"|\"ra...</td>\n",
       "      <td>931770</td>\n",
       "      <td>27082</td>\n",
       "      <td>412</td>\n",
       "      <td>5966</td>\n",
       "      <td>https://i.ytimg.com/vi/kP3xrSPYi-0/default.jpg</td>\n",
       "      <td>False</td>\n",
       "      <td>False</td>\n",
       "      <td>False</td>\n",
       "      <td>Royce Da 5'9' and Dj Premier shut it down for ...</td>\n",
       "    </tr>\n",
       "    <tr>\n",
       "      <th>28400</th>\n",
       "      <td>LjUXm0Zy_dk</td>\n",
       "      <td>18.07.04</td>\n",
       "      <td>[MV] 마마무(MAMAMOO) - 별이 빛나는 밤(Starry night)</td>\n",
       "      <td>MAMAMOO</td>\n",
       "      <td>10</td>\n",
       "      <td>2018-03-07T09:00:01.000Z</td>\n",
       "      <td>[none]</td>\n",
       "      <td>9419910</td>\n",
       "      <td>255386</td>\n",
       "      <td>3572</td>\n",
       "      <td>18003</td>\n",
       "      <td>https://i.ytimg.com/vi/LjUXm0Zy_dk/default.jpg</td>\n",
       "      <td>False</td>\n",
       "      <td>False</td>\n",
       "      <td>False</td>\n",
       "      <td>.\\n[MV] 마마무(MAMAMOO) - 별이 빛나는 밤(Starry night)</td>\n",
       "    </tr>\n",
       "    <tr>\n",
       "      <th>28401</th>\n",
       "      <td>m7b8hitvfoE</td>\n",
       "      <td>18.07.04</td>\n",
       "      <td>Sade - Flower of the Universe (From Disney's A...</td>\n",
       "      <td>SadeVEVO</td>\n",
       "      <td>10</td>\n",
       "      <td>2018-03-07T00:00:03.000Z</td>\n",
       "      <td>Flower of the Universe (From Disney's A Wrinkl...</td>\n",
       "      <td>1441725</td>\n",
       "      <td>24390</td>\n",
       "      <td>501</td>\n",
       "      <td>1831</td>\n",
       "      <td>https://i.ytimg.com/vi/m7b8hitvfoE/default.jpg</td>\n",
       "      <td>False</td>\n",
       "      <td>False</td>\n",
       "      <td>False</td>\n",
       "      <td>Music video by Sade performing Flower of the U...</td>\n",
       "    </tr>\n",
       "    <tr>\n",
       "      <th>28402</th>\n",
       "      <td>nCWKrEA4FBw</td>\n",
       "      <td>18.07.04</td>\n",
       "      <td>Calpurnia - City Boy (Official Video)</td>\n",
       "      <td>Calpurnia</td>\n",
       "      <td>10</td>\n",
       "      <td>2018-03-07T15:38:46.000Z</td>\n",
       "      <td>[none]</td>\n",
       "      <td>1674907</td>\n",
       "      <td>127388</td>\n",
       "      <td>2749</td>\n",
       "      <td>10205</td>\n",
       "      <td>https://i.ytimg.com/vi/nCWKrEA4FBw/default.jpg</td>\n",
       "      <td>False</td>\n",
       "      <td>False</td>\n",
       "      <td>False</td>\n",
       "      <td>This video is a look into a day in the studio ...</td>\n",
       "    </tr>\n",
       "    <tr>\n",
       "      <th>28403</th>\n",
       "      <td>aRsOBFhNjVM</td>\n",
       "      <td>18.07.04</td>\n",
       "      <td>Steamed Hams Inc.</td>\n",
       "      <td>NPCarlsson</td>\n",
       "      <td>24</td>\n",
       "      <td>2018-03-05T18:30:03.000Z</td>\n",
       "      <td>YouTube Poop|\"YTP\"|\"Animation\"|\"Music\"|\"Gaming...</td>\n",
       "      <td>1674134</td>\n",
       "      <td>88854</td>\n",
       "      <td>538</td>\n",
       "      <td>6268</td>\n",
       "      <td>https://i.ytimg.com/vi/aRsOBFhNjVM/default.jpg</td>\n",
       "      <td>False</td>\n",
       "      <td>False</td>\n",
       "      <td>False</td>\n",
       "      <td>I'm aware a Steamed Hams/Feel Good Inc. mashup...</td>\n",
       "    </tr>\n",
       "    <tr>\n",
       "      <th>28404</th>\n",
       "      <td>RQm0nKoODo4</td>\n",
       "      <td>18.07.04</td>\n",
       "      <td>Take On Me in 20 Styles ft. Seth Everman</td>\n",
       "      <td>Ten Second Songs</td>\n",
       "      <td>10</td>\n",
       "      <td>2018-03-05T17:00:40.000Z</td>\n",
       "      <td>katy perry|\"juicy j\"|\"nirvana\"|\"queen\"|\"metall...</td>\n",
       "      <td>1230449</td>\n",
       "      <td>82977</td>\n",
       "      <td>741</td>\n",
       "      <td>6723</td>\n",
       "      <td>https://i.ytimg.com/vi/RQm0nKoODo4/default.jpg</td>\n",
       "      <td>False</td>\n",
       "      <td>False</td>\n",
       "      <td>False</td>\n",
       "      <td>Watch the Allstar video I did with Seth ► http...</td>\n",
       "    </tr>\n",
       "    <tr>\n",
       "      <th>28405</th>\n",
       "      <td>aq-phmpUJ_E</td>\n",
       "      <td>18.07.04</td>\n",
       "      <td>Making music with LEGO</td>\n",
       "      <td>ANDREW HUANG</td>\n",
       "      <td>10</td>\n",
       "      <td>2018-03-05T22:00:35.000Z</td>\n",
       "      <td>andrew|\"huang\"|\"andrew huang\"|\"music\"|\"musicia...</td>\n",
       "      <td>1291512</td>\n",
       "      <td>30304</td>\n",
       "      <td>1164</td>\n",
       "      <td>1796</td>\n",
       "      <td>https://i.ytimg.com/vi/aq-phmpUJ_E/default.jpg</td>\n",
       "      <td>False</td>\n",
       "      <td>False</td>\n",
       "      <td>False</td>\n",
       "      <td>Thanks to LEGO for sponsoring! Watch my episod...</td>\n",
       "    </tr>\n",
       "    <tr>\n",
       "      <th>28406</th>\n",
       "      <td>sFLTqo2emQ8</td>\n",
       "      <td>18.07.04</td>\n",
       "      <td>iKON - ‘고무줄다리기 (RUBBER BAND)’ DANCE PRACTICE V...</td>\n",
       "      <td>iKON</td>\n",
       "      <td>10</td>\n",
       "      <td>2018-03-07T02:00:13.000Z</td>\n",
       "      <td>BOBBY|\"SONG\"|\"JUNE\"|\"DK\"|\"CHAN\"|\"BI\"|\"iKON\"|\"바...</td>\n",
       "      <td>3485395</td>\n",
       "      <td>151782</td>\n",
       "      <td>780</td>\n",
       "      <td>8816</td>\n",
       "      <td>https://i.ytimg.com/vi/sFLTqo2emQ8/default.jpg</td>\n",
       "      <td>False</td>\n",
       "      <td>False</td>\n",
       "      <td>False</td>\n",
       "      <td>Download on iTunes : http://smarturl.it/iKON_R...</td>\n",
       "    </tr>\n",
       "    <tr>\n",
       "      <th>28407</th>\n",
       "      <td>4HU6Z7anycw</td>\n",
       "      <td>18.07.04</td>\n",
       "      <td>Lucas the Spider - Polar Bear</td>\n",
       "      <td>Lucas the Spider</td>\n",
       "      <td>1</td>\n",
       "      <td>2018-03-04T00:32:18.000Z</td>\n",
       "      <td>LucastheSpider|\"Animation\"|\"3D Animation\"|\"VFX...</td>\n",
       "      <td>8982414</td>\n",
       "      <td>333141</td>\n",
       "      <td>5975</td>\n",
       "      <td>19469</td>\n",
       "      <td>https://i.ytimg.com/vi/4HU6Z7anycw/default.jpg</td>\n",
       "      <td>False</td>\n",
       "      <td>False</td>\n",
       "      <td>False</td>\n",
       "      <td>Don't worry...Dexter is a spider friendly pup!...</td>\n",
       "    </tr>\n",
       "    <tr>\n",
       "      <th>28408</th>\n",
       "      <td>Wd_idMpg_qQ</td>\n",
       "      <td>18.07.04</td>\n",
       "      <td>Joyner Lucas - Look Alive (Remix)</td>\n",
       "      <td>joyner lucas</td>\n",
       "      <td>10</td>\n",
       "      <td>2018-03-04T18:21:58.000Z</td>\n",
       "      <td>Look alive remix|\"drake look alive\"|\"blocboy j...</td>\n",
       "      <td>6966384</td>\n",
       "      <td>164663</td>\n",
       "      <td>5411</td>\n",
       "      <td>20732</td>\n",
       "      <td>https://i.ytimg.com/vi/Wd_idMpg_qQ/default.jpg</td>\n",
       "      <td>False</td>\n",
       "      <td>False</td>\n",
       "      <td>False</td>\n",
       "      <td>I'm Kind of A Big Deal Tour: http://www.joyner...</td>\n",
       "    </tr>\n",
       "    <tr>\n",
       "      <th>28409</th>\n",
       "      <td>oSumNo-j-oc</td>\n",
       "      <td>18.07.04</td>\n",
       "      <td>P.J. Tucker Goes Sneaker Shopping With Complex</td>\n",
       "      <td>Complex</td>\n",
       "      <td>24</td>\n",
       "      <td>2018-03-05T15:00:04.000Z</td>\n",
       "      <td>sneakerhead|\"complex\"|\"complex originals\"|\"sne...</td>\n",
       "      <td>1188853</td>\n",
       "      <td>29151</td>\n",
       "      <td>282</td>\n",
       "      <td>3021</td>\n",
       "      <td>https://i.ytimg.com/vi/oSumNo-j-oc/default.jpg</td>\n",
       "      <td>False</td>\n",
       "      <td>False</td>\n",
       "      <td>False</td>\n",
       "      <td>P.J. Tucker goes Sneaker Shopping with Joe La ...</td>\n",
       "    </tr>\n",
       "    <tr>\n",
       "      <th>28410</th>\n",
       "      <td>pgN-vvVVxMA</td>\n",
       "      <td>18.07.04</td>\n",
       "      <td>XXXTENTACION - SAD!</td>\n",
       "      <td>xxxtentacion</td>\n",
       "      <td>10</td>\n",
       "      <td>2018-03-02T05:05:53.000Z</td>\n",
       "      <td>[none]</td>\n",
       "      <td>72660090</td>\n",
       "      <td>1348854</td>\n",
       "      <td>24139</td>\n",
       "      <td>98495</td>\n",
       "      <td>https://i.ytimg.com/vi/pgN-vvVVxMA/default.jpg</td>\n",
       "      <td>False</td>\n",
       "      <td>False</td>\n",
       "      <td>False</td>\n",
       "      <td>enjoy.\\n\\n? HERE: https://xxxtentacion.lnk.to/...</td>\n",
       "    </tr>\n",
       "    <tr>\n",
       "      <th>28411</th>\n",
       "      <td>LPTlvQ1Zet0</td>\n",
       "      <td>18.07.04</td>\n",
       "      <td>21 Savage, Offset, Metro Boomin - Ric Flair Drip</td>\n",
       "      <td>21SavageVEVO</td>\n",
       "      <td>10</td>\n",
       "      <td>2018-03-01T14:00:02.000Z</td>\n",
       "      <td>21 savage|\"offset\"|\"metro boomin\"|\"ric flair d...</td>\n",
       "      <td>69907195</td>\n",
       "      <td>835963</td>\n",
       "      <td>30861</td>\n",
       "      <td>40903</td>\n",
       "      <td>https://i.ytimg.com/vi/LPTlvQ1Zet0/default.jpg</td>\n",
       "      <td>False</td>\n",
       "      <td>False</td>\n",
       "      <td>False</td>\n",
       "      <td>Without Warning available at\\nhttp://smarturl....</td>\n",
       "    </tr>\n",
       "    <tr>\n",
       "      <th>28412</th>\n",
       "      <td>_I_D_8Z4sJE</td>\n",
       "      <td>18.07.04</td>\n",
       "      <td>Nicky Jam x J. Balvin - X (EQUIS) | Video Ofic...</td>\n",
       "      <td>NickyJamTV</td>\n",
       "      <td>10</td>\n",
       "      <td>2018-03-02T05:00:19.000Z</td>\n",
       "      <td>Bad Bunny|\"Amorfoda\"|\"Dura\"|\"Daddy Yankee\"|\"Oz...</td>\n",
       "      <td>424538912</td>\n",
       "      <td>2818771</td>\n",
       "      <td>149275</td>\n",
       "      <td>99380</td>\n",
       "      <td>https://i.ytimg.com/vi/_I_D_8Z4sJE/default.jpg</td>\n",
       "      <td>False</td>\n",
       "      <td>False</td>\n",
       "      <td>False</td>\n",
       "      <td>Disponible en tu plataforma preferida:\\nhttps:...</td>\n",
       "    </tr>\n",
       "    <tr>\n",
       "      <th>28413</th>\n",
       "      <td>HgknAaKNaMM</td>\n",
       "      <td>18.07.04</td>\n",
       "      <td>Carrie Underwood - The Champion ft. Ludacris</td>\n",
       "      <td>carrieunderwoodVEVO</td>\n",
       "      <td>10</td>\n",
       "      <td>2018-03-02T14:00:01.000Z</td>\n",
       "      <td>Carrie|\"Underwood\"|\"The\"|\"Champion\"|\"UMG\"|\"Nas...</td>\n",
       "      <td>14178451</td>\n",
       "      <td>150743</td>\n",
       "      <td>9483</td>\n",
       "      <td>7334</td>\n",
       "      <td>https://i.ytimg.com/vi/HgknAaKNaMM/default.jpg</td>\n",
       "      <td>False</td>\n",
       "      <td>False</td>\n",
       "      <td>False</td>\n",
       "      <td>The Official Music Video for “The Champion” by...</td>\n",
       "    </tr>\n",
       "    <tr>\n",
       "      <th>28414</th>\n",
       "      <td>XP32nDUMYS8</td>\n",
       "      <td>18.07.04</td>\n",
       "      <td>George Ezra - Pretty Shining People (Lyric Video)</td>\n",
       "      <td>GeorgeEzraVEVO</td>\n",
       "      <td>10</td>\n",
       "      <td>2018-03-02T08:00:02.000Z</td>\n",
       "      <td>george ezra|\"george ezra pretty shining people...</td>\n",
       "      <td>1832031</td>\n",
       "      <td>31328</td>\n",
       "      <td>656</td>\n",
       "      <td>1060</td>\n",
       "      <td>https://i.ytimg.com/vi/XP32nDUMYS8/default.jpg</td>\n",
       "      <td>False</td>\n",
       "      <td>False</td>\n",
       "      <td>False</td>\n",
       "      <td>George Ezra - Pretty Shining People (Lyric Vid...</td>\n",
       "    </tr>\n",
       "    <tr>\n",
       "      <th>28415</th>\n",
       "      <td>xuAH21DkJow</td>\n",
       "      <td>18.07.04</td>\n",
       "      <td>P!nk - Whatever You Want (Official Video)</td>\n",
       "      <td>PinkVEVO</td>\n",
       "      <td>10</td>\n",
       "      <td>2018-03-02T05:00:01.000Z</td>\n",
       "      <td>P!nk|\"Pop\"|\"RCA Records Label\"|\"Whatever You W...</td>\n",
       "      <td>8679504</td>\n",
       "      <td>72998</td>\n",
       "      <td>2890</td>\n",
       "      <td>2182</td>\n",
       "      <td>https://i.ytimg.com/vi/xuAH21DkJow/default.jpg</td>\n",
       "      <td>False</td>\n",
       "      <td>False</td>\n",
       "      <td>False</td>\n",
       "      <td>P!NK's new album 'Beautiful Trauma' featuring ...</td>\n",
       "    </tr>\n",
       "    <tr>\n",
       "      <th>28416</th>\n",
       "      <td>kton-qrKNLc</td>\n",
       "      <td>18.07.04</td>\n",
       "      <td>Meghan Trainor - No Excuses</td>\n",
       "      <td>MeghanTrainorVEVO</td>\n",
       "      <td>10</td>\n",
       "      <td>2018-03-01T13:00:05.000Z</td>\n",
       "      <td>meghan trainor|\"no excuses\"|\"no excuses offici...</td>\n",
       "      <td>32324578</td>\n",
       "      <td>455891</td>\n",
       "      <td>35823</td>\n",
       "      <td>28005</td>\n",
       "      <td>https://i.ytimg.com/vi/kton-qrKNLc/default.jpg</td>\n",
       "      <td>False</td>\n",
       "      <td>False</td>\n",
       "      <td>False</td>\n",
       "      <td>No Excuses available at Spotify: http://smartu...</td>\n",
       "    </tr>\n",
       "    <tr>\n",
       "      <th>28417</th>\n",
       "      <td>2UByqalCfnk</td>\n",
       "      <td>18.07.04</td>\n",
       "      <td>Flo Rida - Dancer (Official Video)</td>\n",
       "      <td>Flo Rida</td>\n",
       "      <td>10</td>\n",
       "      <td>2018-03-02T05:07:00.000Z</td>\n",
       "      <td>FloHola|\"Hola\"|\"Flo Music\"|\"flo music video\"|\"...</td>\n",
       "      <td>4375940</td>\n",
       "      <td>55565</td>\n",
       "      <td>1773</td>\n",
       "      <td>1327</td>\n",
       "      <td>https://i.ytimg.com/vi/2UByqalCfnk/default.jpg</td>\n",
       "      <td>False</td>\n",
       "      <td>False</td>\n",
       "      <td>False</td>\n",
       "      <td>Official video for Dancer stream + download ht...</td>\n",
       "    </tr>\n",
       "    <tr>\n",
       "      <th>28418</th>\n",
       "      <td>2VggEmXPnGw</td>\n",
       "      <td>18.07.04</td>\n",
       "      <td>The Most Famous Actor You’ve Never Seen</td>\n",
       "      <td>Great Big Story</td>\n",
       "      <td>22</td>\n",
       "      <td>2018-03-02T07:00:01.000Z</td>\n",
       "      <td>great big story|\"gbs\"|\"lag\"|\"documentary\"|\"doc...</td>\n",
       "      <td>1518753</td>\n",
       "      <td>43630</td>\n",
       "      <td>296</td>\n",
       "      <td>1570</td>\n",
       "      <td>https://i.ytimg.com/vi/2VggEmXPnGw/default.jpg</td>\n",
       "      <td>False</td>\n",
       "      <td>False</td>\n",
       "      <td>False</td>\n",
       "      <td>You might not know his face, but you’ve seen h...</td>\n",
       "    </tr>\n",
       "    <tr>\n",
       "      <th>28419</th>\n",
       "      <td>3v0c6smpHSk</td>\n",
       "      <td>18.07.04</td>\n",
       "      <td>‘The Hamilton Polka’ - Weird Al Yankovic</td>\n",
       "      <td>Hamilton: An American Musical</td>\n",
       "      <td>1</td>\n",
       "      <td>2018-03-02T05:01:27.000Z</td>\n",
       "      <td>[none]</td>\n",
       "      <td>1871106</td>\n",
       "      <td>71118</td>\n",
       "      <td>1016</td>\n",
       "      <td>5047</td>\n",
       "      <td>https://i.ytimg.com/vi/3v0c6smpHSk/default.jpg</td>\n",
       "      <td>False</td>\n",
       "      <td>False</td>\n",
       "      <td>False</td>\n",
       "      <td>February's #Hamildrop collaboration with Weird...</td>\n",
       "    </tr>\n",
       "    <tr>\n",
       "      <th>28420</th>\n",
       "      <td>8q1NFlE17qs</td>\n",
       "      <td>18.07.04</td>\n",
       "      <td>Karol G - Pineapple</td>\n",
       "      <td>KarolGVEVO</td>\n",
       "      <td>10</td>\n",
       "      <td>2018-03-02T05:00:00.000Z</td>\n",
       "      <td>Karol|\"Pineapple\"|\"Universal\"|\"Music\"|\"Latino\"...</td>\n",
       "      <td>54872560</td>\n",
       "      <td>491089</td>\n",
       "      <td>19919</td>\n",
       "      <td>16826</td>\n",
       "      <td>https://i.ytimg.com/vi/8q1NFlE17qs/default.jpg</td>\n",
       "      <td>False</td>\n",
       "      <td>False</td>\n",
       "      <td>False</td>\n",
       "      <td>“Pineapple” de Karol G está disponible ya: htt...</td>\n",
       "    </tr>\n",
       "  </tbody>\n",
       "</table>\n",
       "<p>28421 rows × 16 columns</p>\n",
       "</div>"
      ],
      "text/plain": [
       "          video_id trending_date  \\\n",
       "0      Jw1Y-zhQURU      17.14.11   \n",
       "1      3s1rvMFUweQ      17.14.11   \n",
       "2      n1WpP7iowLc      17.14.11   \n",
       "3      PUTEiSjKwJU      17.14.11   \n",
       "4      rHwDegptbI4      17.14.11   \n",
       "5      AumaWl0TNBo      17.14.11   \n",
       "6      2Vv-BfVoq4g      17.14.11   \n",
       "7      -N5eucPMTTc      17.14.11   \n",
       "8      LMCuKltaY3M      17.14.11   \n",
       "9      9t9u_yPEidY      17.14.11   \n",
       "10     ONQ-fAp5X64      17.14.11   \n",
       "11     Dlwf5u2BLAg      17.14.11   \n",
       "12     NVCqz2BDfcQ      17.14.11   \n",
       "13     MyEqfBkzESU      17.14.11   \n",
       "14     b4vTZx_AtHk      17.14.11   \n",
       "15     BsfhHKx6ajA      17.14.11   \n",
       "16     DIU3xPdhCBI      17.14.11   \n",
       "17     pz95u3UVpaM      17.14.11   \n",
       "18     jp9hK-jY6yY      17.14.11   \n",
       "19     gEHCXl4J9Qo      17.14.11   \n",
       "20     OWvCCu2t6Ts      17.14.11   \n",
       "21     6p-QzY5bxJ0      17.14.11   \n",
       "22     fiusxyygqGk      17.14.11   \n",
       "23     QOksZ8VogRw      17.14.11   \n",
       "24     lo5ERI5nPbM      17.14.11   \n",
       "25     Ja_GMU7-sjs      17.14.11   \n",
       "26     _6ViZ13mN9I      17.14.11   \n",
       "27     F62QpaPWXDI      17.14.11   \n",
       "28     g5c1bk8weaQ      17.14.11   \n",
       "29     3qYt_fXdaXY      17.14.11   \n",
       "...            ...           ...   \n",
       "28391  zVVrfqwA5lQ      18.07.04   \n",
       "28392  y0PMqR7IbAQ      18.07.04   \n",
       "28393  425M4M3Opkk      18.07.04   \n",
       "28394  _AsPY1bQx70      18.07.04   \n",
       "28395  ToY6sjSV8h8      18.07.04   \n",
       "28396  LJjsm6CVsG8      18.07.04   \n",
       "28397  Ek3aeUhHaFY      18.07.04   \n",
       "28398  305ryPvU6A8      18.07.04   \n",
       "28399  kP3xrSPYi-0      18.07.04   \n",
       "28400  LjUXm0Zy_dk      18.07.04   \n",
       "28401  m7b8hitvfoE      18.07.04   \n",
       "28402  nCWKrEA4FBw      18.07.04   \n",
       "28403  aRsOBFhNjVM      18.07.04   \n",
       "28404  RQm0nKoODo4      18.07.04   \n",
       "28405  aq-phmpUJ_E      18.07.04   \n",
       "28406  sFLTqo2emQ8      18.07.04   \n",
       "28407  4HU6Z7anycw      18.07.04   \n",
       "28408  Wd_idMpg_qQ      18.07.04   \n",
       "28409  oSumNo-j-oc      18.07.04   \n",
       "28410  pgN-vvVVxMA      18.07.04   \n",
       "28411  LPTlvQ1Zet0      18.07.04   \n",
       "28412  _I_D_8Z4sJE      18.07.04   \n",
       "28413  HgknAaKNaMM      18.07.04   \n",
       "28414  XP32nDUMYS8      18.07.04   \n",
       "28415  xuAH21DkJow      18.07.04   \n",
       "28416  kton-qrKNLc      18.07.04   \n",
       "28417  2UByqalCfnk      18.07.04   \n",
       "28418  2VggEmXPnGw      18.07.04   \n",
       "28419  3v0c6smpHSk      18.07.04   \n",
       "28420  8q1NFlE17qs      18.07.04   \n",
       "\n",
       "                                                   title  \\\n",
       "0          John Lewis Christmas Ad 2017 - #MozTheMonster   \n",
       "1              Taylor Swift: …Ready for It? (Live) - SNL   \n",
       "2             Eminem - Walk On Water (Audio) ft. Beyoncé   \n",
       "3      Goals from Salford City vs Class of 92 and Fri...   \n",
       "4      Dashcam captures truck's near miss with child ...   \n",
       "5                           How My Relationship Started!   \n",
       "6            Ed Sheeran - Perfect (Official Music Video)   \n",
       "7                          CHRISTMAS HAS GONE TO MY HEAD   \n",
       "8       Elbow - Golden Slumbers (John Lewis Advert 2017)   \n",
       "9      Jennifer Lopez - Amor, Amor, Amor (Official Vi...   \n",
       "10           CAN BABIES DO GYMNASTICS?  **World Record**   \n",
       "11     TV Reporter Interviews Alleged Bank Robber, Th...   \n",
       "12                  Gucci Mane  - Curve (ft. The Weeknd)   \n",
       "13                     EXTREME GOLDEN TAN TRANSFORMATION   \n",
       "14                      How To Dry a Shirt in 30 Seconds   \n",
       "15     Attracting An Alpaca With An Accordion | Nowhe...   \n",
       "16     Sam Smith surprises brides at their wedding! (...   \n",
       "17     Camila Cabello - Havana (Vertical Video) ft. Y...   \n",
       "18         When Someone Has A Crush on You | Lilly Singh   \n",
       "19       Taylor Swift - “New Year’s Day” Fan Performance   \n",
       "20     SO Much To Tell You | 32 Weeks Pregnant | MOTH...   \n",
       "21     The 'Stranger Things' Kids Were Nearly a Motow...   \n",
       "22          Marshmello - You & Me (Official Music Video)   \n",
       "23     Bastille - World Gone Mad (from Bright: The Al...   \n",
       "24       Sharon Needles - Andy Warhol Is Dead [Official]   \n",
       "25                     Google Pixelbook: $1000 of Weird!   \n",
       "26     GSP and Tyron Woodley Talk About Their Potenti...   \n",
       "27                       THE CHEAPEST & BEST EYESHADOWS?   \n",
       "28            FIRST TIME IM DOING THIS! TALKS WITH LIZA.   \n",
       "29       Sweetie destroys Flav (Sweetie vs. Flavor Flav)   \n",
       "...                                                  ...   \n",
       "28391            Judas Priest - Spectre (Official Video)   \n",
       "28392  Ozuna, Brytiago, Chris Jeday - Bipolar (Video ...   \n",
       "28393          Christopher Robin Official Teaser Trailer   \n",
       "28394                 Shinedown - DEVIL (Official Video)   \n",
       "28395                           Rich The Kid - Plug Walk   \n",
       "28396  6IX9INE Billy (WSHH Exclusive - Official Music...   \n",
       "28397                         Primitive Technology: Lime   \n",
       "28398      HomePod — Welcome Home by Spike Jonze — Apple   \n",
       "28399  ROYCE DA 5'9 | DJ PREMIER | #FREESTYLE090 WITH...   \n",
       "28400         [MV] 마마무(MAMAMOO) - 별이 빛나는 밤(Starry night)   \n",
       "28401  Sade - Flower of the Universe (From Disney's A...   \n",
       "28402              Calpurnia - City Boy (Official Video)   \n",
       "28403                                  Steamed Hams Inc.   \n",
       "28404           Take On Me in 20 Styles ft. Seth Everman   \n",
       "28405                             Making music with LEGO   \n",
       "28406  iKON - ‘고무줄다리기 (RUBBER BAND)’ DANCE PRACTICE V...   \n",
       "28407                      Lucas the Spider - Polar Bear   \n",
       "28408                  Joyner Lucas - Look Alive (Remix)   \n",
       "28409     P.J. Tucker Goes Sneaker Shopping With Complex   \n",
       "28410                                XXXTENTACION - SAD!   \n",
       "28411   21 Savage, Offset, Metro Boomin - Ric Flair Drip   \n",
       "28412  Nicky Jam x J. Balvin - X (EQUIS) | Video Ofic...   \n",
       "28413       Carrie Underwood - The Champion ft. Ludacris   \n",
       "28414  George Ezra - Pretty Shining People (Lyric Video)   \n",
       "28415          P!nk - Whatever You Want (Official Video)   \n",
       "28416                        Meghan Trainor - No Excuses   \n",
       "28417                 Flo Rida - Dancer (Official Video)   \n",
       "28418            The Most Famous Actor You’ve Never Seen   \n",
       "28419           ‘The Hamilton Polka’ - Weird Al Yankovic   \n",
       "28420                                Karol G - Pineapple   \n",
       "\n",
       "                              channel_title  category_id  \\\n",
       "0                                John Lewis           26   \n",
       "1                       Saturday Night Live           24   \n",
       "2                                EminemVEVO           10   \n",
       "3                Salford City Football Club           17   \n",
       "4                          Cute Girl Videos           25   \n",
       "5                        PointlessBlogVlogs           24   \n",
       "6                                Ed Sheeran           10   \n",
       "7                                MoreZoella           22   \n",
       "8                                 ElbowVEVO           10   \n",
       "9                         JenniferLopezVEVO           10   \n",
       "10                              Nile Wilson           17   \n",
       "11                           Inside Edition           25   \n",
       "12                        OfficialGucciMane           10   \n",
       "13                             John Maclean           26   \n",
       "14                               HowToBasic           26   \n",
       "15                    Good Mythical Morning           24   \n",
       "16                                BBC Music           10   \n",
       "17                        CamilaCabelloVEVO           10   \n",
       "18                           IISuperwomanII           23   \n",
       "19                   ABC Television Network           24   \n",
       "20                        Sprinkleofglitter           26   \n",
       "21     The Late Late Show with James Corden           24   \n",
       "22                               marshmello           10   \n",
       "23                         Atlantic Records           10   \n",
       "24                           Sharon Needles           10   \n",
       "25                         Marques Brownlee           28   \n",
       "26                                TMZSports           17   \n",
       "27                          Jamie Genevieve           22   \n",
       "28                               Liza Koshy           23   \n",
       "29                                Foolmarkt           24   \n",
       "...                                     ...          ...   \n",
       "28391                       JudasPriestVEVO           10   \n",
       "28392                        ChrisJedayVEVO           10   \n",
       "28393                 Disney Movie Trailers            1   \n",
       "28394                             Shinedown           10   \n",
       "28395                        RichTheKidVEVO           10   \n",
       "28396                       WORLDSTARHIPHOP           10   \n",
       "28397                  Primitive Technology           22   \n",
       "28398                                 Apple           28   \n",
       "28399                                HOT 97           10   \n",
       "28400                               MAMAMOO           10   \n",
       "28401                              SadeVEVO           10   \n",
       "28402                             Calpurnia           10   \n",
       "28403                            NPCarlsson           24   \n",
       "28404                      Ten Second Songs           10   \n",
       "28405                          ANDREW HUANG           10   \n",
       "28406                                  iKON           10   \n",
       "28407                      Lucas the Spider            1   \n",
       "28408                          joyner lucas           10   \n",
       "28409                               Complex           24   \n",
       "28410                          xxxtentacion           10   \n",
       "28411                          21SavageVEVO           10   \n",
       "28412                            NickyJamTV           10   \n",
       "28413                   carrieunderwoodVEVO           10   \n",
       "28414                        GeorgeEzraVEVO           10   \n",
       "28415                              PinkVEVO           10   \n",
       "28416                     MeghanTrainorVEVO           10   \n",
       "28417                              Flo Rida           10   \n",
       "28418                       Great Big Story           22   \n",
       "28419         Hamilton: An American Musical            1   \n",
       "28420                            KarolGVEVO           10   \n",
       "\n",
       "                   publish_time  \\\n",
       "0      2017-11-10T07:38:29.000Z   \n",
       "1      2017-11-12T06:24:44.000Z   \n",
       "2      2017-11-10T17:00:03.000Z   \n",
       "3      2017-11-13T02:30:38.000Z   \n",
       "4      2017-11-13T01:45:13.000Z   \n",
       "5      2017-11-11T17:00:00.000Z   \n",
       "6      2017-11-09T11:04:14.000Z   \n",
       "7      2017-11-10T19:19:43.000Z   \n",
       "8      2017-11-10T08:00:01.000Z   \n",
       "9      2017-11-10T15:00:00.000Z   \n",
       "10     2017-11-11T10:30:00.000Z   \n",
       "11     2017-11-10T01:40:07.000Z   \n",
       "12     2017-11-10T17:18:13.000Z   \n",
       "13     2017-11-10T20:40:44.000Z   \n",
       "14     2017-11-09T18:36:48.000Z   \n",
       "15     2017-11-10T11:00:00.000Z   \n",
       "16     2017-11-09T22:26:10.000Z   \n",
       "17     2017-11-10T05:01:00.000Z   \n",
       "18     2017-11-09T22:21:13.000Z   \n",
       "19     2017-11-10T02:32:15.000Z   \n",
       "20     2017-11-10T16:59:50.000Z   \n",
       "21     2017-11-09T06:45:55.000Z   \n",
       "22     2017-11-10T15:00:03.000Z   \n",
       "23     2017-11-09T17:03:42.000Z   \n",
       "24     2017-11-10T18:52:40.000Z   \n",
       "25     2017-11-09T21:18:33.000Z   \n",
       "26     2017-11-10T21:52:31.000Z   \n",
       "27     2017-11-09T18:18:59.000Z   \n",
       "28     2017-11-10T03:43:43.000Z   \n",
       "29     2016-08-06T12:25:20.000Z   \n",
       "...                         ...   \n",
       "28391  2018-03-09T05:00:03.000Z   \n",
       "28392  2018-03-07T05:00:03.000Z   \n",
       "28393  2018-03-06T17:00:01.000Z   \n",
       "28394  2018-03-07T12:05:31.000Z   \n",
       "28395  2018-03-05T05:00:00.000Z   \n",
       "28396  2018-03-04T21:04:37.000Z   \n",
       "28397  2018-03-06T22:00:03.000Z   \n",
       "28398  2018-03-06T05:00:32.000Z   \n",
       "28399  2018-03-07T13:07:46.000Z   \n",
       "28400  2018-03-07T09:00:01.000Z   \n",
       "28401  2018-03-07T00:00:03.000Z   \n",
       "28402  2018-03-07T15:38:46.000Z   \n",
       "28403  2018-03-05T18:30:03.000Z   \n",
       "28404  2018-03-05T17:00:40.000Z   \n",
       "28405  2018-03-05T22:00:35.000Z   \n",
       "28406  2018-03-07T02:00:13.000Z   \n",
       "28407  2018-03-04T00:32:18.000Z   \n",
       "28408  2018-03-04T18:21:58.000Z   \n",
       "28409  2018-03-05T15:00:04.000Z   \n",
       "28410  2018-03-02T05:05:53.000Z   \n",
       "28411  2018-03-01T14:00:02.000Z   \n",
       "28412  2018-03-02T05:00:19.000Z   \n",
       "28413  2018-03-02T14:00:01.000Z   \n",
       "28414  2018-03-02T08:00:02.000Z   \n",
       "28415  2018-03-02T05:00:01.000Z   \n",
       "28416  2018-03-01T13:00:05.000Z   \n",
       "28417  2018-03-02T05:07:00.000Z   \n",
       "28418  2018-03-02T07:00:01.000Z   \n",
       "28419  2018-03-02T05:01:27.000Z   \n",
       "28420  2018-03-02T05:00:00.000Z   \n",
       "\n",
       "                                                    tags      views    likes  \\\n",
       "0      christmas|\"john lewis christmas\"|\"john lewis\"|...    7224515    55681   \n",
       "1      SNL|\"Saturday Night Live\"|\"SNL Season 43\"|\"Epi...    1053632    25561   \n",
       "2      Eminem|\"Walk\"|\"On\"|\"Water\"|\"Aftermath/Shady/In...   17158579   787420   \n",
       "3      Salford City FC|\"Salford City\"|\"Salford\"|\"Clas...      27833      193   \n",
       "4                                                 [none]       9815       30   \n",
       "5      pointlessblog|\"pointlessblogtv\"|\"pointlessblog...    1182775    52708   \n",
       "6      edsheeran|\"ed sheeran\"|\"acoustic\"|\"live\"|\"cove...   33523622  1634124   \n",
       "7      zoe sugg|\"zoella\"|\"zoe\"|\"vlog\"|\"vlogging\"|\"vlo...    1164201    57309   \n",
       "8      Elbow|\"Golden\"|\"Slumbers\"|\"Polydor\"|\"Alternative\"     154494     2163   \n",
       "9      Jennifer Lopez ft. Wisin|\"Jennifer Lopez ft. W...    9548677   190084   \n",
       "10     nile wilson|\"nile wilson gymnastics\"|\"nile wil...     306724     9591   \n",
       "11     reporter|\"robbery\"|\"Crime\"|\"cat-news\"|\"police\"...     254314     1746   \n",
       "12     Gucci Mane|\"The Weeknd\"|\"Curve\"|\"Official\"|\"Mu...     946859    37986   \n",
       "13     Extreme Tan|\"Tanning\"|\"Tanning Bed\"|\"How to ge...     300617     8133   \n",
       "14     how to dry a shirt in 30 seconds|\"how to dry a...    2063667    98804   \n",
       "15     rhett and link|\"gmm\"|\"good mythical morning\"|\"...     728547    12553   \n",
       "16     bbc|\"music\"|\"bbc music\"|\"Sam Smith\"|\"Wedding\"|...     893462    22326   \n",
       "17     camila cabello|\"camila\"|\"young thug\"|\"havana\"|...    5476738   286269   \n",
       "18     iisuperwomanii|\"iisuperwomenii\"|\"superwoman\"|\"...    3371669   202676   \n",
       "19     American Broadcasting Company|\"ABC\"|\"ABC Netwo...    2237404    72593   \n",
       "20     sprinkleofglitter|\"sprinkle of glitter\"|\"Louis...     238843    10028   \n",
       "21     James Corden|\"The Late Late Show\"|\"Colbert\"|\"l...    5541767   263918   \n",
       "22     selena gomez wolves|\"alone marshmello\"|\"marshm...    3407008   207262   \n",
       "23     music|\"official\"|\"music video\"|\"Bright\"|\"Brigh...     626688    25115   \n",
       "24     Sharon Needles|\"Andy Warhol Is Dead\"|\"Battle A...      74934     4577   \n",
       "25     Google Pixelbook|\"Chromebook\"|\"Pixel\"|\"$1000\"|...    1575525    52829   \n",
       "26     TMZ|\"TMZ Sports\"|\"TMZ Sports Channel\"|\"TMZ 201...      86296      629   \n",
       "27     jamie genevieve|\"bblogger\"|\"youtuber\"|\"makeup\"...     110769     5029   \n",
       "28     liza|\"lizza\"|\"lizzza\"|\"lizzzavine\"|\"lizzzak\"|\"...    3578502   307435   \n",
       "29     flavor of love|\"fighting\"|\"sweetie\"|\"flavor fl...      28960      399   \n",
       "...                                                  ...        ...      ...   \n",
       "28391  judas priest|\"judas priest spectre\"|\"judas pri...    1494429    27240   \n",
       "28392  Chris|\"Jeday\"|\"Ozuna\"|\"Brytiago\"|\"Bipolar\"|\"Un...   54067360   395019   \n",
       "28393  ChristopherRobin DomesticTrailer1 NoGreenband ...    7919156   149679   \n",
       "28394  shinedown|\"devil\"|\"official video\"|\"attention ...    2924302    52045   \n",
       "28395  Rich|\"The\"|\"Kid\"|\"Plug\"|\"Walk\"|\"(TDE/ISR\"|\"PS)...   42844249   476638   \n",
       "28396  world star hip hop|\"worldstarhiphop\"|\"worldsta...   53494574   599425   \n",
       "28397                                             [none]    4881616   144323   \n",
       "28398  anderson paak|\"apartment\"|\"apple\"|\"apple music...    8486629   114569   \n",
       "28399  hot97|\"hot97app\"|\"music\"|\"video\"|\"hip hop\"|\"ra...     931770    27082   \n",
       "28400                                             [none]    9419910   255386   \n",
       "28401  Flower of the Universe (From Disney's A Wrinkl...    1441725    24390   \n",
       "28402                                             [none]    1674907   127388   \n",
       "28403  YouTube Poop|\"YTP\"|\"Animation\"|\"Music\"|\"Gaming...    1674134    88854   \n",
       "28404  katy perry|\"juicy j\"|\"nirvana\"|\"queen\"|\"metall...    1230449    82977   \n",
       "28405  andrew|\"huang\"|\"andrew huang\"|\"music\"|\"musicia...    1291512    30304   \n",
       "28406  BOBBY|\"SONG\"|\"JUNE\"|\"DK\"|\"CHAN\"|\"BI\"|\"iKON\"|\"바...    3485395   151782   \n",
       "28407  LucastheSpider|\"Animation\"|\"3D Animation\"|\"VFX...    8982414   333141   \n",
       "28408  Look alive remix|\"drake look alive\"|\"blocboy j...    6966384   164663   \n",
       "28409  sneakerhead|\"complex\"|\"complex originals\"|\"sne...    1188853    29151   \n",
       "28410                                             [none]   72660090  1348854   \n",
       "28411  21 savage|\"offset\"|\"metro boomin\"|\"ric flair d...   69907195   835963   \n",
       "28412  Bad Bunny|\"Amorfoda\"|\"Dura\"|\"Daddy Yankee\"|\"Oz...  424538912  2818771   \n",
       "28413  Carrie|\"Underwood\"|\"The\"|\"Champion\"|\"UMG\"|\"Nas...   14178451   150743   \n",
       "28414  george ezra|\"george ezra pretty shining people...    1832031    31328   \n",
       "28415  P!nk|\"Pop\"|\"RCA Records Label\"|\"Whatever You W...    8679504    72998   \n",
       "28416  meghan trainor|\"no excuses\"|\"no excuses offici...   32324578   455891   \n",
       "28417  FloHola|\"Hola\"|\"Flo Music\"|\"flo music video\"|\"...    4375940    55565   \n",
       "28418  great big story|\"gbs\"|\"lag\"|\"documentary\"|\"doc...    1518753    43630   \n",
       "28419                                             [none]    1871106    71118   \n",
       "28420  Karol|\"Pineapple\"|\"Universal\"|\"Music\"|\"Latino\"...   54872560   491089   \n",
       "\n",
       "       dislikes  comment_count  \\\n",
       "0         10247           9479   \n",
       "1          2294           2757   \n",
       "2         43420         125882   \n",
       "3            12             37   \n",
       "4             2             30   \n",
       "5          1431           2333   \n",
       "6         21082          85067   \n",
       "7           749            624   \n",
       "8           147            211   \n",
       "9         15015          11473   \n",
       "10          266            448   \n",
       "11          125            298   \n",
       "12          816           2006   \n",
       "13         2693           2911   \n",
       "14        11682          11443   \n",
       "15         2146           1143   \n",
       "16          833            943   \n",
       "17         4083          12254   \n",
       "18         3394          20086   \n",
       "19         1830           3501   \n",
       "20          248            650   \n",
       "21         1502          10706   \n",
       "22         3167          13279   \n",
       "23          499           1392   \n",
       "24          292            440   \n",
       "25         1524           5864   \n",
       "26           77            642   \n",
       "27           81            305   \n",
       "28         2573          12248   \n",
       "29           14            114   \n",
       "...         ...            ...   \n",
       "28391       532           2210   \n",
       "28392     16026           8652   \n",
       "28393      5942          18771   \n",
       "28394      1963           3542   \n",
       "28395     17720          18896   \n",
       "28396     82606          58619   \n",
       "28397      2068          12009   \n",
       "28398     18945              0   \n",
       "28399       412           5966   \n",
       "28400      3572          18003   \n",
       "28401       501           1831   \n",
       "28402      2749          10205   \n",
       "28403       538           6268   \n",
       "28404       741           6723   \n",
       "28405      1164           1796   \n",
       "28406       780           8816   \n",
       "28407      5975          19469   \n",
       "28408      5411          20732   \n",
       "28409       282           3021   \n",
       "28410     24139          98495   \n",
       "28411     30861          40903   \n",
       "28412    149275          99380   \n",
       "28413      9483           7334   \n",
       "28414       656           1060   \n",
       "28415      2890           2182   \n",
       "28416     35823          28005   \n",
       "28417      1773           1327   \n",
       "28418       296           1570   \n",
       "28419      1016           5047   \n",
       "28420     19919          16826   \n",
       "\n",
       "                                       thumbnail_link  comments_disabled  \\\n",
       "0      https://i.ytimg.com/vi/Jw1Y-zhQURU/default.jpg              False   \n",
       "1      https://i.ytimg.com/vi/3s1rvMFUweQ/default.jpg              False   \n",
       "2      https://i.ytimg.com/vi/n1WpP7iowLc/default.jpg              False   \n",
       "3      https://i.ytimg.com/vi/PUTEiSjKwJU/default.jpg              False   \n",
       "4      https://i.ytimg.com/vi/rHwDegptbI4/default.jpg              False   \n",
       "5      https://i.ytimg.com/vi/AumaWl0TNBo/default.jpg              False   \n",
       "6      https://i.ytimg.com/vi/2Vv-BfVoq4g/default.jpg              False   \n",
       "7      https://i.ytimg.com/vi/-N5eucPMTTc/default.jpg              False   \n",
       "8      https://i.ytimg.com/vi/LMCuKltaY3M/default.jpg              False   \n",
       "9      https://i.ytimg.com/vi/9t9u_yPEidY/default.jpg              False   \n",
       "10     https://i.ytimg.com/vi/ONQ-fAp5X64/default.jpg              False   \n",
       "11     https://i.ytimg.com/vi/Dlwf5u2BLAg/default.jpg              False   \n",
       "12     https://i.ytimg.com/vi/NVCqz2BDfcQ/default.jpg              False   \n",
       "13     https://i.ytimg.com/vi/MyEqfBkzESU/default.jpg              False   \n",
       "14     https://i.ytimg.com/vi/b4vTZx_AtHk/default.jpg              False   \n",
       "15     https://i.ytimg.com/vi/BsfhHKx6ajA/default.jpg              False   \n",
       "16     https://i.ytimg.com/vi/DIU3xPdhCBI/default.jpg              False   \n",
       "17     https://i.ytimg.com/vi/pz95u3UVpaM/default.jpg              False   \n",
       "18     https://i.ytimg.com/vi/jp9hK-jY6yY/default.jpg              False   \n",
       "19     https://i.ytimg.com/vi/gEHCXl4J9Qo/default.jpg              False   \n",
       "20     https://i.ytimg.com/vi/OWvCCu2t6Ts/default.jpg              False   \n",
       "21     https://i.ytimg.com/vi/6p-QzY5bxJ0/default.jpg              False   \n",
       "22     https://i.ytimg.com/vi/fiusxyygqGk/default.jpg              False   \n",
       "23     https://i.ytimg.com/vi/QOksZ8VogRw/default.jpg              False   \n",
       "24     https://i.ytimg.com/vi/lo5ERI5nPbM/default.jpg              False   \n",
       "25     https://i.ytimg.com/vi/Ja_GMU7-sjs/default.jpg              False   \n",
       "26     https://i.ytimg.com/vi/_6ViZ13mN9I/default.jpg              False   \n",
       "27     https://i.ytimg.com/vi/F62QpaPWXDI/default.jpg              False   \n",
       "28     https://i.ytimg.com/vi/g5c1bk8weaQ/default.jpg              False   \n",
       "29     https://i.ytimg.com/vi/3qYt_fXdaXY/default.jpg              False   \n",
       "...                                               ...                ...   \n",
       "28391  https://i.ytimg.com/vi/zVVrfqwA5lQ/default.jpg              False   \n",
       "28392  https://i.ytimg.com/vi/y0PMqR7IbAQ/default.jpg              False   \n",
       "28393  https://i.ytimg.com/vi/425M4M3Opkk/default.jpg              False   \n",
       "28394  https://i.ytimg.com/vi/_AsPY1bQx70/default.jpg              False   \n",
       "28395  https://i.ytimg.com/vi/ToY6sjSV8h8/default.jpg              False   \n",
       "28396  https://i.ytimg.com/vi/LJjsm6CVsG8/default.jpg              False   \n",
       "28397  https://i.ytimg.com/vi/Ek3aeUhHaFY/default.jpg              False   \n",
       "28398  https://i.ytimg.com/vi/305ryPvU6A8/default.jpg               True   \n",
       "28399  https://i.ytimg.com/vi/kP3xrSPYi-0/default.jpg              False   \n",
       "28400  https://i.ytimg.com/vi/LjUXm0Zy_dk/default.jpg              False   \n",
       "28401  https://i.ytimg.com/vi/m7b8hitvfoE/default.jpg              False   \n",
       "28402  https://i.ytimg.com/vi/nCWKrEA4FBw/default.jpg              False   \n",
       "28403  https://i.ytimg.com/vi/aRsOBFhNjVM/default.jpg              False   \n",
       "28404  https://i.ytimg.com/vi/RQm0nKoODo4/default.jpg              False   \n",
       "28405  https://i.ytimg.com/vi/aq-phmpUJ_E/default.jpg              False   \n",
       "28406  https://i.ytimg.com/vi/sFLTqo2emQ8/default.jpg              False   \n",
       "28407  https://i.ytimg.com/vi/4HU6Z7anycw/default.jpg              False   \n",
       "28408  https://i.ytimg.com/vi/Wd_idMpg_qQ/default.jpg              False   \n",
       "28409  https://i.ytimg.com/vi/oSumNo-j-oc/default.jpg              False   \n",
       "28410  https://i.ytimg.com/vi/pgN-vvVVxMA/default.jpg              False   \n",
       "28411  https://i.ytimg.com/vi/LPTlvQ1Zet0/default.jpg              False   \n",
       "28412  https://i.ytimg.com/vi/_I_D_8Z4sJE/default.jpg              False   \n",
       "28413  https://i.ytimg.com/vi/HgknAaKNaMM/default.jpg              False   \n",
       "28414  https://i.ytimg.com/vi/XP32nDUMYS8/default.jpg              False   \n",
       "28415  https://i.ytimg.com/vi/xuAH21DkJow/default.jpg              False   \n",
       "28416  https://i.ytimg.com/vi/kton-qrKNLc/default.jpg              False   \n",
       "28417  https://i.ytimg.com/vi/2UByqalCfnk/default.jpg              False   \n",
       "28418  https://i.ytimg.com/vi/2VggEmXPnGw/default.jpg              False   \n",
       "28419  https://i.ytimg.com/vi/3v0c6smpHSk/default.jpg              False   \n",
       "28420  https://i.ytimg.com/vi/8q1NFlE17qs/default.jpg              False   \n",
       "\n",
       "       ratings_disabled  video_error_or_removed  \\\n",
       "0                 False                   False   \n",
       "1                 False                   False   \n",
       "2                 False                   False   \n",
       "3                 False                   False   \n",
       "4                 False                   False   \n",
       "5                 False                   False   \n",
       "6                 False                   False   \n",
       "7                 False                   False   \n",
       "8                 False                   False   \n",
       "9                 False                   False   \n",
       "10                False                   False   \n",
       "11                False                   False   \n",
       "12                False                   False   \n",
       "13                False                   False   \n",
       "14                False                   False   \n",
       "15                False                   False   \n",
       "16                False                   False   \n",
       "17                False                   False   \n",
       "18                False                   False   \n",
       "19                False                   False   \n",
       "20                False                   False   \n",
       "21                False                   False   \n",
       "22                False                   False   \n",
       "23                False                   False   \n",
       "24                False                   False   \n",
       "25                False                   False   \n",
       "26                False                   False   \n",
       "27                False                   False   \n",
       "28                False                   False   \n",
       "29                False                   False   \n",
       "...                 ...                     ...   \n",
       "28391             False                   False   \n",
       "28392             False                   False   \n",
       "28393             False                   False   \n",
       "28394             False                   False   \n",
       "28395             False                   False   \n",
       "28396             False                   False   \n",
       "28397             False                   False   \n",
       "28398             False                   False   \n",
       "28399             False                   False   \n",
       "28400             False                   False   \n",
       "28401             False                   False   \n",
       "28402             False                   False   \n",
       "28403             False                   False   \n",
       "28404             False                   False   \n",
       "28405             False                   False   \n",
       "28406             False                   False   \n",
       "28407             False                   False   \n",
       "28408             False                   False   \n",
       "28409             False                   False   \n",
       "28410             False                   False   \n",
       "28411             False                   False   \n",
       "28412             False                   False   \n",
       "28413             False                   False   \n",
       "28414             False                   False   \n",
       "28415             False                   False   \n",
       "28416             False                   False   \n",
       "28417             False                   False   \n",
       "28418             False                   False   \n",
       "28419             False                   False   \n",
       "28420             False                   False   \n",
       "\n",
       "                                             description  \n",
       "0      Click here to continue the story and make your...  \n",
       "1      Musical guest Taylor Swift performs …Ready for...  \n",
       "2      Eminem's new track Walk on Water ft. Beyoncé i...  \n",
       "3      Salford drew 4-4 against the Class of 92 and F...  \n",
       "4      Dashcam captures truck's near miss with child ...  \n",
       "5      ► HOW MY RELATIONSHIP STARTED!\\n► PB Merch • h...  \n",
       "6      🎧: https://ad.gt/yt-perfect\\n💰: https://atlant...  \n",
       "7      CHRISTMAS HAS GONE TO MY HEAD\\nPrevious Vlog: ...  \n",
       "8      “Golden Slumbers”, originally by The Beatles, ...  \n",
       "9      Jennifer Lopez ft. Wisin - Amor, Amor, Amor (O...  \n",
       "10     ➢ Join my FREE 7 Steps to Success - http://www...  \n",
       "11     More from Inside Edition: https://www.youtube....  \n",
       "12     Gucci Mane - Curve feat. The Weeknd\\n\\n Mr. Da...  \n",
       "13     -\\n\\n\\nWebsite - http://www.johnmaclean.co.uk\\...  \n",
       "14     Today I show you how to completely dry a shirt...  \n",
       "15     Trust us, there's nowhere else in the universe...  \n",
       "16     You have to watch this! Sam serenades a couple...  \n",
       "17     Havana – Spotify Vertical Video \\nVideo Direct...  \n",
       "18     You know that feeling when someone has a crush...  \n",
       "19     This intimate fan performance of Taylor Swift'...  \n",
       "20     A big chat about everything going on in my pre...  \n",
       "21     James and the young stars of Stranger Things -...  \n",
       "22     PURCHASE YOU & ME HERE ▶ https://smarturl.it/m...  \n",
       "23     Bastille - World Gone Mad from Bright: The Alb...  \n",
       "24     A Geek Mythology Production \\n\\nDirector Ben S...  \n",
       "25     Pixelbook is a $1000 2-in-1 laptop/tablet and ...  \n",
       "26     Every Friday on TMZ Sports UFC Welterweight Ch...  \n",
       "27     Subscribe and join the fam! http://www.youtube...  \n",
       "28     Having kids, having anxiety and not having boo...  \n",
       "29                                             episode 4  \n",
       "...                                                  ...  \n",
       "28391  Judas Priest - Spectre (Official Video)\\nTaken...  \n",
       "28392  Music video by Chris Jeday, Ozuna, Brytiago pe...  \n",
       "28393  The Hundred Acre Wood is opening up to our wor...  \n",
       "28394  Official video for Shinedown DEVIL\\n\\nThe new ...  \n",
       "28395  Rich The Kid’s debut album “The World Is Yours...  \n",
       "28396  Watch the official music video for Billy by 6I...  \n",
       "28397  At the old hut site (the new one being tempora...  \n",
       "28398  HomePod. The new sound of home. Directed by Sp...  \n",
       "28399  Royce Da 5'9' and Dj Premier shut it down for ...  \n",
       "28400      .\\n[MV] 마마무(MAMAMOO) - 별이 빛나는 밤(Starry night)  \n",
       "28401  Music video by Sade performing Flower of the U...  \n",
       "28402  This video is a look into a day in the studio ...  \n",
       "28403  I'm aware a Steamed Hams/Feel Good Inc. mashup...  \n",
       "28404  Watch the Allstar video I did with Seth ► http...  \n",
       "28405  Thanks to LEGO for sponsoring! Watch my episod...  \n",
       "28406  Download on iTunes : http://smarturl.it/iKON_R...  \n",
       "28407  Don't worry...Dexter is a spider friendly pup!...  \n",
       "28408  I'm Kind of A Big Deal Tour: http://www.joyner...  \n",
       "28409  P.J. Tucker goes Sneaker Shopping with Joe La ...  \n",
       "28410  enjoy.\\n\\n? HERE: https://xxxtentacion.lnk.to/...  \n",
       "28411  Without Warning available at\\nhttp://smarturl....  \n",
       "28412  Disponible en tu plataforma preferida:\\nhttps:...  \n",
       "28413  The Official Music Video for “The Champion” by...  \n",
       "28414  George Ezra - Pretty Shining People (Lyric Vid...  \n",
       "28415  P!NK's new album 'Beautiful Trauma' featuring ...  \n",
       "28416  No Excuses available at Spotify: http://smartu...  \n",
       "28417  Official video for Dancer stream + download ht...  \n",
       "28418  You might not know his face, but you’ve seen h...  \n",
       "28419  February's #Hamildrop collaboration with Weird...  \n",
       "28420  “Pineapple” de Karol G está disponible ya: htt...  \n",
       "\n",
       "[28421 rows x 16 columns]"
      ]
     },
     "execution_count": 3,
     "metadata": {},
     "output_type": "execute_result"
    }
   ],
   "source": [
    "GB_csv"
   ]
  },
  {
   "cell_type": "code",
   "execution_count": 4,
   "metadata": {},
   "outputs": [
    {
     "data": {
      "text/html": [
       "<div>\n",
       "<style>\n",
       "    .dataframe thead tr:only-child th {\n",
       "        text-align: right;\n",
       "    }\n",
       "\n",
       "    .dataframe thead th {\n",
       "        text-align: left;\n",
       "    }\n",
       "\n",
       "    .dataframe tbody tr th {\n",
       "        vertical-align: top;\n",
       "    }\n",
       "</style>\n",
       "<table border=\"1\" class=\"dataframe\">\n",
       "  <thead>\n",
       "    <tr style=\"text-align: right;\">\n",
       "      <th></th>\n",
       "      <th>count</th>\n",
       "      <th>mean</th>\n",
       "      <th>std</th>\n",
       "      <th>min</th>\n",
       "      <th>25%</th>\n",
       "      <th>50%</th>\n",
       "      <th>75%</th>\n",
       "      <th>max</th>\n",
       "    </tr>\n",
       "  </thead>\n",
       "  <tbody>\n",
       "    <tr>\n",
       "      <th>category_id</th>\n",
       "      <td>28421.0</td>\n",
       "      <td>1.744601e+01</td>\n",
       "      <td>7.690715e+00</td>\n",
       "      <td>1.0</td>\n",
       "      <td>10.0</td>\n",
       "      <td>22.0</td>\n",
       "      <td>24.0</td>\n",
       "      <td>29.0</td>\n",
       "    </tr>\n",
       "    <tr>\n",
       "      <th>views</th>\n",
       "      <td>28421.0</td>\n",
       "      <td>4.633962e+06</td>\n",
       "      <td>1.734725e+07</td>\n",
       "      <td>851.0</td>\n",
       "      <td>182820.0</td>\n",
       "      <td>689896.0</td>\n",
       "      <td>2515417.0</td>\n",
       "      <td>424538912.0</td>\n",
       "    </tr>\n",
       "    <tr>\n",
       "      <th>likes</th>\n",
       "      <td>28421.0</td>\n",
       "      <td>1.067375e+05</td>\n",
       "      <td>2.953774e+05</td>\n",
       "      <td>0.0</td>\n",
       "      <td>4372.0</td>\n",
       "      <td>17976.0</td>\n",
       "      <td>80521.0</td>\n",
       "      <td>4737873.0</td>\n",
       "    </tr>\n",
       "    <tr>\n",
       "      <th>dislikes</th>\n",
       "      <td>28421.0</td>\n",
       "      <td>6.917841e+03</td>\n",
       "      <td>5.758249e+04</td>\n",
       "      <td>0.0</td>\n",
       "      <td>150.0</td>\n",
       "      <td>583.0</td>\n",
       "      <td>2486.0</td>\n",
       "      <td>1944971.0</td>\n",
       "    </tr>\n",
       "    <tr>\n",
       "      <th>comment_count</th>\n",
       "      <td>28421.0</td>\n",
       "      <td>1.104017e+04</td>\n",
       "      <td>4.781586e+04</td>\n",
       "      <td>0.0</td>\n",
       "      <td>507.0</td>\n",
       "      <td>1795.0</td>\n",
       "      <td>6846.0</td>\n",
       "      <td>1626501.0</td>\n",
       "    </tr>\n",
       "  </tbody>\n",
       "</table>\n",
       "</div>"
      ],
      "text/plain": [
       "                 count          mean           std    min       25%       50%  \\\n",
       "category_id    28421.0  1.744601e+01  7.690715e+00    1.0      10.0      22.0   \n",
       "views          28421.0  4.633962e+06  1.734725e+07  851.0  182820.0  689896.0   \n",
       "likes          28421.0  1.067375e+05  2.953774e+05    0.0    4372.0   17976.0   \n",
       "dislikes       28421.0  6.917841e+03  5.758249e+04    0.0     150.0     583.0   \n",
       "comment_count  28421.0  1.104017e+04  4.781586e+04    0.0     507.0    1795.0   \n",
       "\n",
       "                     75%          max  \n",
       "category_id         24.0         29.0  \n",
       "views          2515417.0  424538912.0  \n",
       "likes            80521.0    4737873.0  \n",
       "dislikes          2486.0    1944971.0  \n",
       "comment_count     6846.0    1626501.0  "
      ]
     },
     "execution_count": 4,
     "metadata": {},
     "output_type": "execute_result"
    }
   ],
   "source": [
    "GB_csv.describe().T"
   ]
  },
  {
   "cell_type": "code",
   "execution_count": 5,
   "metadata": {},
   "outputs": [
    {
     "data": {
      "text/html": [
       "<div>\n",
       "<style>\n",
       "    .dataframe thead tr:only-child th {\n",
       "        text-align: right;\n",
       "    }\n",
       "\n",
       "    .dataframe thead th {\n",
       "        text-align: left;\n",
       "    }\n",
       "\n",
       "    .dataframe tbody tr th {\n",
       "        vertical-align: top;\n",
       "    }\n",
       "</style>\n",
       "<table border=\"1\" class=\"dataframe\">\n",
       "  <thead>\n",
       "    <tr style=\"text-align: right;\">\n",
       "      <th></th>\n",
       "      <th>category_id</th>\n",
       "      <th>views</th>\n",
       "      <th>likes</th>\n",
       "      <th>dislikes</th>\n",
       "      <th>comment_count</th>\n",
       "      <th>comments_disabled</th>\n",
       "      <th>ratings_disabled</th>\n",
       "      <th>video_error_or_removed</th>\n",
       "    </tr>\n",
       "  </thead>\n",
       "  <tbody>\n",
       "    <tr>\n",
       "      <th>category_id</th>\n",
       "      <td>1.000000</td>\n",
       "      <td>-0.147552</td>\n",
       "      <td>-0.165983</td>\n",
       "      <td>-0.003547</td>\n",
       "      <td>-0.030714</td>\n",
       "      <td>0.005277</td>\n",
       "      <td>-0.086374</td>\n",
       "      <td>NaN</td>\n",
       "    </tr>\n",
       "    <tr>\n",
       "      <th>views</th>\n",
       "      <td>-0.147552</td>\n",
       "      <td>1.000000</td>\n",
       "      <td>0.781430</td>\n",
       "      <td>0.346622</td>\n",
       "      <td>0.402749</td>\n",
       "      <td>0.010885</td>\n",
       "      <td>0.029793</td>\n",
       "      <td>NaN</td>\n",
       "    </tr>\n",
       "    <tr>\n",
       "      <th>likes</th>\n",
       "      <td>-0.165983</td>\n",
       "      <td>0.781430</td>\n",
       "      <td>1.000000</td>\n",
       "      <td>0.429384</td>\n",
       "      <td>0.665615</td>\n",
       "      <td>-0.039194</td>\n",
       "      <td>-0.032353</td>\n",
       "      <td>NaN</td>\n",
       "    </tr>\n",
       "    <tr>\n",
       "      <th>dislikes</th>\n",
       "      <td>-0.003547</td>\n",
       "      <td>0.346622</td>\n",
       "      <td>0.429384</td>\n",
       "      <td>1.000000</td>\n",
       "      <td>0.845927</td>\n",
       "      <td>-0.005813</td>\n",
       "      <td>-0.010756</td>\n",
       "      <td>NaN</td>\n",
       "    </tr>\n",
       "    <tr>\n",
       "      <th>comment_count</th>\n",
       "      <td>-0.030714</td>\n",
       "      <td>0.402749</td>\n",
       "      <td>0.665615</td>\n",
       "      <td>0.845927</td>\n",
       "      <td>1.000000</td>\n",
       "      <td>-0.031180</td>\n",
       "      <td>-0.019862</td>\n",
       "      <td>NaN</td>\n",
       "    </tr>\n",
       "    <tr>\n",
       "      <th>comments_disabled</th>\n",
       "      <td>0.005277</td>\n",
       "      <td>0.010885</td>\n",
       "      <td>-0.039194</td>\n",
       "      <td>-0.005813</td>\n",
       "      <td>-0.031180</td>\n",
       "      <td>1.000000</td>\n",
       "      <td>0.561426</td>\n",
       "      <td>NaN</td>\n",
       "    </tr>\n",
       "    <tr>\n",
       "      <th>ratings_disabled</th>\n",
       "      <td>-0.086374</td>\n",
       "      <td>0.029793</td>\n",
       "      <td>-0.032353</td>\n",
       "      <td>-0.010756</td>\n",
       "      <td>-0.019862</td>\n",
       "      <td>0.561426</td>\n",
       "      <td>1.000000</td>\n",
       "      <td>NaN</td>\n",
       "    </tr>\n",
       "    <tr>\n",
       "      <th>video_error_or_removed</th>\n",
       "      <td>NaN</td>\n",
       "      <td>NaN</td>\n",
       "      <td>NaN</td>\n",
       "      <td>NaN</td>\n",
       "      <td>NaN</td>\n",
       "      <td>NaN</td>\n",
       "      <td>NaN</td>\n",
       "      <td>NaN</td>\n",
       "    </tr>\n",
       "  </tbody>\n",
       "</table>\n",
       "</div>"
      ],
      "text/plain": [
       "                        category_id     views     likes  dislikes  \\\n",
       "category_id                1.000000 -0.147552 -0.165983 -0.003547   \n",
       "views                     -0.147552  1.000000  0.781430  0.346622   \n",
       "likes                     -0.165983  0.781430  1.000000  0.429384   \n",
       "dislikes                  -0.003547  0.346622  0.429384  1.000000   \n",
       "comment_count             -0.030714  0.402749  0.665615  0.845927   \n",
       "comments_disabled          0.005277  0.010885 -0.039194 -0.005813   \n",
       "ratings_disabled          -0.086374  0.029793 -0.032353 -0.010756   \n",
       "video_error_or_removed          NaN       NaN       NaN       NaN   \n",
       "\n",
       "                        comment_count  comments_disabled  ratings_disabled  \\\n",
       "category_id                 -0.030714           0.005277         -0.086374   \n",
       "views                        0.402749           0.010885          0.029793   \n",
       "likes                        0.665615          -0.039194         -0.032353   \n",
       "dislikes                     0.845927          -0.005813         -0.010756   \n",
       "comment_count                1.000000          -0.031180         -0.019862   \n",
       "comments_disabled           -0.031180           1.000000          0.561426   \n",
       "ratings_disabled            -0.019862           0.561426          1.000000   \n",
       "video_error_or_removed            NaN                NaN               NaN   \n",
       "\n",
       "                        video_error_or_removed  \n",
       "category_id                                NaN  \n",
       "views                                      NaN  \n",
       "likes                                      NaN  \n",
       "dislikes                                   NaN  \n",
       "comment_count                              NaN  \n",
       "comments_disabled                          NaN  \n",
       "ratings_disabled                           NaN  \n",
       "video_error_or_removed                     NaN  "
      ]
     },
     "execution_count": 5,
     "metadata": {},
     "output_type": "execute_result"
    }
   ],
   "source": [
    "GB_csv.corr()"
   ]
  },
  {
   "cell_type": "code",
   "execution_count": 6,
   "metadata": {},
   "outputs": [
    {
     "data": {
      "text/plain": [
       "6917.840681186447"
      ]
     },
     "execution_count": 6,
     "metadata": {},
     "output_type": "execute_result"
    }
   ],
   "source": [
    "GB_csv['dislikes'].mean()"
   ]
  },
  {
   "cell_type": "code",
   "execution_count": 7,
   "metadata": {
    "scrolled": true
   },
   "outputs": [
    {
     "data": {
      "text/plain": [
       "<bound method Series.median of 0         10247\n",
       "1          2294\n",
       "2         43420\n",
       "3            12\n",
       "4             2\n",
       "5          1431\n",
       "6         21082\n",
       "7           749\n",
       "8           147\n",
       "9         15015\n",
       "10          266\n",
       "11          125\n",
       "12          816\n",
       "13         2693\n",
       "14        11682\n",
       "15         2146\n",
       "16          833\n",
       "17         4083\n",
       "18         3394\n",
       "19         1830\n",
       "20          248\n",
       "21         1502\n",
       "22         3167\n",
       "23          499\n",
       "24          292\n",
       "25         1524\n",
       "26           77\n",
       "27           81\n",
       "28         2573\n",
       "29           14\n",
       "          ...  \n",
       "28391       532\n",
       "28392     16026\n",
       "28393      5942\n",
       "28394      1963\n",
       "28395     17720\n",
       "28396     82606\n",
       "28397      2068\n",
       "28398     18945\n",
       "28399       412\n",
       "28400      3572\n",
       "28401       501\n",
       "28402      2749\n",
       "28403       538\n",
       "28404       741\n",
       "28405      1164\n",
       "28406       780\n",
       "28407      5975\n",
       "28408      5411\n",
       "28409       282\n",
       "28410     24139\n",
       "28411     30861\n",
       "28412    149275\n",
       "28413      9483\n",
       "28414       656\n",
       "28415      2890\n",
       "28416     35823\n",
       "28417      1773\n",
       "28418       296\n",
       "28419      1016\n",
       "28420     19919\n",
       "Name: dislikes, Length: 28421, dtype: int64>"
      ]
     },
     "execution_count": 7,
     "metadata": {},
     "output_type": "execute_result"
    }
   ],
   "source": [
    "GB_csv['dislikes'].median"
   ]
  },
  {
   "cell_type": "code",
   "execution_count": 8,
   "metadata": {
    "scrolled": true
   },
   "outputs": [
    {
     "data": {
      "text/plain": [
       "0         320\n",
       "15        104\n",
       "11         84\n",
       "3          84\n",
       "12         81\n",
       "17         80\n",
       "22         80\n",
       "27         78\n",
       "79         74\n",
       "77         73\n",
       "21         72\n",
       "80         72\n",
       "16         71\n",
       "7          69\n",
       "44         68\n",
       "2          68\n",
       "38         67\n",
       "54         67\n",
       "14         65\n",
       "8          65\n",
       "39         64\n",
       "26         64\n",
       "51         64\n",
       "91         62\n",
       "52         61\n",
       "50         60\n",
       "37         60\n",
       "20         58\n",
       "75         57\n",
       "40         57\n",
       "         ... \n",
       "6052        1\n",
       "6831        1\n",
       "8101        1\n",
       "1958        1\n",
       "4007        1\n",
       "192427      1\n",
       "1974        1\n",
       "4023        1\n",
       "22460       1\n",
       "2733        1\n",
       "6004        1\n",
       "4846        1\n",
       "64211       1\n",
       "70561       1\n",
       "14112       1\n",
       "10985       1\n",
       "3879        1\n",
       "2781        1\n",
       "3895        1\n",
       "63288       1\n",
       "8005        1\n",
       "12147       1\n",
       "6847        1\n",
       "12115       1\n",
       "8021        1\n",
       "107192      1\n",
       "94043       1\n",
       "24413       1\n",
       "185014      1\n",
       "14321       1\n",
       "Name: dislikes, Length: 8083, dtype: int64"
      ]
     },
     "execution_count": 8,
     "metadata": {},
     "output_type": "execute_result"
    }
   ],
   "source": [
    "GB_csv['dislikes'].value_counts()"
   ]
  },
  {
   "cell_type": "markdown",
   "metadata": {
    "collapsed": true
   },
   "source": [
    "## Cleaning GB_csv"
   ]
  },
  {
   "cell_type": "code",
   "execution_count": 9,
   "metadata": {},
   "outputs": [
    {
     "data": {
      "text/plain": [
       "video_id                  object\n",
       "trending_date             object\n",
       "title                     object\n",
       "channel_title             object\n",
       "category_id                int64\n",
       "publish_time              object\n",
       "tags                      object\n",
       "views                      int64\n",
       "likes                      int64\n",
       "dislikes                   int64\n",
       "comment_count              int64\n",
       "thumbnail_link            object\n",
       "comments_disabled           bool\n",
       "ratings_disabled            bool\n",
       "video_error_or_removed      bool\n",
       "description               object\n",
       "dtype: object"
      ]
     },
     "execution_count": 9,
     "metadata": {},
     "output_type": "execute_result"
    }
   ],
   "source": [
    "#Need to convert object to category?\n",
    "GB_csv.dtypes"
   ]
  },
  {
   "cell_type": "code",
   "execution_count": 10,
   "metadata": {},
   "outputs": [
    {
     "data": {
      "text/plain": [
       "Index(['video_id', 'trending_date', 'title', 'channel_title', 'publish_time',\n",
       "       'tags', 'thumbnail_link', 'description'],\n",
       "      dtype='object')"
      ]
     },
     "execution_count": 10,
     "metadata": {},
     "output_type": "execute_result"
    }
   ],
   "source": [
    "#Select all columns of type 'object'\n",
    "object_columns = GB_csv.select_dtypes(['object']).columns\n",
    "object_columns"
   ]
  },
  {
   "cell_type": "code",
   "execution_count": 11,
   "metadata": {},
   "outputs": [
    {
     "data": {
      "text/plain": [
       "video_id                  category\n",
       "trending_date             category\n",
       "title                     category\n",
       "channel_title             category\n",
       "category_id                  int64\n",
       "publish_time              category\n",
       "tags                      category\n",
       "views                        int64\n",
       "likes                        int64\n",
       "dislikes                     int64\n",
       "comment_count                int64\n",
       "thumbnail_link            category\n",
       "comments_disabled             bool\n",
       "ratings_disabled              bool\n",
       "video_error_or_removed        bool\n",
       "description               category\n",
       "dtype: object"
      ]
     },
     "execution_count": 11,
     "metadata": {},
     "output_type": "execute_result"
    }
   ],
   "source": [
    "#Convert selected columns to type 'category'\n",
    "for column in object_columns: \n",
    "    GB_csv[column] = GB_csv[column].astype('category')\n",
    "GB_csv.dtypes   "
   ]
  },
  {
   "cell_type": "code",
   "execution_count": 12,
   "metadata": {},
   "outputs": [
    {
     "data": {
      "text/plain": [
       "video_id                    0\n",
       "trending_date               0\n",
       "title                       0\n",
       "channel_title               0\n",
       "category_id                 0\n",
       "publish_time                0\n",
       "tags                        0\n",
       "views                       0\n",
       "likes                       0\n",
       "dislikes                    0\n",
       "comment_count               0\n",
       "thumbnail_link              0\n",
       "comments_disabled           0\n",
       "ratings_disabled            0\n",
       "video_error_or_removed      0\n",
       "description               375\n",
       "dtype: int64"
      ]
     },
     "execution_count": 12,
     "metadata": {},
     "output_type": "execute_result"
    }
   ],
   "source": [
    "#Checking for null values\n",
    "GB_csv.isnull().sum()"
   ]
  },
  {
   "cell_type": "code",
   "execution_count": 13,
   "metadata": {
    "scrolled": true
   },
   "outputs": [
    {
     "data": {
      "text/plain": [
       "0        Click here to continue the story and make your...\n",
       "1        Musical guest Taylor Swift performs …Ready for...\n",
       "2        Eminem's new track Walk on Water ft. Beyoncé i...\n",
       "3        Salford drew 4-4 against the Class of 92 and F...\n",
       "4        Dashcam captures truck's near miss with child ...\n",
       "5        ► HOW MY RELATIONSHIP STARTED!\\n► PB Merch • h...\n",
       "6        🎧: https://ad.gt/yt-perfect\\n💰: https://atlant...\n",
       "7        CHRISTMAS HAS GONE TO MY HEAD\\nPrevious Vlog: ...\n",
       "8        “Golden Slumbers”, originally by The Beatles, ...\n",
       "9        Jennifer Lopez ft. Wisin - Amor, Amor, Amor (O...\n",
       "10       ➢ Join my FREE 7 Steps to Success - http://www...\n",
       "11       More from Inside Edition: https://www.youtube....\n",
       "12       Gucci Mane - Curve feat. The Weeknd\\n\\n Mr. Da...\n",
       "13       -\\n\\n\\nWebsite - http://www.johnmaclean.co.uk\\...\n",
       "14       Today I show you how to completely dry a shirt...\n",
       "15       Trust us, there's nowhere else in the universe...\n",
       "16       You have to watch this! Sam serenades a couple...\n",
       "17       Havana – Spotify Vertical Video \\nVideo Direct...\n",
       "18       You know that feeling when someone has a crush...\n",
       "19       This intimate fan performance of Taylor Swift'...\n",
       "20       A big chat about everything going on in my pre...\n",
       "21       James and the young stars of Stranger Things -...\n",
       "22       PURCHASE YOU & ME HERE ▶ https://smarturl.it/m...\n",
       "23       Bastille - World Gone Mad from Bright: The Alb...\n",
       "24       A Geek Mythology Production \\n\\nDirector Ben S...\n",
       "25       Pixelbook is a $1000 2-in-1 laptop/tablet and ...\n",
       "26       Every Friday on TMZ Sports UFC Welterweight Ch...\n",
       "27       Subscribe and join the fam! http://www.youtube...\n",
       "28       Having kids, having anxiety and not having boo...\n",
       "29                                               episode 4\n",
       "                               ...                        \n",
       "28391    Judas Priest - Spectre (Official Video)\\nTaken...\n",
       "28392    Music video by Chris Jeday, Ozuna, Brytiago pe...\n",
       "28393    The Hundred Acre Wood is opening up to our wor...\n",
       "28394    Official video for Shinedown DEVIL\\n\\nThe new ...\n",
       "28395    Rich The Kid’s debut album “The World Is Yours...\n",
       "28396    Watch the official music video for Billy by 6I...\n",
       "28397    At the old hut site (the new one being tempora...\n",
       "28398    HomePod. The new sound of home. Directed by Sp...\n",
       "28399    Royce Da 5'9' and Dj Premier shut it down for ...\n",
       "28400        .\\n[MV] 마마무(MAMAMOO) - 별이 빛나는 밤(Starry night)\n",
       "28401    Music video by Sade performing Flower of the U...\n",
       "28402    This video is a look into a day in the studio ...\n",
       "28403    I'm aware a Steamed Hams/Feel Good Inc. mashup...\n",
       "28404    Watch the Allstar video I did with Seth ► http...\n",
       "28405    Thanks to LEGO for sponsoring! Watch my episod...\n",
       "28406    Download on iTunes : http://smarturl.it/iKON_R...\n",
       "28407    Don't worry...Dexter is a spider friendly pup!...\n",
       "28408    I'm Kind of A Big Deal Tour: http://www.joyner...\n",
       "28409    P.J. Tucker goes Sneaker Shopping with Joe La ...\n",
       "28410    enjoy.\\n\\n? HERE: https://xxxtentacion.lnk.to/...\n",
       "28411    Without Warning available at\\nhttp://smarturl....\n",
       "28412    Disponible en tu plataforma preferida:\\nhttps:...\n",
       "28413    The Official Music Video for “The Champion” by...\n",
       "28414    George Ezra - Pretty Shining People (Lyric Vid...\n",
       "28415    P!NK's new album 'Beautiful Trauma' featuring ...\n",
       "28416    No Excuses available at Spotify: http://smartu...\n",
       "28417    Official video for Dancer stream + download ht...\n",
       "28418    You might not know his face, but you’ve seen h...\n",
       "28419    February's #Hamildrop collaboration with Weird...\n",
       "28420    “Pineapple” de Karol G está disponible ya: htt...\n",
       "Name: description, Length: 28421, dtype: category\n",
       "Categories (2825, object): [, #90DayFiance | Sundays at 9/8c\\nAnnie is caugh..., #Annihilation stars Natalie Portman, Jennifer ..., #BackInTheGame - 4.1.18, ..., 💜POP 2 OUT NOW 💜\\nListen: http://atlanti.cr/po..., 📷 Instagram: http://instagram.com/joankeem\\n🐥 ..., 📷 Instagram: http://instagram.com/joankeem\\n🐥 ..., 🔥 G Eazy & Halsey - Him & I (RMND Remix)\\n👑 Tr...]"
      ]
     },
     "execution_count": 13,
     "metadata": {},
     "output_type": "execute_result"
    }
   ],
   "source": [
    "GB_csv['description']"
   ]
  },
  {
   "cell_type": "code",
   "execution_count": 14,
   "metadata": {
    "collapsed": true
   },
   "outputs": [],
   "source": [
    "#for every empty description value in GB_csv, convert to NaN\n",
    "#GB_csv.select_dtypes(['object']).describe().T"
   ]
  },
  {
   "cell_type": "code",
   "execution_count": 15,
   "metadata": {
    "collapsed": true,
    "scrolled": true
   },
   "outputs": [],
   "source": [
    "#convert null values to 0\n",
    "GB_csv['description'] = GB_csv[['description']].replace('none', 0)"
   ]
  },
  {
   "cell_type": "code",
   "execution_count": 16,
   "metadata": {
    "scrolled": true
   },
   "outputs": [
    {
     "data": {
      "text/plain": [
       "28321    Tattooed In Reverse is from the Marilyn Manson...\n",
       "28322    Shattered Grid Official Trailer starring Jason...\n",
       "28323    Pre-order #ASOT2018: https://ASOT.lnk.to/2018Y...\n",
       "28324    Hardwell LIVE at Ultra Miami 2018\\nRevealed Mi...\n",
       "28325    Two-for-one ultrasound coupons followed by wor...\n",
       "28326    Panic! At The Disco’s music video for ‘Say Ame...\n",
       "28327    Scene from Strawinsky and the mysterious house...\n",
       "28328    Multi: http://smarturl.it/xRMTF\\n \\nApple Musi...\n",
       "28329    Music video by grandson performing Thoughts an...\n",
       "28330    Watch the official trailer for Cobra Kai, a Yo...\n",
       "28331    A compilation of Simpson's i didn't understand...\n",
       "28332    Panic! At The Disco's official audio for '(Fuc...\n",
       "28333    KYLE - Playinwitme feat. Kehlani\\nBuy/Stream: ...\n",
       "28334    SUBSCRIBE: http://bit.ly/A24subscribe\\n\\nFrom ...\n",
       "28335    Peek into the future of real-time computer gra...\n",
       "28336    Burn The Priest Legion: XX / Inherit The Earth...\n",
       "28337    I was lucky enough to lay the original demo fo...\n",
       "28338    Music video by Jhené Aiko featuring Kurupt per...\n",
       "28339    Listen to Culture II everywhere now: https://M...\n",
       "28340    Pop star Camila Cabello performed her hit song...\n",
       "28341    Subscribe ► http://bit.ly/1Jy0DbO\\n\\nWatch Car...\n",
       "28342    Watch the official trailer for Morgan Neville'...\n",
       "28343    I Don't Think About You available now: https:/...\n",
       "28344    Late Late Show music guest Iggy Azalea returns...\n",
       "28345    A portion of the proceeds from this record wil...\n",
       "28346    Ninja Reacts to Jake Paul using him in his tit...\n",
       "28347    Iman Shumpert tells the story of how he met an...\n",
       "28348    Annihilation is a 2018 science fiction horror ...\n",
       "28349    ‘거침없이’는 세븐틴의 뮤직 프로듀서인 우지가 직접 곡 작업에 참여했고, 작사에는 ...\n",
       "28350    Hey beauties! So I finally went to Primark for...\n",
       "                               ...                        \n",
       "28391    Judas Priest - Spectre (Official Video)\\nTaken...\n",
       "28392    Music video by Chris Jeday, Ozuna, Brytiago pe...\n",
       "28393    The Hundred Acre Wood is opening up to our wor...\n",
       "28394    Official video for Shinedown DEVIL\\n\\nThe new ...\n",
       "28395    Rich The Kid’s debut album “The World Is Yours...\n",
       "28396    Watch the official music video for Billy by 6I...\n",
       "28397    At the old hut site (the new one being tempora...\n",
       "28398    HomePod. The new sound of home. Directed by Sp...\n",
       "28399    Royce Da 5'9' and Dj Premier shut it down for ...\n",
       "28400        .\\n[MV] 마마무(MAMAMOO) - 별이 빛나는 밤(Starry night)\n",
       "28401    Music video by Sade performing Flower of the U...\n",
       "28402    This video is a look into a day in the studio ...\n",
       "28403    I'm aware a Steamed Hams/Feel Good Inc. mashup...\n",
       "28404    Watch the Allstar video I did with Seth ► http...\n",
       "28405    Thanks to LEGO for sponsoring! Watch my episod...\n",
       "28406    Download on iTunes : http://smarturl.it/iKON_R...\n",
       "28407    Don't worry...Dexter is a spider friendly pup!...\n",
       "28408    I'm Kind of A Big Deal Tour: http://www.joyner...\n",
       "28409    P.J. Tucker goes Sneaker Shopping with Joe La ...\n",
       "28410    enjoy.\\n\\n? HERE: https://xxxtentacion.lnk.to/...\n",
       "28411    Without Warning available at\\nhttp://smarturl....\n",
       "28412    Disponible en tu plataforma preferida:\\nhttps:...\n",
       "28413    The Official Music Video for “The Champion” by...\n",
       "28414    George Ezra - Pretty Shining People (Lyric Vid...\n",
       "28415    P!NK's new album 'Beautiful Trauma' featuring ...\n",
       "28416    No Excuses available at Spotify: http://smartu...\n",
       "28417    Official video for Dancer stream + download ht...\n",
       "28418    You might not know his face, but you’ve seen h...\n",
       "28419    February's #Hamildrop collaboration with Weird...\n",
       "28420    “Pineapple” de Karol G está disponible ya: htt...\n",
       "Name: description, Length: 100, dtype: object"
      ]
     },
     "execution_count": 16,
     "metadata": {},
     "output_type": "execute_result"
    }
   ],
   "source": [
    "GB_csv['description'].tail(100)"
   ]
  },
  {
   "cell_type": "code",
   "execution_count": 17,
   "metadata": {
    "scrolled": true
   },
   "outputs": [
    {
     "data": {
      "text/plain": [
       "BhIEIO0vaBE    38\n",
       "NooW_RbfdWI    38\n",
       "2z3EUY1aXdY    38\n",
       "dzxFdtWmjto    37\n",
       "tGRzz0oqgUE    37\n",
       "4uTNVumfm84    37\n",
       "YBpdL9hSac4    37\n",
       "elwTgpHlty0    37\n",
       "Q17z9a03YaM    37\n",
       "ABLsSWE06q4    37\n",
       "V5cOvyDpWfM    37\n",
       "VwAnsAUYnw4    36\n",
       "kton-qrKNLc    36\n",
       "h-6fIyaVmDM    36\n",
       "r1CMjQ0QJ1E    36\n",
       "kLpH1nSLJSs    36\n",
       "_0ovuLsnU1A    36\n",
       "xuAH21DkJow    36\n",
       "BQ31l1gPGKM    36\n",
       "sZoZryCb0P0    36\n",
       "_I_D_8Z4sJE    36\n",
       "JQbjS0_ZfJ0    36\n",
       "wbSwFU6tY1c    36\n",
       "mcsTWPSMDtg    36\n",
       "AHwZBYCwxPY    36\n",
       "2ATuTL5i0_c    36\n",
       "9S1Gc1nSXd4    36\n",
       "2UByqalCfnk    36\n",
       "T3hXC5yNZOc    36\n",
       "TXHB9wL4WFg    36\n",
       "               ..\n",
       "7snvaAmSHo8     1\n",
       "ofdSsBKW6NU     1\n",
       "86atbRCxDgw     1\n",
       "ZEkImgh--PE     1\n",
       "8DR0RhpKp2k     1\n",
       "MnK9_fWPT3Y     1\n",
       "ZcTZJiBTCXA     1\n",
       "Zqh2DS7oIbU     1\n",
       "o8Z_FMVbJqI     1\n",
       "Zt803kKQ41k     1\n",
       "8U88dHTfDiA     1\n",
       "nshmwFK3yd8     1\n",
       "p6keMgLmFEk     1\n",
       "pA5NbgdpRpk     1\n",
       "7HJw7_fmwjY     1\n",
       "pRN7UAGVzPE     1\n",
       "gOh2XtaPDWk     1\n",
       "pVgx8pYpwRE     1\n",
       "7DLKv39MLbg     1\n",
       "pfGq40iHpME     1\n",
       "Y9PYlF43i3g     1\n",
       "Y5Zu1P4Hg3E     1\n",
       "Xz66QlXXYyw     1\n",
       "pykyNOEVqCU     1\n",
       "XthLQZWIshQ     1\n",
       "MXzEbAv0QN0     1\n",
       "q2_8cSXTtDY     1\n",
       "6m0lnvcQPP0     1\n",
       "MkR8GY2YBAU     1\n",
       "Rtyv9919Lh0     1\n",
       "Name: video_id, Length: 2618, dtype: int64"
      ]
     },
     "execution_count": 17,
     "metadata": {},
     "output_type": "execute_result"
    }
   ],
   "source": [
    "GB_csv['video_id'].value_counts()"
   ]
  },
  {
   "cell_type": "code",
   "execution_count": 18,
   "metadata": {
    "scrolled": true
   },
   "outputs": [
    {
     "data": {
      "text/plain": [
       "18.06.04    200\n",
       "17.30.12    200\n",
       "18.01.01    200\n",
       "18.01.03    200\n",
       "17.15.12    200\n",
       "18.02.01    200\n",
       "18.02.03    200\n",
       "18.03.01    200\n",
       "18.03.03    200\n",
       "17.14.12    200\n",
       "18.04.01    200\n",
       "18.04.03    200\n",
       "17.14.11    200\n",
       "18.05.01    200\n",
       "18.05.03    200\n",
       "17.13.12    200\n",
       "18.06.01    200\n",
       "18.06.02    200\n",
       "18.06.03    200\n",
       "18.07.01    200\n",
       "18.07.02    200\n",
       "18.07.03    200\n",
       "17.12.12    200\n",
       "18.08.01    200\n",
       "18.08.02    200\n",
       "18.08.03    200\n",
       "18.09.01    200\n",
       "17.31.12    200\n",
       "17.30.11    200\n",
       "18.10.03    200\n",
       "           ... \n",
       "18.05.02    199\n",
       "18.16.02    199\n",
       "18.01.02    199\n",
       "18.15.02    199\n",
       "18.24.02    199\n",
       "18.31.01    199\n",
       "18.22.02    199\n",
       "18.22.03    199\n",
       "18.14.02    199\n",
       "18.23.02    199\n",
       "18.04.02    199\n",
       "18.11.02    199\n",
       "17.01.12    198\n",
       "18.27.03    198\n",
       "18.19.03    197\n",
       "18.07.04    197\n",
       "18.25.03    197\n",
       "18.20.03    196\n",
       "18.05.04    194\n",
       "18.26.03    193\n",
       "18.28.03    193\n",
       "18.16.03    193\n",
       "18.18.03    193\n",
       "18.03.04    191\n",
       "18.31.03    188\n",
       "18.04.04    188\n",
       "18.29.03    187\n",
       "18.30.03    186\n",
       "18.02.04    182\n",
       "18.01.04    182\n",
       "Name: trending_date, Length: 143, dtype: int64"
      ]
     },
     "execution_count": 18,
     "metadata": {},
     "output_type": "execute_result"
    }
   ],
   "source": [
    "GB_csv['trending_date'].value_counts()"
   ]
  },
  {
   "cell_type": "code",
   "execution_count": 19,
   "metadata": {},
   "outputs": [
    {
     "data": {
      "text/plain": [
       "Maroon 5 - Wait                                                                                   40\n",
       "Justin Timberlake’s FULL Pepsi Super Bowl LII Halftime Show! | NFL Highlights                     38\n",
       "Jurassic World: Fallen Kingdom - Official Trailer #2 [HD]                                         38\n",
       "To Our Daughter                                                                                   38\n",
       "Incredibles 2 - Olympics Sneak Peek                                                               37\n",
       "Fergie Performs The U.S. National Anthem / 2018 NBA All-Star Game                                 37\n",
       "VENOM - Official Teaser Trailer (HD)                                                              37\n",
       "Janelle Monáe – Make Me Feel [Official Music Video]                                               37\n",
       "Rich Brian - Cold (Official Music Video)                                                          37\n",
       "Whethan, Dua Lipa - High (Audio)                                                                  37\n",
       "Iggy Azalea - Savior ft. Quavo                                                                    36\n",
       "Karol G - Pineapple                                                                               36\n",
       "Tory Lanez Kills The 5 Fingers of Death (9 Minute Freestyle)                                      36\n",
       "Migos x Tasty Whip Up Stir Fry                                                                    36\n",
       "CRISTIANO RONALDO E FRED, O GRANDE ENCONTRO                                                       36\n",
       "Flo Rida - Dancer (Official Video)                                                                36\n",
       "J. Balvin - Ahora                                                                                 36\n",
       "Meghan Trainor - No Excuses                                                                       36\n",
       "Kendrick Lamar, SZA - All The Stars                                                               36\n",
       "Rick Ross - Florida Boy ft. T-Pain, Kodak Black                                                   36\n",
       "Falcon Heavy Test Flight                                                                          36\n",
       "Jay Rock, Kendrick Lamar, Future, James Blake - King's Dead                                       36\n",
       "TWICE「BRAND NEW GIRL」Music Video                                                                  36\n",
       "2CELLOS - Perfect - Ed Sheeran                                                                    36\n",
       "P!nk - Whatever You Want (Official Video)                                                         36\n",
       "I tried following a Kylie Jenner Makeup Tutorial... Realizing things😂...                          36\n",
       "Deadpool, Meet Cable                                                                              36\n",
       "Khalid & Normani - Love Lies (Official Video)                                                     36\n",
       "Bad Bunny - Amorfoda | Video Oficial                                                              36\n",
       "BlocBoy JB & Drake Look Alive Prod By: Tay Keith (Official Music Video) Shot By: @Fredrivk_Ali    36\n",
       "                                                                                                  ..\n",
       "Scott Baio's Response To Nicole Eggert via Facebook Live                                           1\n",
       "Whisper Challenge Part 2! ♥ Three Cheers For New Years ♥ 15                                        1\n",
       "My Coat Collection | Amelia Liana                                                                  1\n",
       "My Friends Ruined My Tree?! (Clickbait) - COLLABMAS DAY THREE!                                     1\n",
       "OCEAN'S 8 - Trailer Teaser                                                                         1\n",
       "How To Have Fun With Dogs - More Fun More Excited With Your Pet                                    1\n",
       "STOP Doing Planks Like That!                                                                       1\n",
       "FLATBUSH ZOMBiES - VACATION (The-Movie)                                                            1\n",
       "Nipsey Hussle - Rap Niggas (Official Video)                                                        1\n",
       "Wendy Williams Faints On Live TV                                                                   1\n",
       "Avengers: Infinity War Trailer Tease                                                               1\n",
       "Nicky Jam x J. Balvin - X (EQUIS) | Video Oficial                                                  1\n",
       "Bryson Tiller on being in a dark place after Trapsoul                                              1\n",
       "I Am Iron Man: Iron Man 3 Ending Scene                                                             1\n",
       "What Happened to Marvel Heroes w/Anthony Gallegos - Kinda Funny Games Daily 11.27.17               1\n",
       "I Feel Pretty | Official Trailer | April 20, 2018                                                  1\n",
       "Netta - TOY - Israel - Official Music Music - Eurovision 2018                                      1\n",
       "Sam Smith: One Last Song                                                                           1\n",
       "Name That Song Challenge with Blake Shelton                                                        1\n",
       "Expert Explains One Concept in 5 Levels of Difficulty - Blockchain | WIRED                         1\n",
       "I'M BACK! 31 DAYS OFFLINE | Lily Pebbles                                                           1\n",
       "CHRISTMAS HAS GONE TO MY HEAD                                                                      1\n",
       "When The Curtain Falls | COVER REVEAL!                                                             1\n",
       "Sammi Maria, Blogger & Vlogger | THE SUNDAY SOCIAL | Lucy Moon                                     1\n",
       "I, Tonya Trailer #1 (2017) | Movieclips Trailers                                                   1\n",
       "CHRISTMAS Rewind Medley 2017 ft. Jake Paul Taylor Swift Despacito Bruno Mars Katy Perry            1\n",
       "If Rey Were Luke - A New Hope: Mary Sue Edition                                                    1\n",
       "Anthony Davis opens up in one-on-one interview with Rachel Nichols | The Jump | ESPN               1\n",
       "Top 10 Lame Things To Do At Disney World                                                           1\n",
       "The Gentlemen's Chorus Sings Green Day's Good Riddance                                             1\n",
       "Name: title, Length: 2692, dtype: int64"
      ]
     },
     "execution_count": 19,
     "metadata": {},
     "output_type": "execute_result"
    }
   ],
   "source": [
    "GB_csv['title'].value_counts()"
   ]
  },
  {
   "cell_type": "code",
   "execution_count": 20,
   "metadata": {
    "scrolled": true
   },
   "outputs": [
    {
     "data": {
      "text/plain": [
       "The Tonight Show Starring Jimmy Fallon    143\n",
       "TheEllenShow                              143\n",
       "Jimmy Kimmel Live                         142\n",
       "Saturday Night Live                       141\n",
       "WWE                                       140\n",
       "SMTOWN                                    138\n",
       "The Late Late Show with James Corden      137\n",
       "Breakfast Club Power 105.1 FM             129\n",
       "Late Night with Seth Meyers               129\n",
       "Netflix                                   125\n",
       "The Late Show with Stephen Colbert        125\n",
       "TMZSports                                 118\n",
       "Warner Bros. Pictures                     117\n",
       "jypentertainment                          115\n",
       "HBO                                       109\n",
       "CNN                                       107\n",
       "BBC Radio 1                               107\n",
       "ESPN                                      106\n",
       "Movieclips Trailers                       101\n",
       "RedLetterMedia                            101\n",
       "Fleur DeForce                             101\n",
       "BBC News                                   99\n",
       "Samantha Maria                             99\n",
       "MigosVEVO                                  97\n",
       "PewDiePie                                  96\n",
       "Inthefrow                                  94\n",
       "Marvel Entertainment                       94\n",
       "WIRED                                      93\n",
       "The Voice                                  92\n",
       "Atlantic Records                           91\n",
       "                                         ... \n",
       "Mr. Interesante                             1\n",
       "Travis Peterson                             1\n",
       "Nico                                        1\n",
       "Jasmine Rae                                 1\n",
       "SsM m                                       1\n",
       "just stevo                                  1\n",
       "FlatbushZombies TV                          1\n",
       "STX Entertainment                           1\n",
       "Blumhouse Productions                       1\n",
       "Rosemoe Stewart                             1\n",
       "TORYmax                                     1\n",
       "ETC Show                                    1\n",
       "Global News                                 1\n",
       "The Most                                    1\n",
       "The Weeknd                                  1\n",
       "Dale Dai                                    1\n",
       "ram klim                                    1\n",
       "Anfisa Nava                                 1\n",
       "Andrew W                                    1\n",
       "Pops                                        1\n",
       "TimWestwoodTV                               1\n",
       "Pop Blast                                   1\n",
       "HiHo Kids                                   1\n",
       "HipHopSupply                                1\n",
       "Pet of the Day                              1\n",
       "PartyHatCookieCat                           1\n",
       "OptimusPenguinOmega                         1\n",
       "Cute Girl Videos                            1\n",
       "TopicMusicTV                                1\n",
       "Little Mix                                  1\n",
       "Name: channel_title, Length: 1409, dtype: int64"
      ]
     },
     "execution_count": 20,
     "metadata": {},
     "output_type": "execute_result"
    }
   ],
   "source": [
    "GB_csv['channel_title'].value_counts()"
   ]
  },
  {
   "cell_type": "code",
   "execution_count": 21,
   "metadata": {
    "scrolled": true
   },
   "outputs": [
    {
     "data": {
      "text/plain": [
       "2018-03-09T05:00:03.000Z    53\n",
       "2018-02-23T05:00:01.000Z    53\n",
       "2018-02-08T02:00:01.000Z    40\n",
       "2018-02-04T20:27:38.000Z    38\n",
       "2018-02-04T23:28:16.000Z    38\n",
       "2018-02-05T01:51:53.000Z    38\n",
       "2018-02-22T17:00:06.000Z    37\n",
       "2018-02-08T21:00:01.000Z    37\n",
       "2018-02-19T01:37:11.000Z    37\n",
       "2018-02-20T13:51:08.000Z    37\n",
       "2018-02-08T14:00:00.000Z    37\n",
       "2018-02-08T14:00:04.000Z    37\n",
       "2018-02-23T15:00:09.000Z    37\n",
       "2018-02-15T03:34:44.000Z    37\n",
       "2018-02-25T21:59:30.000Z    36\n",
       "2018-02-06T17:00:02.000Z    36\n",
       "2018-03-01T13:00:05.000Z    36\n",
       "2018-03-01T05:00:01.000Z    36\n",
       "2018-02-28T21:14:42.000Z    36\n",
       "2018-02-28T19:00:01.000Z    36\n",
       "2018-02-22T15:00:06.000Z    36\n",
       "2018-02-15T00:00:03.000Z    36\n",
       "2018-02-15T20:00:02.000Z    36\n",
       "2018-02-17T01:53:02.000Z    36\n",
       "2018-02-06T21:03:04.000Z    36\n",
       "2018-02-09T05:03:31.000Z    36\n",
       "2018-02-06T22:22:43.000Z    36\n",
       "2018-02-07T14:05:58.000Z    36\n",
       "2018-02-23T12:35:37.000Z    36\n",
       "2018-02-14T05:01:24.000Z    36\n",
       "                            ..\n",
       "2018-01-18T03:08:27.000Z     1\n",
       "2017-11-14T03:16:51.000Z     1\n",
       "2018-01-17T22:26:28.000Z     1\n",
       "2018-01-17T14:01:26.000Z     1\n",
       "2018-01-26T01:08:37.000Z     1\n",
       "2018-01-17T09:35:00.000Z     1\n",
       "2017-11-15T00:01:12.000Z     1\n",
       "2017-11-15T03:29:27.000Z     1\n",
       "2018-01-16T06:06:55.000Z     1\n",
       "2017-11-15T06:42:14.000Z     1\n",
       "2018-01-16T04:46:39.000Z     1\n",
       "2017-11-11T17:00:00.000Z     1\n",
       "2018-01-26T11:04:14.000Z     1\n",
       "2018-02-04T23:45:12.000Z     1\n",
       "2018-01-30T08:35:00.000Z     1\n",
       "2018-02-03T00:13:10.000Z     1\n",
       "2018-02-02T10:00:02.000Z     1\n",
       "2018-02-01T12:00:02.000Z     1\n",
       "2018-02-01T04:30:03.000Z     1\n",
       "2018-01-30T18:22:22.000Z     1\n",
       "2018-01-30T09:35:01.000Z     1\n",
       "2017-11-10T15:00:03.000Z     1\n",
       "2017-11-26T17:00:06.000Z     1\n",
       "2018-01-29T02:31:37.000Z     1\n",
       "2018-01-28T23:39:07.000Z     1\n",
       "2018-01-28T16:25:05.000Z     1\n",
       "2017-11-10T19:19:43.000Z     1\n",
       "2018-01-28T01:25:22.000Z     1\n",
       "2018-01-26T20:15:19.000Z     1\n",
       "2018-04-07T02:46:31.000Z     1\n",
       "Name: publish_time, Length: 2598, dtype: int64"
      ]
     },
     "execution_count": 21,
     "metadata": {},
     "output_type": "execute_result"
    }
   ],
   "source": [
    "GB_csv['publish_time'].value_counts()"
   ]
  },
  {
   "cell_type": "code",
   "execution_count": 22,
   "metadata": {},
   "outputs": [
    {
     "data": {
      "text/plain": [
       "[none]                                                                                                                                                                                                                                                                                                                                                                                                                                                                                                                                                                                  1555\n",
       "James Corden|\"The Late Late Show\"|\"Colbert\"|\"late night\"|\"late night show\"|\"Stephen Colbert\"|\"Comedy\"|\"monologue\"|\"comedian\"|\"impressions\"|\"celebrities\"|\"carpool\"|\"karaoke\"|\"CBS\"|\"Late Late Show\"|\"Corden\"|\"joke\"|\"jokes\"|\"funny\"|\"funny video\"|\"funny videos\"|\"humor\"|\"celebrity\"|\"celeb\"|\"hollywood\"|\"famous\"                                                                                                                                                                                                                                                                        100\n",
       "The Late Show|\"Stephen Colbert\"|\"Colbert\"|\"Late Show\"|\"celebrities\"|\"late night\"|\"talk show\"|\"skits\"|\"bit\"|\"monologue\"|\"The Late Late Show\"|\"Late Late Show\"|\"letterman\"|\"david letterman\"|\"comedian\"|\"impressions\"|\"CBS\"|\"joke\"|\"jokes\"|\"funny\"|\"funny video\"|\"funny videos\"|\"humor\"|\"celebrity\"|\"celeb\"|\"hollywood\"|\"famous\"|\"James Corden\"|\"Corden\"|\"Comedy\"                                                                                                                                                                                                                           77\n",
       "hot97|\"hot97app\"|\"music\"|\"video\"|\"hip hop\"|\"rap\"|\"r&b\"|\"hip-hop\"|\"New York\"|\"NY\"|\"US\"|\"United States\"|\"HOT97.com\"                                                                                                                                                                                                                                                                                                                                                                                                                                                                         66\n",
       "BIGHIT|\"빅히트\"|\"방탄소년단\"|\"BTS\"|\"BANGTAN\"|\"방탄\"                                                                                                                                                                                                                                                                                                                                                                                                                                                                                                                                                 58\n",
       "BOBBY|\"SONG\"|\"JUNE\"|\"DK\"|\"CHAN\"|\"BI\"|\"iKON\"|\"바비\"|\"김바비\"|\"JAY\"                                                                                                                                                                                                                                                                                                                                                                                                                                                                                                                              58\n",
       "online fashion|\"best online fashion shops\"|\"Fenty\"|\"online store review\"|\"summer fashion\"                                                                                                                                                                                                                                                                                                                                                                                                                                                                                                 52\n",
       "James|\"Bay\"|\"Wild\"|\"Love\"|\"Universal\"|\"Records\"|\"Alternative\"                                                                                                                                                                                                                                                                                                                                                                                                                                                                                                                             46\n",
       "helen anderson Silver hair Tattoos|\"Helen Anderson\"                                                                                                                                                                                                                                                                                                                                                                                                                                                                                                                                       41\n",
       "Maroon|\"Wait\"|\"222\"|\"Records/Interscope\"|\"Records\"|\"Pop\"                                                                                                                                                                                                                                                                                                                                                                                                                                                                                                                                  40\n",
       "Trailer|\"Deadpool\"|\"20th Century Fox (Production Company)\"|\"Deadpool Movie\"|\"Ryan Reynolds (Celebrity)\"|\"Ed Skrein (Musical Artist)\"|\"T. J. Miller (TV Writer)\"|\"Gina Carano (Martial Artist)\"|\"Red band\"|\"Red band deadpool\"|\"Marvel\"|\"Marvel Comics\"|\"Comic Book (Comic Book Genre)\"|\"Dead pool\"|\"Deadpool green band\"|\"Deadpool red band\"|\"Action\"|\"Comedy\"|\"Action Comedy\"|\"X-Men (Award-Winning Work)\"|\"deadpool movie\"|\"deadpool sequel\"|\"deadpool 2\"|\"2nd deadpool movie\"                                                                                                          39\n",
       "Kylie Jenner|\"Kylie\"|\"Travis Scott\"|\"Baby\"|\"Annoucement\"                                                                                                                                                                                                                                                                                                                                                                                                                                                                                                                                  38\n",
       "Jurassic World|\"Fallen Kingdom\"|\"Dinosaur\"|\"T-Rex\"|\"Chris Pratt\"|\"Bryce Dallas Howard\"|\"BD Wong\"|\"James Cromwell\"|\"Ted Levine\"|\"Justice Smith\"|\"Jeff Goldblum\"|\"Daniella Pineda\"|\"J.A. Bayona\"|\"Colin Trevorrow\"|\"Steven Spielberg\"|\"Isla Nublar\"|\"volcano\"|\"Jurassic Park\"                                                                                                                                                                                                                                                                                                               38\n",
       "mlg highlights|\"mlg\"|\"basketball\"|\"highlights\"|\"sports\"|\"plays\"|\"nba\"|\"game\"|\"team\"|\"nba highlights\"|\"game highlights\"|\"team lebron\"|\"team stephen\"|\"lebron\"|\"stephen\"|\"all star game\"|\"nba all star game\"|\"team stephen vs team lebron\"|\"team lebron vs team stephen\"|\"team lebron vs team stephen full game highlights\"|\"team stephen vs team lebron highlights\"|\"Fergie\"|\"Fergie Performs The U S National Anthem\"                                                                                                                                                                     37\n",
       "Pixar|\"Disney\"|\"Disney Pixar\"|\"Pixar Movie\"|\"Animation\"|\"incredibles\"|\"the incredibles\"|\"incredibles 2\"|\"jack jack\"|\"mr. incredible\"|\"mrs. incredible\"|\"frozone\"|\"samuel l. jackson\"|\"violet parr\"|\"dash parr\"|\"sneak peek\"|\"trailer\"|\"new movie\"|\"family movie\"|\"summer movie\"|\"first look\"|\"teaser\"                                                                                                                                                                                                                                                                                     37\n",
       "Venom|\"Venom Movie\"|\"Venom (2018)\"|\"Marvel\"|\"Marvel Comics\"|\"Planet of the Symbiotes\"|\"Eddie Brock\"|\"Tom Hardy\"|\"Ruben Fleischer\"|\"Spider-man\"|\"Spider-man: Homecoming\"|\"Michelle Williams\"|\"Jenny Slate\"|\"Riz Ahmed\"|\"Spider-man Spinoff\"|\"We Are Venom\"|\"Peter Parker\"|\"Sony Pictures Entertainment\"|\"film\"|\"movie\"|\"official\"                                                                                                                                                                                                                                                          37\n",
       "Whethan|\"Dua\"|\"Lipa\"|\"High\"|\"Republic/Universal/FSF\"|\"Soundtrack\"                                                                                                                                                                                                                                                                                                                                                                                                                                                                                                                         37\n",
       "88rising|\"cold\"|\"amen\"|\"rich brian\"|\"music video\"|\"official video\"|\"2018\"|\"matthew dillon cohen\"|\"goldlink crew\"|\"joji will he\"|\"rich brian attention\"|\"offset\"|\"late late show\"|\"james corden\"|\"ice skating\"|\"olympics\"|\"nathan chen\"|\"mirai nagasu\"|\"team usa\"|\"winter olympics\"                                                                                                                                                                                                                                                                                                        37\n",
       "NFL|\"Football\"|\"offense\"|\"defense\"|\"afc\"|\"nfc\"|\"American Football\"|\"highlight\"|\"highlights\"|\"sports\"|\"action\"|\"2017\"|\"2018\"|\"touchdown\"|\"td\"|\"AFC\"|\"NFC\"|\"champ\"|\"champion\"|\"championship\"|\"super bowl\"|\"super bowl 52\"|\"SB\"|\"new england\"|\"patriots\"|\"pats\"|\"eagles\"|\"philly\"|\"Justin Timberlake\"|\"halftime show\"|\"sexyback\"|\"sexy back\"|\"can’t stop the feeling\"|\"cry me a river\"|\"rock your body\"|\"filthy\"|\"singing\"|\"dancing\"|\"sp:dt=2018-02-04T18:30:00-05:00\"|\"sp:vl=en-US\"|\"sp:st=football\"|\"sp:li=nfl\"|\"sp:ti:home=NE\"|\"sp:ti:away=PHI\"|\"sp:ty=play\"|\"sp:or=9\"|\"prince\"|\"JT\"      37\n",
       "rozay|\"rick ross\"|\"rather you than me\"|\"rytm\"|\"epic\"|\"rap\"|\"hip hop\"|\"epic records\"|\"black market\"|\"hood billionaire\"|\"full rick ross album\"|\"full album\"|\"full album rather you than me\"|\"full album black market\"|\"full album hood billionaire\"|\"miami\"|\"miami rap\"|\"the 305\"|\"dave county\"|\"mmg\"|\"pear\"|\"shout out to all the pear\"|\"chris delia shout out to all the pear\"|\"wing stop\"|\"checkers\"|\"belaire\"|\"fat boy\"|\"lemon pepper god\"|\"trap trap trap\"|\"took\"|\"my\"|\"roof\"|\"off\"|\"at\"|\"the\"                                                                                         36\n",
       "Bad|\"Bunny\"|\"Bad Bunny\"|\"Video Oficial\"|\"Music Video\"|\"Amor Foda\"|\"Amorfoda\"|\"No Quiero Que Nadie Me Hable De Amor\"|\"Ya Me Canse\"|\"Que nadie me hable de amor\"|\"San Valentin\"                                                                                                                                                                                                                                                                                                                                                                                                             36\n",
       "Karol|\"Pineapple\"|\"Universal\"|\"Music\"|\"Latino\"|\"Latin\"|\"Urban\"                                                                                                                                                                                                                                                                                                                                                                                                                                                                                                                            36\n",
       "Lauv|\"The Other\"|\"I Met You When I Was 18\"|\"IMYWIW18\"|\"Getting Over You\"                                                                                                                                                                                                                                                                                                                                                                                                                                                                                                                  36\n",
       "Bad Bunny|\"Amorfoda\"|\"Dura\"|\"Daddy Yankee\"|\"Ozuna\"|\"Romeo Santos\"|\"El Farsante Remix\"|\"Drake\"|\"God’s Plan\"|\"Luis Fonsi\"|\"Demi Lovato\"|\"Échame La Culpa\"|\"Sobredosis\"|\"Maluma\"|\"Corazón\"|\"Nego do Borel\"|\"Ed Sheeran\"|\"Perfect\"|\"Shape of You\"|\"Camila Cabello\"|\"Havana\"|\"Young Thug\"|\"Wisin\"|\"Yandel\"|\"Todo Comienza en la Disco\"|\"Piso 21\"|\"Déjala Que Vuelva\"|\"Manuel Turizo\"|\"Despacito\"|\"Síguelo Bailando\"|\"Reik\"|\"Me Niego\"|\"Bella Wolfine\"                                                                                                                                          36\n",
       "Migos|\"Tasty\"|\"stir fry\"|\"food\"|\"cooking\"|\"music\"|\"new\"|\"vegetable\"|\"delicious\"|\"album\"|\"buzzfeed\"|\"buzzfeed tasty\"|\"recipes\"|\"easy recipes\"                                                                                                                                                                                                                                                                                                                                                                                                                                              36\n",
       "Janelle Monae|\"Wonderland\"|\"Janelle\"|\"Dirty Computer\"|\"Monae\"|\"Electric Lady\"|\"New Music\"|\"Black Panther\"|\"Black Panther Trailer\"|\"Emotion Picture\"|\"#dirtycomputer\"|\"warner music group\"|\"atlantic records\"|\"bad boy records\"|\"janelle monae and tessa thompson\"|\"blackpanther\"|\"LPFgBCUBMYk\"|\"pwnefUaKCbc\"|\"tEddixS-UoU\"|\"Oxls2xX0Clg\"|\"_GlpeFqMLZI\"|\"black panther trailer\"|\"Make Me Feel\"|\"Make Me\"|\"mTjQq5rMlEY\"                                                                                                                                                                     36\n",
       "Iggy|\"Azalea\"|\"Savior\"|\"Island\"|\"Records\"|\"Hip\"|\"Hop\"                                                                                                                                                                                                                                                                                                                                                                                                                                                                                                                                     36\n",
       "FloHola|\"Hola\"|\"Flo Music\"|\"flo music video\"|\"Dancer\"|\"Atlantic Records\"|\"Warner Music Group\"|\"FloRida Music\"|\"Official Audio\"|\"nQcUJdncTeg\"|\"flo rida\"|\"snapchat\"|\"florida\"|\"fell in love with a dancer\"|\"Pop\"|\"maluma flo\"|\"Flo Rida\"                                                                                                                                                                                                                                                                                                                                                   36\n",
       "desimpedidos|\"bolivia\"|\"fred boiola\"|\"futebol humor\"|\"futebol comedia\"|\"engraçado\"|\"futebol\"|\"zueira\"|\"gol\"|\"golaço\"|\"tricks\"|\"soccer\"|\"mitagem\"|\"dibre\"|\"drible\"|\"time\"|\"disimpedidos\"|\"disimpididos\"|\"desimpididos\"|\"Cristiano Ronaldo\"|\"CR7\"|\"CR7 da vida Real\"                                                                                                                                                                                                                                                                                                                        36\n",
       "TWICE|\"BRAND NEW GIRL\"|\"Candy Pop\"|\"Clova Friends 双子ダンス篇\"|\"LINE\"                                                                                                                                                                                                                                                                                                                                                                                                                                                                                                                          36\n",
       "                                                                                                                                                                                                                                                                                                                                                                                                                                                                                                                                                                                        ... \n",
       "Camila Cabello|\"Blue Ivy\"|\"Beyonce\"|\"Jay Z\"|\"Grammys\"|\"Nick Grimshaw\"|\"BBC Radio 1\"                                                                                                                                                                                                                                                                                                                                                                                                                                                                                                        1\n",
       "Camila Cabello|\"Camila\"|\"Cabello\"|\"music performance\"|\"havana lyrics\"|\"havana camila cabello\"|\"Ellen\"|\"degeneres\"|\"ellen degeneres\"|\"the ellen show\"|\"ellen fans\"|\"ellen tickets\"|\"ellentube\"|\"ellen audience\"|\"havana\"|\"performance\"|\"concert\"|\"nightclub\"|\"unforgettable\"|\"amazing\"|\"dressing room\"|\"backstage\"|\"bts\"|\"singing\"|\"fifth harmony\"|\"fifth\"|\"harmony\"|\"cuba\"|\"sing\"                                                                                                                                                                                                          1\n",
       "J.|\"Balvin\"|\"Jeon\"|\"Anitta\"|\"Machika\"|\"EMI\"|\"Latin\"|\"(LAT)\"|\"Urban\"                                                                                                                                                                                                                                                                                                                                                                                                                                                                                                                        1\n",
       "JOHN MACLEAN|\"HIGHLIGHTER FOR PALE SKIN\"|\"HIGHLIGHTER PALE SKIN\"                                                                                                                                                                                                                                                                                                                                                                                                                                                                                                                           1\n",
       "JRE|\"Joe Rogan\"|\"Joe\"|\"Rogan\"|\"Powerful\"|\"Netflix\"|\"Bright\"|\"Will Smith\"|\"Will\"|\"Smith\"|\"interviews\"|\"orc\"|\"human\"|\"elf\"|\"gangster\"|\"original\"|\"film\"|\"Joel Edgerton\"|\"Joel\"|\"Edgerton\"|\"cop\"|\"scene\"                                                                                                                                                                                                                                                                                                                                                                                      1\n",
       "anitta j balvin downtown official lyric video ft lele pons juanpa zurita|\"anitta\"|\"balvin\"|\"downtown\"|\"official\"|\"lyric\"|\"video\"|\"ft\"|\"lele\"|\"pons\"|\"juanpa\"|\"zurita\"|\"spying on your boyfriend\"|\"secret santa\"|\"whose dog is it\"|\"Spying on Your Boyfriend | Lele Pons & Hannah Stocking\"|\"lelepons\"|\"hannahstocking\"|\"rudymancuso\"|\"inanna\"|\"anwar\"|\"sarkis\"|\"shots\"|\"shotsstudios\"|\"alesso\"|\"brazil\"                                                                                                                                                                                    1\n",
       "nbc a.p. bio|\"nbc ap bio\"|\"watch ap bio episode\"|\"watch ap bio video\"|\"glenn howerton jack griffin\"|\"patton oswalt principal durbin\"|\"lyric lewis stef\"|\"mary sohn mary\"|\"jean villepique michelle\"|\"jacob mccarthy devin\"|\"tom bennett miles\"|\"ap bio pilot\"|\"ap bio catfish\"|\"A.P. Bio\"|\"nbc\"|\"2018\"|\"trailer\"|\"new show\"|\"official trailer\"|\"Glenn Howerton\"|\"Seth Meyers\"                                                                                                                                                                                                              1\n",
       "nbc the voice|\"watch the voice video\"|\"kelly clarkson's first day\"|\"the voice season 14\"|\"kelly clarkson coach\"|\"alicia keys coach\"|\"adam levine coach\"|\"blake shelton coach\"|\"carson daly host\"|\"the voice 2018\"|\"the voice\"|\"the voice nbc\"|\"the voice new season\"|\"The Voice USA\"|\"The voice winners\"|\"adam levine\"|\"blake shelton\"|\"carson daly\"|\"the voice auditions\"|\"NBC\"|\"tv\"|\"television\"|\"music\"|\"singing\"|\"The Voice 2018\"|\"Kelly Clarkson\"|\"Alicia Keys\"                                                                                                                       1\n",
       "lucy moon|\"lucy\"|\"the sunday social\"|\"sammi maria\"|\"beautycrush\"|\"the sunday social sammi maria\"|\"sammi maria interview\"|\"sunday social podcast\"|\"interview podcast\"|\"interview female blogger\"|\"interview influencer\"|\"influencer podcast\"|\"bringing up a child online\"|\"dealing with hate\"|\"how to deal with hate\"|\"sammi maria interview 2018\"                                                                                                                                                                                                                                          1\n",
       "the breakfast club|\"power1051\"|\"celebrity news\"|\"radio\"|\"video\"|\"interview\"|\"angela yee\"|\"charlamagne tha god\"|\"dj envy\"|\"lavar ball\"|\"big baller brand\"|\"donald trump\"|\"lonzo ball\"                                                                                                                                                                                                                                                                                                                                                                                                       1\n",
       "amelialiana|\"amelia liana\"|\"my coat collection\"|\"coat and jackets\"|\"try on\"|\"haul\"|\"review\"|\"style\"|\"wardrobe tour\"|\"capsule wardrobe\"                                                                                                                                                                                                                                                                                                                                                                                                                                                     1\n",
       "Janelle Monae|\"Wonderland\"|\"Janelle\"|\"Electric lady\"|\"Dirty Computer\"|\"Janelle Monáe\"|\"monae\"|\"make me feel\"|\"emotion picture\"                                                                                                                                                                                                                                                                                                                                                                                                                                                             1\n",
       "Jasmine Rae (Musical Artist)|\"When I Found You\"|\"wedding song\"|\"heartbeat\"|\"Jasmine Rae\"|\"Golden Guitars\"|\"CMC\"|\"CMC Awards winner\"|\"Beau Golden\"|\"Wedding\"|\"Official\"|\"Ceremony\"|\"songwriter\"|\"ABC\"|\"Universal\"|\"Robb Cox\"|\"Tim Holland\"|\"Frances Madden\"|\"Ruth Anke\"|\"Paula Baxter\"|\"soul\"|\"country soul\"|\"Jasmine\"|\"Rae\"|\"grand piano\"|\"ABC studios\"|\"wedding dress\"|\"bride\"|\"groom\"|\"church\"|\"minister\"|\"Australian\"|\"Australian Country\"|\"Luke Wooten\"|\"Station West\"|\"nashville\"|\"Nashville recording\"                                                                               1\n",
       "wendy williams|\"wendy williams faints\"|\"overheated\"|\"lady liberty\"|\"fainting\"|\"passing out\"|\"falling\"|\"fail\"|\"wendy williams show\"|\"hot topics\"|\"wendy williams passes out\"|\"wendy williams roast\"|\"wendy williams son\"|\"october 2017\"|\"november 2017\"|\"season 9\"|\"ellen\"|\"wendy williams crying\"|\"wig\"|\"live tv fails compilation\"|\"reaction\"|\"caught on camera\"|\"funny\"|\"news\"|\"compilation\"|\"dillon\"|\"riot mode\"|\"funny moments\"|\"shady moments\"|\"meme\"|\"beach\"|\"husband\"|\"cardi b\"|\"remy ma\"|\"lil kim\"|\"nicki minaj\"|\"stroke\"|\"wild n out\"                                             1\n",
       "new hip hop songs|\"rap\"|\"hip hop\"|\"wshh\"|\"wshh exclusive\"                                                                                                                                                                                                                                                                                                                                                                                                                                                                                                                                  1\n",
       "Joe Rogan Experience|\"podcast\"|\"JRE MMA Show\"|\"MMA SHow #11\"|\"John Danaher\"|\"Joe Rogan\"|\"jiu-jitsu\"|\"Matt Serra\"|\"UFC\"|\"mma\"|\"Ultimate Fighting Championship\"|\"GSP\"|\"Georges St. Pierre\"|\"comedy\"|\"comedian\"|\"jokes\"|\"funny\"|\"laugh\"|\"Black Belt\"|\"BJJ\"|\"Brazilian\"                                                                                                                                                                                                                                                                                                                        1\n",
       "a different way|\"different way\"|\"dj snake\"|\"lauv\"|\"dance\"|\"choreography\"|\"matt steffanina\"|\"dating\"|\"couple goals\"|\"couple\"|\"matt\"|\"steffanina\"|\"girlfriend\"|\"twerk\"|\"sexy\"|\"dj snake a different way\"|\"dancing\"|\"duet\"|\"how to dance\"|\"tutorial\"|\"mattsdance\"|\"mattsteffanina\"|\"erica klein\"|\"goals\"                                                                                                                                                                                                                                                                                      1\n",
       "YFliker|\"Yvolution\"|\"Toys R Us\"|\"Toys \\R\\\"|\"Us\"|\"TV commercials\"|\"scooters\"|\"Fun\"|\"Playing\"|\"Kids\"|\"Commercial\"|\"toys\"                                                                                                                                                                                                                                                                                                                                                                                                                                                                     1\n",
       "YBN|\"YBN Nahmir\"|\"YBN Almighty Jay\"|\"KENXL\"|\"aKENXLfilm\"|\"Nahmir\"|\"Rubbin Off The Paint\"|\"Letter to Valley Part 5\"|\"Worldstarhiphop\"|\"WSHH\"|\"I Got a Stick\"|\"Birmingham\"|\"Hip Hop\"|\"Waterwippinevan\"|\"Chopsticks\"|\"No Hook\"|\"Hoodzone\"|\"YBN Almighty Jay Chopsticks\"|\"Genius\"|\"YBN Nahmir Genius\"                                                                                                                                                                                                                                                                                          1\n",
       "KFC|\"Kentucky Fried Chicken\"|\"Fried Chicken\"|\"Lunch\"|\"Dinner\"|\"Tenders\"|\"Buckets\"|\"Chicken\"                                                                                                                                                                                                                                                                                                                                                                                                                                                                                                1\n",
       "What the Fit|\"Kevin Hart What the Fit\"|\"Kevin Hart\"|\"YouTube Originals\"|\"YouTube Originals Series\"|\"Series\"|\"Conan O’Brien\"|\"James Corden\"|\"Tiffany Haddish\"|\"Khloe Kardashian\"|\"Leslie Jones\"|\"Bill Hader\"|\"Rhett & Link\"|\"Rhett and Link\"|\"Evander Holyfield\"|\"Joel McHale\"|\"Terry Crews\"|\"Ken Jeong\"|\"Niecy Nash\"|\"Jack Black\"|\"Chance the Rapper\"|\"Chance\"|\"dj khalid\"|\"lol\"|\"laugh out loud network\"                                                                                                                                                                                  1\n",
       "ode|\"ode trailer\"|\"ode pc\"|\"ode uplay\"|\"ode gameplay\"|\"ode gameplay walkthrough\"|\"music\"|\"music game\"|\"how to play ode\"|\"ode game\"|\"Ubisoft\"|\"gameplay\"|\"ubisoft 2017\"|\"Trailer\"|\"best games 2017\"|\"before you buy\"|\"pc\"|\"gameplay walkthrough\"|\"walkthrough\"|\"abstract\"|\"exploration\"|\"open world\"|\"ubisoft games\"|\"ubisoft games 2017\"|\"release date\"|\"cinematic trailer\"|\"single player\"|\"PC game\"|\"steam\"|\"soundtrack\"|\"Atmospheric\"|\"Sci-Fi\"|\"Reflections\"                                                                                                                            1\n",
       "tami roman|\"basketball wives\"|\"vh1\"|\"nba\"|\"basketball wives la\"|\"tv\"|\"basketball\"|\"tami roman basketball wives\"|\"fight\"|\"mtv\"|\"friendship\"|\"bonnet chronicles\"|\"freestyle\"|\"celebrity\"|\"pop culture\"|\"vh+1\"|\"reality tv\"|\"reality show\"|\"gossip\"|\"shaunie o'neal\"|\"butt shots\"|\"sneak peek\"|\"ex wife\"|\"sex\"|\"draya michele\"|\"los angeles\"|\"la\"|\"clippers\"|\"la lakers\"|\"doug christie\"|\"jannero pargo\"|\"orlando scandrick\"|\"mehgan james\"|\"patrice curry\"|\"brandi maxiell\"|\"jackie christie\"|\"malaysia pargo\"|\"sexy\"|\"bully\"|\"show\"                                                         1\n",
       "Voynich|\"Voynich Manuscript\"|\"ATA\"|\"Manuscript\"|\"Revealed\"|\"2018\"|\"Ata Team Alberta\"|\"Alphabet\"|\"ATA Turkic Alphabet\"|\"ATA Script\"|\"ATA Alphabet\"|\"Voynich Manuscript Revealed\"|\"ATA Türkçe\"|\"ATA Turkçe Alfabe\"|\"Voynich Turkish\"|\"Turkic\"|\"Turkic Voynich\"|\"Medieval\"|\"Medieval Manuscript\"|\"Decoded\"|\"Ahmet Ardic\"|\"Turkey\"|\"Azerbaijani\"|\"Azerbaijani Turkic\"|\"Uzbek Turkic\"|\"Secret\"|\"Mysterious\"|\"Mysterious Manuscript\"|\"Manuscript Decoded\"|\"Voynich Decoded\"|\"Voynich Revealed\"|\"15th Century\"|\"Orta Çağ Elyazması\"|\"El Yazması\"                                                  1\n",
       "Kinda Funny Games|\"kinda funny gamescast\"|\"gamescast\"|\"ps i love you\"|\"ps i love you xoxo\"|\"greg miller\"|\"gameovergreggy\"|\"tim gettys\"|\"reviews\"|\"review\"|\"analysis\"|\"lets play\"|\"let's play\"|\"nintendo\"                                                                                                                                                                                                                                                                                                                                                                                   1\n",
       "stevooo overwatch|\"stevooo banned\"|\"stevooo overwatch banned\"|\"stevooo overwatch face\"|\"stevooo overwatch twitch\"|\"symmetra main\"|\"symmetra god\"|\"symmetra gameplay\"|\"symmetra stevo\"|\"symmetra tips\"|\"symmetra main overwatch\"|\"symmetra main top 500\"|\"top 500 symmetra\"|\"symmetra moments overwatch\"|\"overwatch wtf moments symmetra\"|\"post baloney overwatch\"|\"post baloney symmetra\"|\"best sym\"|\"postbaloney symmetra\"|\"postbaloney overwatch\"|\"postbaloney twitch\"|\"stevooo twitch\"|\"suspended\"                                                                                      1\n",
       "Cardi B|\"Be Careful\"|\"Bodak Yellow\"|\"Invasion of Privacy\"|\"Love and Hip Hop\"|\"New Cardi B\"|\"No Limit\"|\"No Limit Cardi B\"|\"Cardi B Bodak Yellow\"|\"Bartier Cardi\"|\"Offset Cheating\"|\"Offset Cardi B\"|\"Cardi b - Be Careful [official audio]\"|\"Cardi B - Invasion of Privacy\"|\"Cardi B Album\"|\"Cardi B Bartier Cardi\"|\"Hennesy Carolina\"|\"Motorsport Cardi B\"|\"Finesse Remix Cardi B\"|\"Cardi B Music\"|\"Cardi B LEak\"|\"Cardi B Audio\"                                                                                                                                                          1\n",
       "Cardi B|\"Be Careful\"|\"Bodak Yellow\"|\"Invasion of Privacy\"|\"Love and Hip Hop\"|\"Audio\"|\"Official Audio\"|\"New Cardi B\"|\"No Limit\"|\"No Limit Cardi B\"|\"Cardi B Bodak Yellow\"|\"Bartier Cardi\"|\"Bronx\"|\"New York\"|\"Official\"                                                                                                                                                                                                                                                                                                                                                                     1\n",
       "Kylie Minogue|\"Kylie\"|\"New Music\"|\"Pop\"|\"Girls Aloud\"|\"Spice Girls\"|\"Katy Perry\"|\"Sugababes\"|\"All Saints\"|\"Bananrama\"|\"RuPaul\"|\"Madonna\"|\"Diva\"|\"Taylor Swift\"|\"Country\"|\"Dua Lipa\"|\"Ariana Grande\"|\"Camila Cabello\"|\"Beyonce\"|\"Rita Ora\"|\"Pink\"                                                                                                                                                                                                                                                                                                                                           1\n",
       "ronda rousey|\"rousey\"|\"rousey wwe\"|\"ronda rousey wwe\"|\"ronda rousey world wrestling entertainment\"|\"wwe\"|\"wrestling\"|\"pro wrestling\"|\"ronda rousey royal rumble\"|\"rousey royal rumble\"|\"ronda rousey wrestling\"|\"ronda rousey pro wrestling\"|\"espn\"|\"espn live\"                                                                                                                                                                                                                                                                                                                            1\n",
       "Name: tags, Length: 2495, dtype: int64"
      ]
     },
     "execution_count": 22,
     "metadata": {},
     "output_type": "execute_result"
    }
   ],
   "source": [
    "GB_csv['tags'].value_counts()"
   ]
  },
  {
   "cell_type": "markdown",
   "metadata": {},
   "source": [
    "Convert [none] to 0"
   ]
  },
  {
   "cell_type": "markdown",
   "metadata": {},
   "source": [
    "Drop thumbnail link column"
   ]
  },
  {
   "cell_type": "code",
   "execution_count": 23,
   "metadata": {},
   "outputs": [
    {
     "data": {
      "text/plain": [
       "► Listen LIVE: http://power1051fm.com/\\n► Facebook: https://www.facebook.com/Power1051NY/\\n► Twitter: https://twitter.com/power1051/\\n► Instagram: https://www.instagram.com/power1051/                                                                                                                                                                                                                                                                                                                                                                                                                                                                                                                                                                                                                                                                                                                                                                                                                                                                                                                                                                                                                                                                                                                                                                                                                                                                                                                                                                                                                                                                                                                                                                                                                                                                                                                                                                                                                                                                                                                                                                                                                                                                                                                                                                                                                                                                                                                                                                                                                                                                                                                                                                                                                                                                                                                                                                                                                                                                                                                               116\n",
       "Every Friday on TMZ Sports UFC Welterweight Champion Tyron The Chosen One Woodley dishes on his favorite stories in the world of Hollywood and Sports. Hear what Tyron is FIRED UP about, who he wants to PUNCH IN THE FACE, and his honest take on a story we like to call On The Real, Though.\\n\\nSUBSCRIBE -- http://po.st/TMZSportsSubscribe\\n\\nAbout TMZ Sports:\\nSome of the best stories in sports have been off the field and we’re reporting on athletes from NFL, NBA, UFC, WWE, MLB and more!  \\n\\nSubscribe to TMZ Sports on YouTube for the latest news, exclusive interviews, clips from TMZ Sports on FS1 and videos of your favorite athletes and celebs. \\n\\nNeed More TMZ?\\nTMZ Sports Website: http://po.st/TMZSportsWebsite\\nLIKE TMZ Sports on Facebook!http://po.st/TMZSportsLike\\nFOLLOW TMZ on Twitter! http://po.st/TMZFollow\\nFOLLOW TMZ on Instagram! http://po.st/TMZInsta\\nTMZ on TV & TMZ Sports on FS1 Tune In Info: http://po.st/TMZOnAir\\nTMZ is on iOS! http://po.st/TMZiOS\\nTMZ is on Android! http://po.st/TMZonAndroid\\n\\nGot a Tip?\\nContact TMZ: http://po.st/TMZTip\\n\\nCheck out TMZ, TMZ Live, and toofab!\\nTMZ: http://po.st/TMZWebsite\\nSubscribe! TMZ: http://po.st/TMZSubscribe\\nTMZ Live: http://po.st/TMZLiveWebsite\\nSubscribe! TMZ Live: http://po.st/TMZLiveSubscribe\\nToofab: http://po.st/toofabWebsite\\nSubscribe! toofab: http://po.st/toofabSubscribe\\n\\nhttps://www.youtube.com/c/tmzsports                                                                                                                                                                                                                                                                                                                                                                                                                                                                                                                                                                                                                                                                                                                                                                                                                                                                                                                                                                                                                                                                                                                                                                                                                                                                                                                                                                                                                                                                                                                                                                                                                                                                    72\n",
       "The White House                                                                                                                                                                                                                                                                                                                                                                                                                                                                                                                                                                                                                                                                                                                                                                                                                                                                                                                                                                                                                                                                                                                                                                                                                                                                                                                                                                                                                                                                                                                                                                                                                                                                                                                                                                                                                                                                                                                                                                                                                                                                                                                                                                                                                                                                                                                                                                                                                                                                                                                                                                                                                                                                                                                                                                                                                                                                                                                                                                                                                                                                                                        53\n",
       "http://billwurtz.com\\n\\n\\n\\npatreon:  http://patreon.com/billwurtz\\nitunes:  https://itunes.apple.com/us/artist/bill-wurtz/id1019208137\\nspotify:  https://play.spotify.com/artist/78cT0dM5Ivm722EP2sgfDh\\ndonate money for some breakfasts:  http://paypal.com/cgi-bin/webscr?cmd=_s-xclick&hosted_button_id=VXTWA8CDYP4RJ\\ntwitter:  http://twitter.com/billwurtz\\ninstagram:  http://instagram.com/notbillwurtz\\nobjects: http://billwurtz.myshopify.com/                                                                                                                                                                                                                                                                                                                                                                                                                                                                                                                                                                                                                                                                                                                                                                                                                                                                                                                                                                                                                                                                                                                                                                                                                                                                                                                                                                                                                                                                                                                                                                                                                                                                                                                                                                                                                                                                                                                                                                                                                                                                                                                                                                                                                                                                                                                                                                                                                                                                                                                                                                                                                                                           49\n",
       "Directed by Tyler Ross @wttyler\\nMusic by Jacob Wilkinson-Smith @mybestfriendjacob_                                                                                                                                                                                                                                                                                                                                                                                                                                                                                                                                                                                                                                                                                                                                                                                                                                                                                                                                                                                                                                                                                                                                                                                                                                                                                                                                                                                                                                                                                                                                                                                                                                                                                                                                                                                                                                                                                                                                                                                                                                                                                                                                                                                                                                                                                                                                                                                                                                                                                                                                                                                                                                                                                                                                                                                                                                                                                                                                                                                                                                    38\n",
       "Jurassic World: Fallen Kingdom \\nIn Theaters June 22, 2018 \\nTry the Jurassic World effect on your Facebook camera: http://unvrs.al/JWFBCam \\n\\nhttps://www.jurassicworld.com \\n\\nIt’s been four years since theme park and luxury resort Jurassic World was destroyed by dinosaurs out of containment. Isla Nublar now sits abandoned by humans while the surviving dinosaurs fend for themselves in the jungles. \\n\\nWhen the island’s dormant volcano begins roaring to life, Owen (Chris Pratt) and Claire (Bryce Dallas Howard) mount a campaign to rescue the remaining dinosaurs from this extinction-level event. Owen is driven to find Blue, his lead raptor who’s still missing in the wild, and Claire has grown a respect for these creatures she now makes her mission. Arriving on the unstable island as lava begins raining down, their expedition uncovers a conspiracy that could return our entire planet to a perilous order not seen since prehistoric times.\\n\\nWith all of the wonder, adventure and thrills synonymous with one of the most popular and successful series in cinema history, this all-new motion-picture event sees the return of favorite characters and dinosaurs—along with new breeds more awe-inspiring and terrifying than ever before. Welcome to Jurassic World: Fallen Kingdom. \\n\\nStars Pratt and Howard return alongside executive producers Steven Spielberg and Colin Trevorrow for Jurassic World: Fallen Kingdom. They are joined by co-stars James Cromwell, Ted Levine, Justice Smith, Geraldine Chaplin, Daniella Pineda, Toby Jones, Rafe Spall and Isabella Sermon, while BD Wong and Jeff Goldblum reprise their roles. \\n\\nDirected by J.A. Bayona (The Impossible), the epic action-adventure is written by Jurassic World’s director, Trevorrow, and its co-writer, Derek Connolly. Producers Frank Marshall and Pat Crowley once again partner with Spielberg and Trevorrow in leading the filmmakers for this stunning installment. Belén Atienza joins the team as a producer.                                                                                                                                                                                                                                                                                                                                                                                                                                                                                                                                                                                                                                                                                                                                                                                                                                                                                                                                                                                                                                                                    38\n",
       "Justin Timberlake breaks it down during the Pepsi Super Bowl LII Halftime Show. The Philadelphia Eagles take on the New England Patriots during Super Bowl LII.\\n\\nWatch full games with NFL Game Pass: https://www.nfl.com/gamepass?campaign=sp-nf-gd-ot-yt-3000342\\n\\nSign up for Fantasy Football! http://www.nfl.com/fantasyfootball\\n\\nSubscribe to NFL: http://j.mp/1L0bVBu\\n\\nThe NFL YouTube channel is your home for immediate in-game highlights from your favorite teams and players, full NFL games, behind the scenes access and more!\\n\\nCheck out our other channels:\\nNFL Network http://www.youtube.com/nflnetwork\\nNFL Films http://www.youtube.com/nflfilms\\n\\nFor all things NFL, visit the league's official website at http://www.nfl.com/\\n\\nWatch NFL Now: https://www.nfl.com/now\\nListen to NFL podcasts: http://www.nfl.com/podcasts\\nWatch the NFL network: http://nflnonline.nfl.com/\\nDownload the NFL mobile app: https://www.nfl.com/apps\\n2017 NFL Schedule: http://www.nfl.com/schedules\\nBuy tickets to watch your favorite team:  http://www.nfl.com/tickets\\nShop NFL: http://www.nflshop.com/source/bm-nflcom-Header-Shop-Tab\\n\\nLike us on Facebook: https://www.facebook.com/NFL\\nFollow us on Twitter: https://twitter.com/NFL\\nFollow us on Instagram: https://instagram.com/nfl/\\nFind us on Snapchat                                                                                                                                                                                                                                                                                                                                                                                                                                                                                                                                                                                                                                                                                                                                                                                                                                                                                                                                                                                                                                                                                                                                                                                                                                                                                                                                                                                                                                                                                                                                                                                                                                                                                                                                                                       38\n",
       "The Incredibles are back on June 15.  💥 Watch a brand-new sneak peek of Incredibles 2 now!\\n\\n---\\n\\nDisney/Pixar’s Incredibles 2 opens in theatres June 15!\\n\\nIn “Incredibles 2,” Helen (voice of Holly Hunter) is called on to lead a campaign to bring Supers back, while Bob (voice of Craig T. Nelson) navigates the day-to-day heroics of “normal” life at home with Violet (voice of Sarah Vowell), Dash (voice of Huck Milner) and baby Jack-Jack—whose superpowers are about to be discovered. Their mission is derailed, however, when a new villain emerges with a brilliant and dangerous plot that threatens everything. But the Parrs don’t shy away from a challenge, especially with Frozone (voice of Samuel L. Jackson) by their side. That’s what makes this family so Incredible. \\n\\nHashtag: #Incredibles2\\nFacebook: https://www.facebook.com/PixarTheIncredibles/\\nTwitter: https://twitter.com/TheIncredibles\\nInstagram: https://www.instagram.com/theincredibles/                                                                                                                                                                                                                                                                                                                                                                                                                                                                                                                                                                                                                                                                                                                                                                                                                                                                                                                                                                                                                                                                                                                                                                                                                                                                                                                                                                                                                                                                                                                                                                                                                                                                                                                                                                                                                                                                                                                                                                                                                                                                                                                          37\n",
       "High (Official Audio)\\nSong available on the Fifty Shades Freed Original Motion Picture Soundtrack\\nhttps://FiftyShadesFreed.lnk.to/ForYouYD \\n\\nFifty Shades Freed, in theaters February 9.\\nWatch the trailer, and book tickets now: http://unvrs.al/FSFTix \\n\\nFollow Whethan\\nWebsite - http://goodnights.whethan.com \\nFacebook - https://www.facebook.com/whethanmusic \\nTwitter - https://twitter.com/whethanmusic \\nInstagram - https://www.instagram.com/whethanmusic \\nYouTube - https://www.youtube.com/whethan \\n\\nFollow Dua Lipa:\\nWebsite - http://dualipa.com\\nFacebook - https://www.facebook.com/dualipaofficial\\nTwitter - https://twitter.com/DUALIPA\\nInstagram - https://www.instagram.com/dualipa\\nSnapchat - @dualipa\\n\\nMusic video by Whethan & Dua Lipa performing High. © 2018 Universal Studios, Atlantic Records & Warner Bros. Records UK\\n\\nhttp://vevo.ly/ZfKHzi                                                                                                                                                                                                                                                                                                                                                                                                                                                                                                                                                                                                                                                                                                                                                                                                                                                                                                                                                                                                                                                                                                                                                                                                                                                                                                                                                                                                                                                                                                                                                                                                                                                                                                                                                                                                                                                                                                                                                                                                                                                                                                                                                                                                                      37\n",
       "Watch the #Venom teaser trailer now. 10.5.18.\\n\\nOne of Marvel's most enigmatic, complex and badass characters comes to the big screen, starring Academy Award® nominated actor Tom Hardy as the lethal protector Venom.\\n\\nSubscribe to Sony Pictures for exclusive content: http://bit.ly/SonyPicsSubscribe\\n\\nFollow VENOM on Social:\\nhttps://www.facebook.com/VenomMovie/  \\nhttps://twitter.com/VenomMovie  \\nhttps://www.instagram.com/venommovie/                                                                                                                                                                                                                                                                                                                                                                                                                                                                                                                                                                                                                                                                                                                                                                                                                                                                                                                                                                                                                                                                                                                                                                                                                                                                                                                                                                                                                                                                                                                                                                                                                                                                                                                                                                                                                                                                                                                                                                                                                                                                                                                                                                                                                                                                                                                                                                                                                                                                                                                                                                                                                                                              37\n",
       "“Make Me Feel” and “Django Jane” available now: https://janellemonae.lnk.to/dirtycomputer\\n\\nWatch “Django Jane”: https://youtu.be/mTjQq5rMlEY\\n\\n“Dirty Computer” - an emotion picture by Janelle Monáe arrives on 4.27.18\\n \\n*EMOTION PICTURE (definition): a narrative film and accompanying musical album\\n \\nConnect with Janelle:\\nhttp://jmonae.com\\nhttp://instagram.com/janellemonae\\nhttp://twitter.com/janellemonae\\nhttp://facebook.com/janellemonae\\n\\nJanelle Monáe – Make Me Feel [Official Music Video]\\nDirector: Alan Ferguson                                                                                                                                                                                                                                                                                                                                                                                                                                                                                                                                                                                                                                                                                                                                                                                                                                                                                                                                                                                                                                                                                                                                                                                                                                                                                                                                                                                                                                                                                                                                                                                                                                                                                                                                                                                                                                                                                                                                                                                                                                                                                                                                                                                                                                                                                                                                                                                                                                                                                                                                                                      37\n",
       "RED PILL BLUES” is out now.\\nhttp://smarturl.it/RedPillBlues \\n\\nFor more, visit: \\nhttps://www.facebook.com/maroon5 \\nhttps://twitter.com/maroon5 \\nhttps://www.instagram.com/maroon5 \\n\\nSign up for updates: http://smarturl.it/Maroon5.News\\n\\nMusic video by Maroon 5 performing Wait. (C) 2018 Interscope Records\\n\\nhttp://vevo.ly/O35agW                                                                                                                                                                                                                                                                                                                                                                                                                                                                                                                                                                                                                                                                                                                                                                                                                                                                                                                                                                                                                                                                                                                                                                                                                                                                                                                                                                                                                                                                                                                                                                                                                                                                                                                                                                                                                                                                                                                                                                                                                                                                                                                                                                                                                                                                                                                                                                                                                                                                                                                                                                                                                                                                                                                                                                       37\n",
       "🏀Fergie Performs The U.S. National Anthem / 2018 NBA All-Star Game\\n\\n👍Follow Us on Twitter: https://twitter.com/stayhls\\n\\n👍Like Us on Facebook: https://www.facebook.com/stayhls\\n\\n👀Subscribe To Me On Social Networks To Keep Up To Date With Updates On My Channel :)\\n\\n⚠️Disclaimer:\\n➡️ Monetization is disabled.\\n➡️ Companies that claim rights to my videos are entitled to the \\nmonetisations and will earn a profit from my videos if they \\ndecide to monetize them. This is not my decision.\\n➡️ If you want the video removed, I'd appreciate if you request the\\nvideo to be globally blocked or muted, since it's hassle to deal \\nwith copyright strikes.\\n\\n📕Copyright Disclaimer Under Section 107 of the Copyright Act 1976,\\nallowance is made for fair use for purposes such as criticism,\\ncomment, news reporting, teaching, scholarship, and research.\\nFair use is a use permitted by copyright statute that might otherwise be infringing.\\nNon-profit, educational or personal use tips the balance in favor of fair use.                                                                                                                                                                                                                                                                                                                                                                                                                                                                                                                                                                                                                                                                                                                                                                                                                                                                                                                                                                                                                                                                                                                                                                                                                                                                                                                                                                                                                                                                                                                                                                                                                                                                                                                                                                                                                                                                                                                                                                                                                                                               37\n",
       "For Features, Booking, & Etc Email BlocBoyJB@Gmail.com\\n\\nhttp://ovosound.io/lookalive\\n\\n\\nFor More Info On Videos Contact aliproductions2016@gmail.com\\nhttps://www.instagram.com/fredrivk_ali\\nhttps://www.twitter.com/fredrivk_ali                                                                                                                                                                                                                                                                                                                                                                                                                                                                                                                                                                                                                                                                                                                                                                                                                                                                                                                                                                                                                                                                                                                                                                                                                                                                                                                                                                                                                                                                                                                                                                                                                                                                                                                                                                                                                                                                                                                                                                                                                                                                                                                                                                                                                                                                                                                                                                                                                                                                                                                                                                                                                                                                                                                                                                                                                                                                                 36\n",
       "I met you when I was 18. is the first chapter of Lauv’s music and story. Follow the playlist at: http://lauv.lnk.to/imywiw18\\n\\nGetting Over You available now: https://lauv.lnk.to/gettingoveryou\\nPre-Save on Spotify: http://smarturl.it/lauv_subscribe\\n\\nhttp://lauvsongs.com\\nhttp://facebook.com/lauvsongs\\nhttp://twitter.com/lauvsongs\\nhttp://instagram.com/lauvsongs\\n\\nLYRICS\\n\\nRunning from the morning \\nThink I hit a wall\\nLate night, not you \\nRunning from the moment \\nSo I don’t recall\\nLate nights, not you\\n\\nWaking up in a cold sweat \\nSomeone else in this cold bed \\nI’d do anything to not be alone \\nAll alone with the ceiling \\nAll alone with this feeling \\nAnd I wonder if I’ll ever let go\\n\\nI tried spending my nights under \\nSomeone new\\nBut the truth is\\nI could spend my whole life getting over you\\n\\nYeah yeah yeah \\nGetting over you\\nGetting over you\\nGetting over you\\nGetting over you\\nGetting over you\\nGetting over you\\n\\nDrowning in my coffee \\nTo wash the alcohol \\nOut my bloodstream \\nSitting here I wonder \\nIf we hadn’t been at all \\nWho would I be\\n\\nWaking up in a cold sweat \\nSomeone else in this cold bed \\nAnd I wonder if I’ll ever let go\\n\\nI tried spending\\nMy nights under\\nSomeone new\\nBut the truth is\\nI could spend my whole life getting over you\\n\\nYeah yeah yeah\\nGetting over you\\nGetting over you\\nGetting over you\\nGetting over you\\nGetting over you\\nGetting over you\\n\\nI tried spending\\nMy nights under\\nSomeone new\\nBut the truth is\\nI could spend my whole life getting over you \\n\\nGetting over you\\nGetting over you\\nGetting over you\\nGetting over you                                                                                                                                                                                                                                                                                                                                                                                                                                                                                                                                                                                                                                                                                                                                                                                                                                                                                                                                                                                                                                                                                                                                                                                                                                                                                                                                                                                                                                                 36\n",
       "Disponible en tu plataforma preferida:\\nhttps://goo.gl/b8TDFS \\n\\nNicky Jam y J. Balvin performing X \\nNuevo video de Nicky Jam 2018\\n\\nLetra de EQUIS X \\n\\nAquel día te vi y tu energia sentí\\nDesde eso no te quiero lejos de mi\\nSé que no sabes de mi y no te puedo mentir\\nLo que dicen en la calle sobre mi\\n\\nY no te voy a negar\\nEstamos claros y ya\\nNo te lo voy a negar (no te lo puedo negar)\\nEstamos claros y ya (estamos claros, estamos claros)\\n\\nSolo deja que yo te agarre baby\\nBesos en el cuello pa' calmar la sed\\nMi mano en tus caderas pa' empezar como es\\nNo le vamo' a bajar mas nunca mamá\\n\\nBa-Ba-Ba-Ba-Baila\\nPlacata Placata \\nComo ella lo mueve\\nSin parar, sin parar\\n\\nMis ganas de comerte\\nAhora son mas fuertes\\nQuiero tenerte\\n\\nY no te voy a negar\\nEstamos claros y ya\\nNo te lo voy a negar\\nEstamos claros y ya\\n\\nLo que he visto de ti mami no me es normal\\nPero no te preocupes que soy anormal\\nSé que tus amigas no les debo gustar\\n\\nPero ve y cuentale parte por parte\\nComo tenemos sex y te quito el estres\\nDale otra vez\\n\\nY no te voy a negar\\nEstamos claros y ya\\nNo te lo voy a negar\\nEstamos claros y ya\\n\\nBa-Ba-Ba-Ba- Baila\\nPlacata Placata \\nComo ella lo mueve\\nSin parar, sin parar\\n\\nMis ganas de comerte\\nAhora son mas fuertes\\nQuiero tenerte\\n\\nY no te voy a negar\\nEstamos claros y ya\\nNo te lo voy a negar\\nEstamos claros y ya\\n\\nLa Industria Inc\\nSony Music Latin\\n2018\\n\\nSkloziv Network                                                                                                                                                                                                                                                                                                                                                                                                                                                                                                                                                                                                                                                                                                                                                                                                                                                                                                                                                                                                                                                                                                                                                                                                                                                                                                                                                                                                                                                                                                                                                                                                                                  36\n",
       "Bad Bunny - Amorfoda | Video Oficial\\n\\n-Click para suscribirte: http://bit.ly/badbunnypr\\n\\nFollow Me / Sigueme en: \\n\\nInstagram: https://www.instagram.com/badbunnypr/\\nSpotify: http://spoti.fi/2xQk6CX\\nFacebook: https://www.facebook.com/BadBunyPR\\nTwitter: https://twitter.com/badbunnypr\\nApple Music: http://apple.co/2f52tr9\\n\\nPara contrataciones:  +1 787-566-8600 | BadBunnyInfo@Gmail.com\\n\\n© 2018 Hear This Music under exclusive license to Rimas Entertainment                                                                                                                                                                                                                                                                                                                                                                                                                                                                                                                                                                                                                                                                                                                                                                                                                                                                                                                                                                                                                                                                                                                                                                                                                                                                                                                                                                                                                                                                                                                                                                                                                                                                                                                                                                                                                                                                                                                                                                                                                                                                                                                                                                                                                                                                                                                                                                                                                                                                                                                                                                                                                                    36\n",
       "Watch More Kylie:\\nReacting to Kylie's baby video➜ https://www.youtube.com/watch?v=TQFG0v3Fvb8\\nKylie Jenner makeup tutorial➜ https://www.youtube.com/watch?v=kvfc71IrtTQ&t=68s\\nThe time I saw Kylie at Coachella➜ https://www.youtube.com/watch?v=E5TxxPorRqA\\n\\nMy Last video➜ https://www.youtube.com/watch?v=A3SsI_dDq6I&list=UUzT17-Lvc5L_gIT10JQsjSA\\nMy Last vlog➜ https://www.youtube.com/watch?v=_ba8_HQtDew&list=UUmqiH2_tNLym7MO-JOMOPuA\\nI'm DMing people who click this➜ https://ctt.ec/jlctV\\n\\n- - - - - - - - - - - - - - - - - - - - - - - - - - - - - - - - - - - - - - - - - - - - - -\\n\\n❀ S N A P C H A T➜ https://www.snapchat.com/add/adelainemorin\\n❀ I N S T A G R A M➜ https://www.instagram.com/AdelaineMorin/\\n❀ T W I T T E R➜ https://twitter.com/AdelaineMorin\\n❀ F A C E B O O K➜ https://www.facebook.com/AdelaineMorin/\\n❀ M U S I C A L L Y➜ @AdelaineMorin\\n❀ SHOP MY MERCH➜ http://adelainemorin.com\\n\\n- - - - - - - - - - - - - - - - - - - - - - - - - - - - - - - - - - - - - - - - - - - - - -\\n\\nP.O. Box: Adelaine Morin,\\n6-295 Queen Street East, Suite #326 \\nBrampton, Ontario, L6W4S6, Canada\\n\\nFor business inquiries please email my beautiful manager, Evegail, at: adelaine@mattermediagroup.com\\n\\nGraphics by Dawn Lee: http://www.dawnleedesign.com\\n\\nMAKE SURE TO SMILE AT LEAST ONCE TODAY! xoxo                                                                                                                                                                                                                                                                                                                                                                                                                                                                                                                                                                                                                                                                                                                                                                                                                                                                                                                                                                                                                                                                                                                                                                                                                                                                                                                                                                                                                                                                                                                                                                                                                                                                                                                                                          36\n",
       "Torey Lanez takes on the 5 Fingers of Death challenge and Freestyles for 9 minutes on Sway In The Morning.\\n\\nSubscribe to Sway’s Universe for More\\nhttp://bit.ly/SubscribeSU\\n\\nWatch the Best of Sway In The Morning\\nhttp://bit.ly/BestOfSITM\\n\\nCheck out More From Sway’s Universe\\nhttp://swaysuniverse.com\\nhttp://twitter.com/swaysuniverse\\nhttp://instagram.com/swaysuniverse\\nhttp://facebook.com/swaysuniverse                                                                                                                                                                                                                                                                                                                                                                                                                                                                                                                                                                                                                                                                                                                                                                                                                                                                                                                                                                                                                                                                                                                                                                                                                                                                                                                                                                                                                                                                                                                                                                                                                                                                                                                                                                                                                                                                                                                                                                                                                                                                                                                                                                                                                                                                                                                                                                                                                                                                                                                                                                                                                                                                                            36\n",
       "https://islandrecs.lnk.to/Savior\\n\\nMusic video by Iggy Azalea performing Savior. © 2018 Island Records, a division of UMG Recordings, Inc.\\n\\nhttp://vevo.ly/20QwmL                                                                                                                                                                                                                                                                                                                                                                                                                                                                                                                                                                                                                                                                                                                                                                                                                                                                                                                                                                                                                                                                                                                                                                                                                                                                                                                                                                                                                                                                                                                                                                                                                                                                                                                                                                                                                                                                                                                                                                                                                                                                                                                                                                                                                                                                                                                                                                                                                                                                                                                                                                                                                                                                                                                                                                                                                                                                                                                                                   36\n",
       "After surviving a near fatal bovine attack, a disfigured cafeteria chef (Wade Wilson) struggles to fulfill his dream of becoming Mayberry’s hottest bartender while also learning to cope with his lost sense of taste. Searching to regain his spice for life, as well as a flux capacitor, Wade must battle ninjas, the yakuza, and a pack of sexually aggressive canines, as he journeys around the world to discover the importance of family, friendship, and flavor – finding a new taste for adventure and earning the coveted coffee mug title of World’s Best Lover. \\n\\nIn Theaters May 18, 2018\\n\\nConnect with Deadpool Online: http://fox.co/DeadpoolMovieSite\\nLike Deadpool on FACEBOOK: http://fox.co/DeadpoolFB\\nFollow Deadpool on TWITTER: http://fox.co/DeadpoolTwitter\\nFollow Deadpool on INSTAGRAM: http://fox.co/DeadpoolInstagram                                                                                                                                                                                                                                                                                                                                                                                                                                                                                                                                                                                                                                                                                                                                                                                                                                                                                                                                                                                                                                                                                                                                                                                                                                                                                                                                                                                                                                                                                                                                                                                                                                                                                                                                                                                                                                                                                                                                                                                                                                                                                                                                                                                                                                                             36\n",
       "TWICE JAPAN 2nd SINGLE『Candy Pop』\\n2018.02.07 Release！\\n『Candy Pop』発売\\n○CD収録曲\\n01「Candy Pop」\\n02「BRAND NEW GIRL」　※LINE「Clova Friends 双子ダンス篇」CMソング\\n03「Candy Pop（Instrumental）」\\n04「BRAND NEW GIRL（Instrumental）」\\n\\n○初回限定盤A　WPZL-31403/4\\n価格￥1,852（＋税）\\nCD＋DVD＋24p歌詞ブックレット＋トレーディングカード（10種からランダムで1枚）\\nDVD収録内容： \\n「Candy Pop」Music Video\\n「Candy Pop」Music Video Making Movie\\n\\n○初回限定盤B　WPZL-31405/6\\n価格￥1,713（＋税）\\nCD＋DVD＋トレーディングカード（10種からランダムで1枚）\\nDVD収録内容：\\n「Candy Pop」Music Video Dance ver.\\nJacket Shooting Making Movie\\n\\n○通常盤　WPCL-12820\\n価格￥1,204（＋税）\\nCD＋トレーディングカード（10種からランダムで1枚）\\n※トレーディングカードは初回プレス分のみ封入\\n\\n○ONCE JAPAN限定盤　WPCL-12821\\n価格￥1,389（＋税）\\nCD+チェンジングジャケット9枚+応募シリアルナンバー封入\\n※バレンタイン仕様チェンジングジャケット9枚（ソロ写真ジャケット×9人分）封入\\n※ONCE JAPAN限定盤はTWICEオフィシャルファンクラブ“ONCE JAPAN”会員、もしくは「ONCE JAPAN MOBILE」会員の方が購入できる会員限定商品です。\\n\\n○WARNER MUSIC DIRECT限定セット（特典BOX付きCD3形態セット）\\n価格￥4,769（＋税）\\n「Candy Pop」の【初回限定盤A】（WPZL-31403/04）、【初回限定盤B】（WPZL-31405/06）、【通常盤】（WPCL-12820）のCD3形態に、特製収納BOXを特典として付属した、WARNER MUSIC DIRECT限定のセット商品。\\n\\nhttp://www.twicejapan.com/                                                                                                                                                                                                                                                                                                                                                                                                                                                                                                                                                                                                                                                                                                                                                                                                                                                                                                                                                                                                                                                                                                                                                                                                                                                                                                                                                                                                                                                                                                                                                                                                                                                                                                                                                                                                                                                                                                                                                                                                                                                       36\n",
       "Official video for Dancer stream + download https://FloRida.lnk.to/DancerID\\n\\nDirector – Spiff TV\\nVideo Commissioner, VP Video Production - Emmanuelle Cuny-Diop\\nExecutive Producer - Sway Mendez\\nCreative Director - Lucas Prevost\\nAssociate Director, Video Administration – Lily F Thrall\\nCoordinator, Video Content – Austin Gomez\\nAssistant, Video Production – Trevor Joseph Newton\\n\\nGet GIFS from the video via GIPHY + share: https://giphy.com/flo-rida\\n \\nVisit Flo Rida online:\\nhttp://instagram.com/official_flo\\nhttp://twitter.com/official_flo\\nhttp://facebook.com/officialflo\\nhttp://officialflo.com\\nhttp://clubflo.com                                                                                                                                                                                                                                                                                                                                                                                                                                                                                                                                                                                                                                                                                                                                                                                                                                                                                                                                                                                                                                                                                                                                                                                                                                                                                                                                                                                                                                                                                                                                                                                                                                                                                                                                                                                                                                                                                                                                                                                                                                                                                                                                                                                                                                                                                                                                                                                                                                                                  36\n",
       "CHEGOU O DIA! Agora é o momento do nosso menino brilhar. Clear levou o Fred para realizar o seu sonho de CONHECER O CRISTIANO RONALDO! Então, vai fazendo a pipoca, esquentando o café, que a mitagem vai começar! #ClearCR7Fred\\n\\nEste é o canal Desimpedidos. Pra quem ama futebol e zueira sem  limites, aqui  seu time é pequeno, o Paulo Baier é deus e o Cristiano Ronaldo é só mais um. \\n\\nCONTATO: contato@desimpedidos.com.br / imprensa@nwb.com.br                                                                                                                                                                                                                                                                                                                                                                                                                                                                                                                                                                                                                                                                                                                                                                                                                                                                                                                                                                                                                                                                                                                                                                                                                                                                                                                                                                                                                                                                                                                                                                                                                                                                                                                                                                                                                                                                                                                                                                                                                                                                                                                                                                                                                                                                                                                                                                                                                                                                                                                                                                                                                                                         36\n",
       "Florida Boy available at iTunes \\nhttp://smarturl.it/FloridaBoy/itunes\\nApple Music: http://smarturl.it/FloridaBoy/applemusic\\nSpotify: http://smarturl.it/FloridaBoy/spotify\\nAmazon Digital: http://smarturl.it/FloridaBoy/amazonmusicbuy\\nGoogle Play: http://smarturl.it/FloridaBoy/googleplay\\n\\nRick Ross online:\\nhttps://twitter.com/rickross\\nhttps://www.instagram.com/richforever\\nhttps://www.facebook.com/rickross/\\n\\n(C) 2017 Epic Records, a division of Sony Music Entertainment                                                                                                                                                                                                                                                                                                                                                                                                                                                                                                                                                                                                                                                                                                                                                                                                                                                                                                                                                                                                                                                                                                                                                                                                                                                                                                                                                                                                                                                                                                                                                                                                                                                                                                                                                                                                                                                                                                                                                                                                                                                                                                                                                                                                                                                                                                                                                                                                                                                                                                                                                                                                                      36\n",
       "Directed by Dave Free (the little homies) & Jack Begert\\nBlack Panther The Album Music From And Inspired By\\nAVAILABLE NOW: http://smarturl.it/BlackPantherAlbum\\n\\nMusic video by Jay Rock, Kendrick Lamar, Future, James Blake performing King's Dead. (C) 2018 Aftermath Records\\n\\nhttp://vevo.ly/OA5yJn                                                                                                                                                                                                                                                                                                                                                                                                                                                                                                                                                                                                                                                                                                                                                                                                                                                                                                                                                                                                                                                                                                                                                                                                                                                                                                                                                                                                                                                                                                                                                                                                                                                                                                                                                                                                                                                                                                                                                                                                                                                                                                                                                                                                                                                                                                                                                                                                                                                                                                                                                                                                                                                                                                                                                                                                           36\n",
       "“Pineapple” de Karol G está disponible ya: https://UMLE.lnk.to/fzKNyFp \\n\\nMusic video by Karol G performing Pineapple. © 2018 UMG Recordings, Inc.\\n\\nhttp://vevo.ly/3jVjzW                                                                                                                                                                                                                                                                                                                                                                                                                                                                                                                                                                                                                                                                                                                                                                                                                                                                                                                                                                                                                                                                                                                                                                                                                                                                                                                                                                                                                                                                                                                                                                                                                                                                                                                                                                                                                                                                                                                                                                                                                                                                                                                                                                                                                                                                                                                                                                                                                                                                                                                                                                                                                                                                                                                                                                                                                                                                                                                                           36\n",
       "No Excuses available at Spotify: http://smarturl.it/NoExcusesMT/spotify\\niTunes: http://smarturl.it/NoExcusesMT/itunes\\nAmazon: http://smarturl.it/NoExcusesMT/amazonmusicbuy\\nApple Music: http://smarturl.it/NoExcusesMT/applemusic\\nGoogle Play: http://smarturl.it/NoExcusesMT/googleplay\\n\\nVideo Directed by: Colin Tilley\\nVideo Produced by: Jamee Ranta\\n\\nMeghan Trainor online: \\nhttps://twitter.com/Meghan_Trainor \\nhttps://www.instagram.com/meghan_trainor \\nhttps://www.facebook.com/meghantrainorsongs \\nhttps://meghan-trainor.com\\n\\n(C) 2018 Epic Records, a division of Sony Music Entertainment                                                                                                                                                                                                                                                                                                                                                                                                                                                                                                                                                                                                                                                                                                                                                                                                                                                                                                                                                                                                                                                                                                                                                                                                                                                                                                                                                                                                                                                                                                                                                                                                                                                                                                                                                                                                                                                                                                                                                                                                                                                                                                                                                                                                                                                                                                                                                                                                                                                                                                 36\n",
       "P!NK's new album 'Beautiful Trauma' featuring the singles “What About Us”, Whatever You Want and Beautiful Trauma is available now!\\niTunes - http://smarturl.it/BeautifulTrauma/itunes?IQid=yt \\nApple Music - http://smarturl.it/BeautifulTrauma/applemusic?IQid=yt \\nSpotify - http://smarturl.it/BeautifulTrauma/spotify?IQid=yt \\nAmazon - http://smarturl.it/BeautifulTrauma/amazon?IQid=yt \\nGoogle Play - http://smarturl.it/BeautifulTrauma/googleplay?IQid=yt\\n \\nConnect with P!NK:\\nhttp://www.facebook.com/pink\\nhttp://www.twitter.com/pink\\nhttp://www.instagram.com/pink\\nhttp://www.pinkspage.com\\n\\nMTV’s “Video Music Awards” used with permission by MTV\\n©2018 Viacom Media Networks. All Rights Reserved. MTV, all related titles, characters and logos are\\nTrademarks owned by Viacom Media Networks, a division of Viacom International, Inc.                                                                                                                                                                                                                                                                                                                                                                                                                                                                                                                                                                                                                                                                                                                                                                                                                                                                                                                                                                                                                                                                                                                                                                                                                                                                                                                                                                                                                                                                                                                                                                                                                                                                                                                                                                                                                                                                                                                                                                                                                                                                                                                                                                                                                                                 36\n",
       "Listen to Migos' new album Culture II featuring ‘Stir Fry’: https://Migos.lnk.to/Culture2TA\\n\\nCheck us out on Facebook! - facebook.com/buzzfeedtasty\\n\\nCredits: https://www.buzzfeed.com/bfmp/videos/46898                                                                                                                                                                                                                                                                                                                                                                                                                                                                                                                                                                                                                                                                                                                                                                                                                                                                                                                                                                                                                                                                                                                                                                                                                                                                                                                                                                                                                                                                                                                                                                                                                                                                                                                                                                                                                                                                                                                                                                                                                                                                                                                                                                                                                                                                                                                                                                                                                                                                                                                                                                                                                                                                                                                                                                                                                                                                                                           36\n",
       "                                                                                                                                                                                                                                                                                                                                                                                                                                                                                                                                                                                                                                                                                                                                                                                                                                                                                                                                                                                                                                                                                                                                                                                                                                                                                                                                                                                                                                                                                                                                                                                                                                                                                                                                                                                                                                                                                                                                                                                                                                                                                                                                                                                                                                                                                                                                                                                                                                                                                                                                                                                                                                                                                                                                                                                                                                                                                                                                                                                                                                                                                                                     ... \n",
       "Donald (Alec Baldwin), Melania (Cecily Strong), Ivanka (Scarlett Johansson), Donald Jr. (Mikey Day) and Eric Trump (Alex Moffat) trim the tree with help from Kellyanne Conway (Kate McKinnon), Sarah Huckabee Sanders (Aidy Bryant), Mike Pence (Beck Bennett) and more.\\n\\n#SNL #SNL43\\n\\nGet more SNL: http://www.nbc.com/saturday-night-live\\nFull Episodes: http://www.nbc.com/saturday-night-liv...\\n\\nLike SNL: https://www.facebook.com/snl\\nFollow SNL: https://twitter.com/nbcsnl\\nSNL Tumblr: http://nbcsnl.tumblr.com/\\nSNL Instagram: http://instagram.com/nbcsnl \\nSNL Pinterest: http://www.pinterest.com/nbcsnl/                                                                                                                                                                                                                                                                                                                                                                                                                                                                                                                                                                                                                                                                                                                                                                                                                                                                                                                                                                                                                                                                                                                                                                                                                                                                                                                                                                                                                                                                                                                                                                                                                                                                                                                                                                                                                                                                                                                                                                                                                                                                                                                                                                                                                                                                                                                                                                                                                                                                                        1\n",
       "Lisa O'Neill and Glen Hansard were among the many artists performing at the National Concert Hall in honour of Shane MacGowan's 60th. Shot with a Canon M5 canon.ie                                                                                                                                                                                                                                                                                                                                                                                                                                                                                                                                                                                                                                                                                                                                                                                                                                                                                                                                                                                                                                                                                                                                                                                                                                                                                                                                                                                                                                                                                                                                                                                                                                                                                                                                                                                                                                                                                                                                                                                                                                                                                                                                                                                                                                                                                                                                                                                                                                                                                                                                                                                                                                                                                                                                                                                                                                                                                                                                                     1\n",
       "The Beyond Good and Evil 2 development team is hard at work bringing System 3 to life. Hear about what they’re working on right now, how it’s coming along, and how you can be a part of the creation process by joining the Space Monkey Program.\\n\\n#BGE2\\nhttps://www.facebook.com/beyondgoodan...\\nhttps://www.youtube.com/UbisoftUS\\n\\nABOUT Beyond Good and Evil 2:\\n\\nJourney to System 3, for the prequel to one of Ubisoft’s most beloved games! Fight alongside unforgettable characters in a stunning new solar system, as you struggle for freedom and the right to determine your own fate among the stars. Play the adventure by yourself or with friends in a vast and seamless online playground.\\n\\nBeyond Good and Evil 2 is the spiritual successor to the cult classic, a prequel that will transport players into a profoundly multicultural world, capturing the spirit of the original with grandiose decors and intense dramas that play out across a vast universe. Through the Space Monkey Program, Ubisoft Montpellier will be developing the game alongside its community of fans.\\n\\nSystem 3 has become the center of interstellar trade and colonization in the Milky Way of the 24th century, thanks to the creation of Hybrid slaves. While private enterprises fight over resources and power, the first colonists weave together the rich and diverse spiritual and cultural heritages of Old Earth to give meaning to their existence. In this new era of piracy, we will rise from lowly pirate to legendary captain at the helm of massive star-faring vessels, adventuring alongside crews of colorful characters to fight for freedom and the right to determine our own fate among the stars!\\n\\nESRB Rating Pending\\n\\n© 2017 Ubisoft Entertainment. All Rights Reserved. Beyond Good & Evil, Ubisoft and the Ubisoft logo are trademarks of Ubisoft Entertainment in the US and/or other countries. \\n \\n \\nBeyond Good and Evil 2: First Ship and Crew Update | Ubiblog | Ubisoft [US]\\nhttps://www.youtube.com/UbisoftUS                                                                                                                                                                                                                                                                                                                                                                                                                                                                                                                                                                                                                                                                                                                                                                                                                                                                                                                                                                                                                                                  1\n",
       "Download + Stream RAP NIGGAS: http://i.ihussle.co/getRapNiggas\\nPre-order VICTORY LAP out 2/16: http://i.ihussle.co/preorder\\n\\nDirected by: http://Instagram.com/DirectedBySergio\\nVideo Commissioner: Joseph Boyd\\n\\nFollow Nipsey Hussle on socials:\\nhttps://www.instagram.com/nipseyhussle\\nhttps://twitter.com/nipseyhussle\\nhttps://www.facebook.com/nipseyhussle\\nhttp://ihussle.com                                                                                                                                                                                                                                                                                                                                                                                                                                                                                                                                                                                                                                                                                                                                                                                                                                                                                                                                                                                                                                                                                                                                                                                                                                                                                                                                                                                                                                                                                                                                                                                                                                                                                                                                                                                                                                                                                                                                                                                                                                                                                                                                                                                                                                                                                                                                                                                                                                                                                                                                                                                                                                                                                                                            1\n",
       "my debut album is out 🦋  listen here http://smarturl.it/Camila_DSPs\\n\\nListen to Never Be The Same now: http://smarturl.it/Camila_NBTS\\n\\nFollow me: \\nTwitter: @camila_cabello\\nIG: @camila_cabello \\nFacebook: @97camilacabello \\nWebsite: www.camilacabello.com\\n\\nLyrics:\\n\\n[Verse 1]\\nSomething must've gone wrong in my brain\\nGot your chemicals all in my veins\\nFeeling all the highs, feeling all the pain\\nLet go on the wheel, it’s the bullet lane\\nNow I'm seeing red, not thinking straight\\nBlurring all the lines, you intoxicate me\\n\\n[Pre-Chorus]\\nJust like nicotine, heroin, morphine\\nSuddenly, I'm a fiend and you're all I need\\nAll I need, yeah, you're all I need\\n\\n[Chorus]\\nIt's you, babe\\nAnd I'm a sucker for the way that you move, babe\\nAnd I could try to run, but it would be useless\\nYou're to blame\\nJust one hit of you, I knew I'll never be the same\\nIt's you, babe\\nAnd I'm a sucker for the way that you move, babe\\nAnd I could try to run, but it would be useless\\nYou're to blame\\nJust one hit of you, I knew I’ll never ever, ever be the same\\nI'll never be the same\\nI'll never be the same\\nI'll never be the same\\n\\n[Verse 2]\\nSneaking in L.A. when the lights are low\\nOff of one touch I could overdose\\nYou said, stop playing it safe\\nGirl, I wanna see you lose control\\n\\n[Pre-Chorus]\\nJust like nicotine, heroin, morphine\\nSuddenly, I'm a fiend and you're all I need\\nAll I need, yeah, you're all I need\\n\\n[Chorus]\\nIt's you, babe\\nAnd I'm a sucker for the way that you move, babe\\nAnd I could try to run, but it would be useless\\nYou're to blame\\nJust one hit of you, I knew I'll never be the same\\nIt's you, babe\\nAnd I'm a sucker for the way that you move, babe\\nAnd I could try to run, but it would be useless\\nYou're to blame\\nJust one hit of you, I knew I’ll never ever, ever be the same\\nI'll never be the same\\nI'll never be the same\\nI'll never be the same\\n\\n[Bridge]\\nYou're in my blood, you're in my veins, you're in my head (I blame)\\nYou're in my blood, you're in my veins, you're in my head\\n\\n[Chorus]\\nI'm saying it's you, babe\\nAnd I'm a sucker for the way that you move, babe\\nAnd I could try to run, but it would be useless\\nYou're to blame (you're to blame)\\nJust one hit of you, I knew I'll never be the same (I'll never be the)\\nIt's you, babe\\nAnd I'm a sucker for the way that you move, babe\\nAnd I could try to run, but it would be useless\\nYou're to blame\\nJust one hit of you, I knew I’ll never ever, ever be the same                                                                                                                                                                                                                                                                                                                                                                                                                                                                                                                                                  1\n",
       "Brooke Simpson and Miley Cyrus sing Miley Cyrus' Wrecking Ball during the Live Finale, Part 1.\\n» Get The Voice Official App: http://bit.ly/TheVoiceOfficialApp\\n» Subscribe for More: http://bit.ly/TheVoiceSub\\n» Get Brooke and Miley's Performance on iTunes: http://apple.co/2AW7JXg\\n» Watch Full Episodes: http://bit.ly/TheVoiceFullEpisodes\\n\\nTHE VOICE ON SOCIAL:\\nLike The Voice: http://Facebook.com/NBCTheVoice\\nFollow The Voice: https://Twitter.com/NBCTheVoice\\nThe Voice Tumblr: http://nbcTheVoice.Tumblr.com/\\nFollow The Voice on Instagram: https://instagram.com/nbcthevoice/\\n\\nNBC’s The Voice follows the strongest vocalists from across the country and invites them to compete in this season's blockbuster vocal competition.\\n\\nFind The Voice trailers, full episode highlights, previews, promos, clips, and digital exclusives here.\\n\\nNBC ON SOCIAL:\\nNBC YouTube: http://www.youtube.com/nbc\\nLike NBC: http://Facebook.com/NBC\\nFollow NBC: http://Twitter.com/NBC\\nNBC Tumblr: http://nbctv.tumblr.com/\\nNBC Google+: https://plus.google.com/+NBC/posts\\nNBC Instagram: http://instagram.com/nbc\\n\\nABOUT THE VOICE\\nThe Voice 2017 USA YouTube channel features exclusive content with The Voice coaches, highlights from The Voice auditions, interviews with The Voice winners, as well as The Voice recaps and results. Learn more about The Voice contestants, The Voice tour, the eliminations, and follow your favorite performers all the way to the finale. In season 13, Jennifer Hudson joins returning coaches Adam Levine, Blake Shelton, and welcomes back Miley Cyrus as celebrity musician coaches, while Carson Daly continues to serve as host. The show’s innovative format features five stages of competition: the first begins with the blind auditions, followed by the battle rounds, the knockouts, the live playoffs and finally, the live performance shows.\\n\\nThe Voice 2017 Brooke Simpson and Miley Cyrus - Finale: Wrecking Ball\\nhttps://youtu.be/KdBGLKvISJQ\\n\\nThe Voice\\nhttp://www.youtube.com/user/nbcthevoice                                                                                                                                                                                                                                                                                                                                                                                                                                                                                                                                                                                                                                                                                                                                                                                                                                                                                                                                                                                                                           1\n",
       "Toto - Africa cover by computer hardware orchestra. Which song would you like to hear next? Like it? Share it! More info on how it works: http://silent.org.pl/home/ .                                                                                                                                                                                                                                                                                                                                                                                                                                                                                                                                                                                                                                                                                                                                                                                                                                                                                                                                                                                                                                                                                                                                                                                                                                                                                                                                                                                                                                                                                                                                                                                                                                                                                                                                                                                                                                                                                                                                                                                                                                                                                                                                                                                                                                                                                                                                                                                                                                                                                                                                                                                                                                                                                                                                                                                                                                                                                                                                                  1\n",
       "Far Cry 5 is the biggest, most open Far Cry to date, giving you free rein to explore the highways and wilderness of Hope County, Montana, where you’ll make life tough for the cultists of The Project at Eden’s Gate and unite the locals as a resistance. How you do this is entirely up to you; what matters is that you take back Hope County and hit the cult as hard as you can.\\n\\nFar Cry 5 will be released on PS4, Xbox one, and PC.\\n \\nLearn more at farcry.com. Available March 27, 2018.\\n#FarCry5 #FarCry\\n \\nPlease SUBSCRIBE: http://bit.ly/UbisoftYouTubeChannel\\n \\nVisit our official channels for the latest information on all things Far Cry:\\n \\nhttps://far-cry.ubisoft.com/ https://www.facebook.com/farcry.usa https://www.instagram.com/farcrygame_us/ https://twitter.com/FarCrygame http://www.youtube.com/UbisoftUS\\n \\nABOUT FAR CRY 5:\\nFar Cry comes to America in the latest installment of the award-winning franchise.\\nWelcome to Hope County, Montana. When your arrival incites the cult to violently seize control of the region, you must rise up and spark the fires of resistance to liberate a besieged community.\\n \\nFreely explore Hope County’s rivers, lands, and skies with the largest customizable weapon and vehicle roster ever in a Far Cry game. You are the hero of the story in a thrilling world that hits back with every\\n \\npunch, and where the places you discover and the locals you ally with will shape your story in ways you’ll never see coming.\\n \\nKEY FEATURES:\\nSPARK THE FIRES OF RESISTANCE AGAINST A FANATIC CULT:\\nStranded in hostile territory, find strength in the community around you to lead a resistance against a cult taking over Hope County, Montana.\\n \\nCARVE YOUR OWN PATH:\\nThe freedom to go in any direction – you decide the when, the where, and the how.\\nFrom the moment you enter Hope County you have the freedom to tackle the world in any order you choose.\\n \\nA WORLD THAT EVOLVES\\nPlay your way against Joseph Seed and his fanatical followers in a dynamic open world that adapts and reacts to the choices you make.\\n \\nDYNAMIC TOYS\\nTear up the countryside in iconic American vehicles you can make your own; from muscle cars to big rigs,from ATVs to tractors.\\n \\nFar Cry 5: New Gameplay in Holland Valley | Ubiblog | Ubisoft [US]\\nhttp://www.youtube.com/UbisoftUS                                                                                                                                                                                                                                                                                                                                                                                                                                                                                                                                                                                                                                                                                                                         1\n",
       "Harper Grace Sings Original Tune R.I.P. for her Hollywood Week Solo Performance on American Idol 2018.\\n\\nSee more of American Idol on our official site: http://www.americanidol.com\\nLike American Idol on Facebook: https://www.facebook.com/AmericanIdol\\nFollow American Idol on Twitter: https://twitter.com/americanidol\\nFollow American Idol on Instagram: https://www.instagram.com/americanidol/\\n\\nLike ABC on Facebook: https://www.facebook.com/ABCNetwork/\\nFollow ABC on Twitter: ‪https://twitter.com/abcnetwork\\nFollow ABC on Instagram: ‪https://www.instagram.com/abcnetwork/\\n\\nAMERICAN IDOL, the iconic series that revolutionized the television landscape by pioneering the music competition genre, will return to airwaves on SUNDAY, MARCH 11 at 8|7c, at its new home on ABC.\\n\\nThe nationwide search for the next superstar kicked off in August 2017, as the Idol Bus traveled from Portland, Oregon, to Orlando, Florida, in its pursuit for talent, covering 23 cities across the country. Auditioning was made easier than ever as hopefuls also had the opportunity to submit audition videos online, as well as via select social media platforms using an official tag, #TheNextIdol, cultivating over 300,000 posts. Also, for the first time in “American Idol” history, hopefuls had the opportunity to audition through a livestream platform.\\n\\nHelping to determine who America will ultimately vote for to become the next singing sensation, are music industry forces and superstar judges, Luke Bryan, Katy Perry and Lionel Richie. Emmy® Award-winning host and producer Ryan Seacrest will return as host of the beloved series.                                                                                                                                                                                                                                                                                                                                                                                                                                                                                                                                                                                                                                                                                                                                                                                                                                                                                                                                                                                                                                                                                                                                                                                                                                                                                                                                                                                                                                   1\n",
       "Wendy Williams overheated in her Halloween costume and fainted on her show, but came right back after a commercial break like a champ! She definitely gave her audience a massive scare.\\n\\nWendy responds to this here:\\nWendy Talks about Fainting on Yesterday's Show\\nhttps://www.youtube.com/watch?v=PMUlF2tcX7E\\nWendy opens up about fainting during her LIVE Halloween episode.\\n\\nWendy Williams passed out during her Halloween special on Tuesday. The host was returning from commercial break with 10 minutes left in the program, when seconds in she could be seen in visible distress. Williams, 53, was having trouble reading the cue cards and seemed to be confused, saying 'carest' instead of 'contestant'. A sudden look of fear and shock then appeared in her eyes as she staggered backwards, with her hands shaking and her breathing belabored. She then dropped to the floor and multiple members of the crew could be seen rushing to her aid.\\n\\nWilliams said that she had overheated after an extended break and that the episode was not a stunt. She was dressed in green sequined leggings and a green sequined top along with a green wig and green foil crown for her Statue of Liberty costume. After the incident, an ambulance arrived on the scene and a wheelchair was taken out of the emergency vehicle An Escalade arrived a short time after and was ushered into the garage buy Williams' security team.                                                                                                                                                                                                                                                                                                                                                                                                                                                                                                                                                                                                                                                                                                                                                                                                                                                                                                                                                                                                                                                                                                                                                                                                                                                                                                                                                                                                                                                                                                                                                                                                                                                                1\n",
       "Tom Holland Avengers 3 failed to impress Madonna It's was the most embarrassing moment of my life                                                                                                                                                                                                                                                                                                                                                                                                                                                                                                                                                                                                                                                                                                                                                                                                                                                                                                                                                                                                                                                                                                                                                                                                                                                                                                                                                                                                                                                                                                                                                                                                                                                                                                                                                                                                                                                                                                                                                                                                                                                                                                                                                                                                                                                                                                                                                                                                                                                                                                                                                                                                                                                                                                                                                                                                                                                                                                                                                                                                                       1\n",
       "Ada Vox auditions for American Idol in front of Judges Lionel Richie, Katy Perry and Luke Bryan with House of the Rising Sun by The Animals.\\n\\nSee more of American Idol on our official site: http://www.americanidol.com\\nLike American Idol on Facebook: https://www.facebook.com/AmericanIdol\\nFollow American Idol on Twitter: https://twitter.com/americanidol\\nFollow American Idol on Instagram: https://www.instagram.com/americanidol/\\n\\nLike ABC on Facebook: https://www.facebook.com/ABCNetwork/\\nFollow ABC on Twitter: ‪https://twitter.com/abcnetwork\\nFollow ABC on Instagram: ‪https://www.instagram.com/abcnetwork/\\n\\nAMERICAN IDOL, the iconic series that revolutionized the television landscape by pioneering the music competition genre, will return to airwaves on SUNDAY, MARCH 11 at 8|7c, at its new home on ABC.\\n\\nThe nationwide search for the next superstar kicked off in August 2017, as the Idol Bus traveled from Portland, Oregon, to Orlando, Florida, in its pursuit for talent, covering 23 cities across the country. Auditioning was made easier than ever as hopefuls also had the opportunity to submit audition videos online, as well as via select social media platforms using an official tag, #TheNextIdol, cultivating over 300,000 posts. Also, for the first time in “American Idol” history, hopefuls had the opportunity to audition through a livestream platform.\\n\\nHelping to determine who America will ultimately vote for to become the next singing sensation, are music industry forces and superstar judges, Luke Bryan, Katy Perry and Lionel Richie. Emmy® Award-winning host and producer Ryan Seacrest will return as host of the beloved series.                                                                                                                                                                                                                                                                                                                                                                                                                                                                                                                                                                                                                                                                                                                                                                                                                                                                                                                                                                                                                                                                                                                                                                                                                                                                                                                                                                                             1\n",
       "Coach Snoop follows the legendary rapper outside the studio and on the field, as he coaches a team of teenagers in the Snoop Youth Football League. The eight-episode season offers an intimate look at Snoop and the players as they chase a championship and deal with adversity off the field. Coach Snoop launches globally on Netflix February 2, 2018. \\n\\nWatch Coach Snoop on Netflix: https://www.netflix.com/title/80157137\\n\\nSUBSCRIBE: http://bit.ly/29qBUt7\\n\\nAbout Netflix:\\nNetflix is the world’s leading Internet television network with over 100 million members in over 190 countries enjoying more than 125 million hours of TV shows and movies per day, including original series, documentaries and feature films. Members can watch as much as they want, anytime, anywhere, on nearly any Internet-connected screen. Members can play, pause and resume watching, all without commercials or commitments.\\n\\nConnect with Netflix Online:\\nVisit Netflix WEBSITE: http://nflx.it/29BcWb5\\nLike Netflix Kids on FACEBOOK: http://bit.ly/NetflixFamily\\nLike Netflix on FACEBOOK: http://bit.ly/29kkAtN\\nFollow Netflix on TWITTER: http://bit.ly/29gswqd\\nFollow Netflix on INSTAGRAM: http://bit.ly/29oO4UP\\nFollow Netflix on TUMBLR: http://bit.ly/29kkemT\\n\\nCoach Snoop | Official Trailer [HD] | Netflix \\nhttp://youtube.com/netflix                                                                                                                                                                                                                                                                                                                                                                                                                                                                                                                                                                                                                                                                                                                                                                                                                                                                                                                                                                                                                                                                                                                                                                                                                                                                                                                                                                                                                                                                                                                                                                                                                                                                                                                                                  1\n",
       "After The Storm, ft Tyler, The Creator and Bootsy Collins is out now - https://KaliUchis.lnk.to/ATS\\n\\nVideo Director - Nadia Lee Cohen \\nCreative Director - Kali Uchis\\nProduced by - BADBADNOTGOOD \\n\\nLyrics\\n\\n[Intro: Bootsy Collins]\\nAh\\nWhatever goes around\\nEventually comes back to you\\nSo you gotta be careful, baby\\nAnd look both ways\\nBefore you cross my mind\\n\\n[Verse 1: Kali Uchis & Bootsy Collins]\\nDid you ever wonder?\\nYeah, do you ever wonder\\nWhat he might be going through on his own, and\\nThe demons that he's facing alone\\nI hate that sometimes I can't go home\\nAnd it just the same on the phone, no\\nBut everybody's gotta go on, don't they?\\nYes, we do, baby\\n\\n[Pre-Chorus: Kali Uchis & Bootsy Collins]\\nSo if you need a hero (if you need a hero)\\nJust look in the mirror (just look in the mirror)\\nNo one's gonna save you now\\nSo you better save yourself\\nAnd everybody's hurting\\nEverybody's going through it\\nBut you just can't give up now\\n'Cause you gotta save yourself\\nYeah, gotta hang on, baby\\n[Chorus: Kali Uchis]\\nThe sun'll come out\\nNothing good ever comes easy\\nI know times are rough\\nBut winners don't quit\\nSo don't you give up\\nThe sun'll come out\\nBut we've been struggling endless days\\nSomeday we'll find the love\\n'Cause after the storm's\\nWhen the flowers bloom\\n\\n[Verse 2: Tyler, The Creator]\\nKali, what you mean?\\nI take it offensive\\n'Cause I'm the hottest flower boy\\nThat popped up on the scene\\nFeeling better, better than ever\\n'Cause your umbrella, -brella (-brella, light)\\nSun is beaming on me like headlights beaming on Bambi\\nNow let's pretend the street is the room\\nAnd you are a Camry\\n'Cause your drama candid\\nThe Tito to my Randy\\nNow let's produce some thrillers\\nMy chocolate wit' yo' vanilla, uh\\n[Chorus: Kali Uchis]\\nThe sun'll come out\\nNothing good ever comes easy\\nI know times are rough\\nBut winners don't quit\\nSo don't you give up\\nThe sun'll come out\\nBut we've been struggling endless days\\nSomeday we'll find the love\\n'Cause after the storm...\\n\\n[Bridge: Kali Uchis]\\nI know it's hard\\nBut do you even really try?\\nMaybe you could understand\\nWhen all you had to do was ask\\nAnd just open your mind\\nWhen everything is passing by\\nAnd all you had to do was try\\nYeah, all you had to was try\\n\\n[Outro: Bootsy Collins & Kali Uchis]\\nTry, try, try, try, try\\nAll you had to do was try\\nTry, try, try, try                                                                                                                                                                                                                                                                                                                                                                                                                                                                                                                                                                                                                                         1\n",
       "Check out the official Sorry to Bother You trailer starring Lakeith Stanfield! Let us know what you think in the comments below.\\n► Buy Tickets to Sorry to Bother You: https://www.fandango.com/sorry-to-bother-you-210036/movie-overview?cmp=MCYT_YouTube_Desc\\n\\nUS Release Date: July 6, 2018\\nStarring: Tessa Thompson, Armie Hammer, Lakeith Stanfield\\nDirected By: Boots Riley\\nSynopsis: In an alternate present-day version of Oakland, black telemarketer Cassius Green discovers a magical key to professional success - which propels him into a macabre universe.\\n\\nWatch More Trailers: \\n► Hot New Trailers: http://bit.ly/2qThrsF\\n► In Theaters This Week: http://bit.ly/2ExQ1Lb\\n► Family & Animation Trailers: http://bit.ly/2D3RLiG\\n\\nFuel Your Movie Obsession: \\n► Subscribe to MOVIECLIPS TRAILERS: http://bit.ly/2CNniBy\\n► Watch Movieclips ORIGINALS: http://bit.ly/2D3sipV\\n► Like us on FACEBOOK: http://bit.ly/2DikvkY \\n► Follow us on TWITTER: http://bit.ly/2mgkaHb\\n► Follow us on INSTAGRAM: http://bit.ly/2mg0VNU\\n\\nThe Fandango MOVIECLIPS TRAILERS channel delivers hot new trailers, teasers, and sneak peeks for all the best upcoming movies. Subscribe to stay up to date on everything coming to theaters and your favorite streaming platform.                                                                                                                                                                                                                                                                                                                                                                                                                                                                                                                                                                                                                                                                                                                                                                                                                                                                                                                                                                                                                                                                                                                                                                                                                                                                                                                                                                                                                                                                                                                                                                                                                                                                                                                                                                                                                           1\n",
       "I, Tonya Trailer #1 (2017): Check out the new trailer starring Margot Robbie, Bobby Cannavale, and Sebastian Stan! Be the first to watch, comment, and share trailers and movie teasers/clips dropping soon @MovieclipsTrailers. \\n\\n► Buy Tickets: https://www.fandango.com/i-tonya-206021/movie-overview?cmp=MCYT_YouTube_Desc\\n\\nWatch more Trailers: \\n► HOT New Trailers Playlist: http://bit.ly/2hp08G1\\n► What to Watch Playlist: http://bit.ly/2ieyw8G\\n► Even More on COMING SOON: http://bit.ly/H2vZUn\\n\\nCompetitive ice skater Tonya Harding rises among the ranks at the U.S. Figure Skating Championships, but her future in the sport is thrown into doubt when her ex-husband intervenes. \\n\\nAbout Movieclips Trailers:\\n► Subscribe to TRAILERS:http://bit.ly/sxaw6h\\n► We’re on SNAPCHAT: http://bit.ly/2cOzfcy \\n► Like us on FACEBOOK: http://bit.ly/1QyRMsE \\n► Follow us on TWITTER:http://bit.ly/1ghOWmt \\n\\nThe Fandango MOVIECLIPS Trailers channel is your destination for hot new trailers the second they drop. The Fandango MOVIECLIPS Trailers team is here day and night to make sure all the hottest new movie trailers are available whenever, wherever you want them.                                                                                                                                                                                                                                                                                                                                                                                                                                                                                                                                                                                                                                                                                                                                                                                                                                                                                                                                                                                                                                                                                                                                                                                                                                                                                                                                                                                                                                                                                                                                                                                                                                                                                                                                                                                                                                                                                                                1\n",
       "Official video for 'Stop Me From Falling', taken from Kylie's upcoming album 'Golden', released 6/4/18. \\nPre-order: https://kylie.lnk.to/goldenID\\nVisit the Official Store for deluxe and limited edition formats: https://kylie.lnk.to/goldenID/kylieminogue\\n\\nColin Solal Cardo - Director\\nSiobhán Daly - Producer\\n\\nFollow Kylie:\\nhttp://www.kylie.com\\nhttps://www.facebook.com/kylieminogue\\nhttps://www.instagram.com/kylieminogue\\nhttps://twitter.com/kylieminogue\\n\\nhttp://vevo.ly/6CGSN9                                                                                                                                                                                                                                                                                                                                                                                                                                                                                                                                                                                                                                                                                                                                                                                                                                                                                                                                                                                                                                                                                                                                                                                                                                                                                                                                                                                                                                                                                                                                                                                                                                                                                                                                                                                                                                                                                                                                                                                                                                                                                                                                                                                                                                                                                                                                                                                                                                                                                                                                                                                                               1\n",
       "Camila Cabello lights up the ice with an amazing performance of her single 'Never Be The Same (Again)' in Week 7 of Dancing On Ice 2018!\\n\\nWatch more videos of Dancing On Ice on the official YouTube channel: http://www.youtube.com/dancingonice\\n\\nhttp://www.itv.com\\n\\nLike, follow and subscribe to the official YouTube channel for Dancing On Ice! \\n\\nYoutube:https://goo.gl/mN4Rdd\\nWebsite: http://www.itv.com/dancingonice\\nFacebook: https://www.facebook.com/dancingonice\\nTwitter: https://twitter.com/dancingonice                                                                                                                                                                                                                                                                                                                                                                                                                                                                                                                                                                                                                                                                                                                                                                                                                                                                                                                                                                                                                                                                                                                                                                                                                                                                                                                                                                                                                                                                                                                                                                                                                                                                                                                                                                                                                                                                                                                                                                                                                                                                                                                                                                                                                                                                                                                                                                                                                                                                                                                                                                                    1\n",
       "I'm back! Finally, after a whole month offline, it feels good to be back. Here's a chatty catchup and a vlog from a day out in Covent Garden! \\nClick 'SHOW MORE' below\\n\\nSubscribe here http://lpebbles.uk/rHpKla\\nI'm currently uploading Wednesdays at 6.30pm and Sundays at 9.30am UK time. \\n\\n \\nI Wore…\\n+ *Lingua Franca Red Jumper http://bit.ly/2z9WInp\\n+ *Urban Outfitters Blue Axyl Jeans http://bit.ly/2zaTvEc \\n+ Abbott Lyon Watch http://lpebbles.uk/2ltbCZ  \\n+ *Topshop Coat http://bit.ly/2haXtWz\\n+ *Vans http://bit.ly/2h9uClq\\n+ *Gucci Soho Disco Bag http://bit.ly/2zcWLz0\\n\\n\\nI Went… \\n+ Chick 'n' Sours http://lpebbles.uk/ggdJo8\\n+ Jacob The Angel http://lpebbles.uk/goHjma\\n+ Rococo Chocolates http://lpebbles.uk/ZENWe9\\n+ Arket http://lpebbles.uk/MMFd2F\\n+ Petersham Nurseries Shop http://lpebbles.uk/66j1kM\\n\\n\\nI Mentioned… \\n+ Hershesons http://lpebbles.uk/425p33\\n+ *Glossier You http://bit.ly/2h9FpvU\\n+ *Dior Diorific Lip & Cheek Matte Fluid http://bit.ly/2zabieT\\n+ Diprobase Emollient Cream http://lpebbles.uk/43U3uI\\n+ *Marks & Spencer Dressing Gown http://bit.ly/2zcnknI\\n\\n\\n\\nWatch my wedding video here http://lpebbles.uk/Z1hCsZ\\n\\n\\nFIND ME:\\nSubscribe - http://bit.ly/10dYuIf\\nBlog - http://bit.ly/1kL8Qd6\\nInstagram - http://instagram.com/lilypebbles\\nTwitter - https://twitter.com/lilypebbles\\nFacebook - https://www.facebook.com/lilypebbles\\n\\nMusic by Epidemic Sound (http://www.epidemicsound.com)\\nThumbnail by Smukkeberg http://lpebbles.uk/iTdQuf\\n\\nDisclaimer: \\nThis video is not an advertisement. \\n*Affiliate links\\nIf you purchase something using one of the marked links, I make a small percentage from that sale. This doesn't affect my opinions. Thanks for your support. \\n--------------------------------------------------------------------------------­-----------------\\nHow to contact me:\\n\\nlily@lilypebbles.co.uk\\n\\nLily Pebbles\\nGleam Futures\\n6th Floor\\n60 Charlotte Street\\nLondon W1T 2NU                                                                                                                                                                                                                                                                                                                                                                                                                                                                                                                                                                                                                                                                                                                                                                                                                                                                                                                                                                                                                                                                                                        1\n",
       "Thirty Seconds to Mars will be bringing the MONOLITH Tour to America this summer. Tour dates and tickets at http://www.thirtysecondstomars.com/\\n\\nFollow Thirty Seconds to Mars on Social Media:\\nYouTube: https://www.youtube.com/user/30SecondsToMarsVEVO\\nFacebook: https://www.facebook.com/thirtysecondstomars/\\nInstagram: https://www.instagram.com/30SecondsToMars/\\nTwitter: https://twitter.com/30SECONDSTOMARS\\n\\nGet Dangerous Night:\\nhttp://smarturl.it/DangerousNight \\nSpotify: http://smarturl.it/DangerousNight/spotify\\nApple Music: http://smarturl.it/DangerousNight/applemusic \\niTunes: http://smarturl.it/DangerousNight/itunes \\nAmazon: http://smarturl.it/DangerousNight/amazonmusicbuy \\nGoogle Play: http://smarturl.it/DangerousNight/googleplay\\n\\nShop the Thirty Seconds to Mars’ Store:\\nhttp://www.thirtysecondstomarsstore.com\\n\\nLYRICS\\n\\nWE BURNED AND WE BLED\\nWE TRY TO FORGET\\nBUT THE MEMORIES LEFT\\nARE STILL HAUNTING\\n\\nTHE WALLS THAT WE BUILT\\nFROM BOTTLES AND PILLS\\nWE SWALLOW UNTIL\\nWE’RE NOT TALKING\\n\\nI\\nI AM A MAN ON FIRE\\nYOU\\nA VIOLENT DESIRE\\n\\nWHAT A DANGEROUS NIGHT TO FALL IN LOVE\\nDON’T KNOW WHY WE STILL HIDE WHAT WE’VE BECOME\\nDO YOU WANT TO CROSS THE LINE?\\nWE’RE RUNNING OUT OF TIME\\nA DANGEROUS NIGHT TO FALL IN LOVE\\n\\nSTARTED A STRANGER\\nA LOVER IN DANGER\\nTHE EDGE OF A KNIFE\\n\\nTHE FACE OF AN ANGEL\\nTHE HEART OF A GHOST\\nWAS IT A DREAM?\\n\\nI\\nI AM A MAN ON FIRE\\nYOU\\nA VIOLENT DESIRE\\n\\nWHAT A DANGEROUS NIGHT TO FALL IN LOVE\\nDON’T KNOW WHY WE STILL HIDE WHAT WE’VE BECOME\\nDO YOU WANT TO CROSS THE LINE?\\nWE’RE RUNNING OUT OF TIME\\nA DANGEROUS NIGHT TO FALL IN LOVE\\n\\nMusic video by Thirty Seconds To Mars performing Dangerous Night. (C) 2018 Thirty Seconds to Mars under exclusive license to Interscope Record\\n\\nhttp://vevo.ly/H3bewU                                                                                                                                                                                                                                                                                                                                                                                                                                                                                                                                                                                                                                                                                                                                                                                                                                                                                                                                                                                                                                                                                                                                                                                                                                                                     1\n",
       "Comedian Hari Kondabolu, the creator and star of this feature-length documentary, confronts his long standing “nemesis” Apu Nahasapeemapetilon – better known as the Indian convenience store owner on The Simpsons. Through this comedic cultural exposé, Kondabolu questions how this controversial caricature was created, burrowed its way into the hearts and minds of Americans and continues to exist – intact – twenty-eight years later.\\n\\n=====Want a remotely-hosted Linux server?=====\\nGet a free $10 in cloud hosting @ https://m.do.co/c/7ed6fb623c32                                                                                                                                                                                                                                                                                                                                                                                                                                                                                                                                                                                                                                                                                                                                                                                                                                                                                                                                                                                                                                                                                                                                                                                                                                                                                                                                                                                                                                                                                                                                                                                                                                                                                                                                                                                                                                                                                                                                                                                                                                                                                                                                                                                                                                                                                                                                                                                                                                                                                                                                                   1\n",
       "Get an unprecedented glimpse into Taylor's songwriting process as she shares personal videos of herself at the piano playing and creating the song Gorgeous. “The Making of a Song” is a revolutionary new series shot by Taylor herself, coming to Taylor Swift NOW on Nov. 13. To watch the series trailer, visit https://go.att.com/MOAS_11.13.\\n\\nFor more information, visit https://att.com/TaylorSwift.                                                                                                                                                                                                                                                                                                                                                                                                                                                                                                                                                                                                                                                                                                                                                                                                                                                                                                                                                                                                                                                                                                                                                                                                                                                                                                                                                                                                                                                                                                                                                                                                                                                                                                                                                                                                                                                                                                                                                                                                                                                                                                                                                                                                                                                                                                                                                                                                                                                                                                                                                                                                                                                                                                          1\n",
       "DJ Snake ft Lauv - A Different Way Dance! this is our FIRST time collabing, should we do more?\\n▶ INSTAGRAM: http://instagram.com/MattSteffanina\\n▶ 2ND INSTAGRAM (new)!! http://instagram.com/MattSteffanina2\\n▶ SUBSCRIBE: http://bit.ly/2uXO9aZ\\n▶ TUTORIALS: http://youtube.com/dancetutorialslive\\n▶ FACEBOOK: http://facebook.com/mattsteff\\n\\nFollow Matt: @MattSteffanina\\nFollow Erica: @Erica_Klein\\n\\nChoreography by: Matt Steffanina & Erica Klein\\nFilmed by: Topher Shrigley\\nEdited by: Matt Steffanina\\n\\n\\nListen to DJ Snake’s 'A Different Way ft Lauv':\\nhttp://smarturl.it/ADifferentWay\\nSign up for updates from DJ Snake: http://smarturl.it/DJSnake.News\\n\\nDJ Snake\\nhttps://www.facebook.com/djsnake.fr\\nhttps://twitter.com/djsnake\\nhttps://www.instagram.com/djsnake/\\nhttps://soundcloud.com/djsnake-king\\n\\nLauv\\nhttps://www.facebook.com/lauvsongs\\nhttps://twitter.com/lauvsongs\\nhttps://www.instagram.com/lauvsongs/\\n\\nDJ Snake ft Lauv - A DIFFERENT WAY Dance Choreography\\n#ADifferentWay @DanceOn\\n\\n\\n----- MORE VIDEOS ----\\n\\nSHAPE OF YOU - Ed Sheeran: https://youtu.be/lq5oUOKh368\\nBAD AND BOUJEE - Migos: https://youtu.be/vXUQcr1kTHQ\\nJUJU ON THAT BEAT - https://youtu.be/S7uNBC6VEuA\\nDESPACITO - Justin Bieber: https://youtu.be/1PKJS4qwdK8\\nSWALLA - Jason Derulo: https://youtu.be/vyleKZJXBN8\\nDANCECON 4 - https://youtu.be/pAxgqLz1w9g                                                                                                                                                                                                                                                                                                                                                                                                                                                                                                                                                                                                                                                                                                                                                                                                                                                                                                                                                                                                                                                                                                                                                                                                                                                                                                                                                                                                                                                                                                                                                                                                                                                                                                                    1\n",
       "Chance the Rapper hosts Saturday Night Live on November 18, 2017, with musical guest Eminem.\\n\\n#SNL #SNL43\\n\\nGet more SNL: http://www.nbc.com/saturday-night-live\\nFull Episodes: http://www.nbc.com/saturday-night-liv...\\n\\nLike SNL: https://www.facebook.com/snl\\nFollow SNL: https://twitter.com/nbcsnl\\nSNL Tumblr: http://nbcsnl.tumblr.com/\\nSNL Instagram: http://instagram.com/nbcsnl \\nSNL Pinterest: http://www.pinterest.com/nbcsnl/                                                                                                                                                                                                                                                                                                                                                                                                                                                                                                                                                                                                                                                                                                                                                                                                                                                                                                                                                                                                                                                                                                                                                                                                                                                                                                                                                                                                                                                                                                                                                                                                                                                                                                                                                                                                                                                                                                                                                                                                                                                                                                                                                                                                                                                                                                                                                                                                                                                                                                                                                                                                                                                                     1\n",
       "As #1 theme park expert I’m finally here to share some wisdom.\\n\\nClick the best runner-up:\\nThe empty husk of Stitch’s Great Escape - https://www.patreon.com/JennyNicholson\\nSwiss Family Robinson Treehouse - https://twitter.com/JennyENicholson\\nThe Land Greenhouse Boat Ride past large vegetables - https://www.instagram.com/spider_jewel/\\nDrinking sodas from around the world at Club Cool and being really insensitive to whichever culture Beverly comes from - https://www.facebook.com/JennyNicholsonVids/\\nDropping 650k to travel the country filming a guerrilla-style indie movie in multiple theme parks to cope with your own unresolved issues by reframing them as being the fault of the disney corporation - https://spiderjewel.tumblr.com/                                                                                                                                                                                                                                                                                                                                                                                                                                                                                                                                                                                                                                                                                                                                                                                                                                                                                                                                                                                                                                                                                                                                                                                                                                                                                                                                                                                                                                                                                                                                                                                                                                                                                                                                                                                                                                                                                                                                                                                                                                                                                                                                                                                                                                                                                                                                                  1\n",
       "John Boyega and Jimmy team up and face off against Bella Thorne and The Roots' Tarik Trotter in a virtual reality version of Pictionary.\\n\\nSubscribe NOW to The Tonight Show Starring Jimmy Fallon: http://bit.ly/1nwT1aN\\n\\nWatch The Tonight Show Starring Jimmy Fallon Weeknights 11:35/10:35c\\nGet more Jimmy Fallon: \\nFollow Jimmy: http://Twitter.com/JimmyFallon\\nLike Jimmy: https://Facebook.com/JimmyFallon\\n\\nGet more The Tonight Show Starring Jimmy Fallon: \\nFollow The Tonight Show: http://Twitter.com/FallonTonight\\nLike The Tonight Show: https://Facebook.com/FallonTonight\\nThe Tonight Show Tumblr: http://fallontonight.tumblr.com/\\n\\nGet more NBC: \\nNBC YouTube: http://bit.ly/1dM1qBH\\nLike NBC: http://Facebook.com/NBC\\nFollow NBC: http://Twitter.com/NBC\\nNBC Tumblr: http://nbctv.tumblr.com/\\nNBC Google+: https://plus.google.com/+NBC/posts\\n\\nThe Tonight Show Starring Jimmy Fallon features hilarious highlights from the show including: comedy sketches, music parodies, celebrity interviews, ridiculous games, and, of course, Jimmy's Thank You Notes and hashtags! You'll also find behind the scenes videos and other great web exclusives.\\n\\nVirtual Reality Pictionary with John Boyega and Bella Thorne\\nhttp://www.youtube.com/fallontonight                                                                                                                                                                                                                                                                                                                                                                                                                                                                                                                                                                                                                                                                                                                                                                                                                                                                                                                                                                                                                                                                                                                                                                                                                                                                                                                                                                                                                                                                                                                                                                                                                                                                                                                                                                                                                       1\n",
       "The YFliker kids scooter by Yvolution - No #1 scooter in the UK is now launching in the US! Ages 7+\\n\\nSit back and enjoy the video of our TV Commercial :-)\\n\\nWant to watch more of our videos then check out our Channel: http://bit.ly/yvolutionYoutube \\nOr Subscribe here: http://bit.ly/yvolutionYoutube \\n\\nAbout the original Y Fliker 3 wheeled scooter:\\n\\nThe Yfliker Flow series is a range of innovative three-wheeled scooter that are built for fun. With the Y Fliker, there’s no more kicking the pavement like traditional two wheel scooters. Riders simply move their hips from side to side to get going, while continuing to use their own body power for self-propelling fun. The Y Fliker’s patented technology, light-weight and sleek design, combined with performance rated wheels, allows this free-style scooter to perform smooth carving and drifting action.  And the quick response hand brake offers kids increased control and ensures a safe, fun ride! And with its twist and stow folding system, it’s ready to go wherever you take it!\\n\\nWhat are you waiting for? Click right here to subscribe: http://bit.ly/yvolutionYoutube \\n\\nCheck out our Baby walkers/Ride-ons: http://bit.ly/Yvolution-Ride-Ons \\nCheck out our Balance Bike Ranges: http://bit.ly/Yvolution-BalanceBikes \\nCheck out Y Glider lean to steer scooter ranges: http://bit.ly/Yvolution-YGliders \\nCheck out our Y Fliker 3 wheeled self-propelling scooter ranges: http://bit.ly/Yvolution-YFlikers \\nCheck out our Yvolution Go Karts: http://bit.ly/Yvolution-Karts \\nLooking for Yvolution spare parts: http://bit.ly/Yvolution-Spares \\n\\nAbout Yvolution:\\n\\nAt Yvolution, we were kids once, too. We remember it as a golden time of good, healthy, outdoor fun. Without a handset in sight. So, with our love of toys like go-karts that put smiles on kiddies’ faces and wind in their hair, we all ended up in the outdoor toys industry.\\n\\nWe imported toys and it was all going rather well. But, deep down, we had this crazy desire to develop our own. We wanted to control our own destiny and launch products our way. \\n\\nIn 2009, we were reborn with even more wind in our hair and a new dream of working with a design company to sell their new ‘balance’ bikes around the world. We started co-designing some nice products with them and feeding back on other product ideas.\\n\\nAt last, we had our little fingers firmly wrapped around the handlebars of the industry and, in 2011, we launched in over 40 countries and spanning the Globe from the US to Korea. In 2012, we came out with a shiny new brand and went global. Pull up a chair, put the kettle on and see how we get on. \\n\\nYvolution – Life Through Motion – Scooter that grow with your child and develop their motor, balance and co-ordination skills.\\n\\nConnect with us:\\n\\nYoutube Channel - http://bit.ly/yvolutionYoutube \\nFacebook - http://bit.ly/YvolutionFB \\nInstagram - http://bit.ly/YvolutionInstagram \\nTwitter - http://bit.ly/YvolutionTwitter \\n\\nLeave us a comment below!      1\n",
       "Thanks For Listening ▲                                                                                                                                                                                                                                                                                                                                                                                                                                                                                                                                                                                                                                                                                                                                                                                                                                                                                                                                                                                                                                                                                                                                                                                                                                                                                                                                                                                                                                                                                                                                                                                                                                                                                                                                                                                                                                                                                                                                                                                                                                                                                                                                                                                                                                                                                                                                                                                                                                                                                                                                                                                                                                                                                                                                                                                                                                                                                                                                                                                                                                                                                                  1\n",
       "Cardi B - Drip feat. Migos available now!\\nStream/Download: https://CardiB.lnk.to/dripAY\\nCardi B's Debut Album Invasion of Privacy available this a Friday 4/6\\n\\nExclusive Bardi Gang merchandise available here: http://smarturl.it/BardiGangMerchYT\\n\\nFollow Cardi B\\nhttp://Facebook.com/IAmCardiB\\nhttp://Instagram.com/IAmCardiB\\nhttp://Twitter.com/IAmCardiB\\nhttp://Soundcloud.com/IAmCardiB                                                                                                                                                                                                                                                                                                                                                                                                                                                                                                                                                                                                                                                                                                                                                                                                                                                                                                                                                                                                                                                                                                                                                                                                                                                                                                                                                                                                                                                                                                                                                                                                                                                                                                                                                                                                                                                                                                                                                                                                                                                                                                                                                                                                                                                                                                                                                                                                                                                                                                                                                                                                                                                                                                                 1\n",
       "#Oceans8 trailer drops tomorrow.                                                                                                                                                                                                                                                                                                                                                                                                                                                                                                                                                                                                                                                                                                                                                                                                                                                                                                                                                                                                                                                                                                                                                                                                                                                                                                                                                                                                                                                                                                                                                                                                                                                                                                                                                                                                                                                                                                                                                                                                                                                                                                                                                                                                                                                                                                                                                                                                                                                                                                                                                                                                                                                                                                                                                                                                                                                                                                                                                                                                                                                                                        1\n",
       "Name: description, Length: 2825, dtype: int64"
      ]
     },
     "execution_count": 23,
     "metadata": {},
     "output_type": "execute_result"
    }
   ],
   "source": [
    "GB_csv['description'].value_counts()"
   ]
  },
  {
   "cell_type": "code",
   "execution_count": 24,
   "metadata": {
    "scrolled": true
   },
   "outputs": [
    {
     "data": {
      "text/plain": [
       "0      Click here to continue the story and make your...\n",
       "1      Musical guest Taylor Swift performs …Ready for...\n",
       "2      Eminem's new track Walk on Water ft. Beyoncé i...\n",
       "3      Salford drew 4-4 against the Class of 92 and F...\n",
       "4      Dashcam captures truck's near miss with child ...\n",
       "5      ► HOW MY RELATIONSHIP STARTED!\\n► PB Merch • h...\n",
       "6      🎧: https://ad.gt/yt-perfect\\n💰: https://atlant...\n",
       "7      CHRISTMAS HAS GONE TO MY HEAD\\nPrevious Vlog: ...\n",
       "8      “Golden Slumbers”, originally by The Beatles, ...\n",
       "9      Jennifer Lopez ft. Wisin - Amor, Amor, Amor (O...\n",
       "10     ➢ Join my FREE 7 Steps to Success - http://www...\n",
       "11     More from Inside Edition: https://www.youtube....\n",
       "12     Gucci Mane - Curve feat. The Weeknd\\n\\n Mr. Da...\n",
       "13     -\\n\\n\\nWebsite - http://www.johnmaclean.co.uk\\...\n",
       "14     Today I show you how to completely dry a shirt...\n",
       "15     Trust us, there's nowhere else in the universe...\n",
       "16     You have to watch this! Sam serenades a couple...\n",
       "17     Havana – Spotify Vertical Video \\nVideo Direct...\n",
       "18     You know that feeling when someone has a crush...\n",
       "19     This intimate fan performance of Taylor Swift'...\n",
       "20     A big chat about everything going on in my pre...\n",
       "21     James and the young stars of Stranger Things -...\n",
       "22     PURCHASE YOU & ME HERE ▶ https://smarturl.it/m...\n",
       "23     Bastille - World Gone Mad from Bright: The Alb...\n",
       "24     A Geek Mythology Production \\n\\nDirector Ben S...\n",
       "25     Pixelbook is a $1000 2-in-1 laptop/tablet and ...\n",
       "26     Every Friday on TMZ Sports UFC Welterweight Ch...\n",
       "27     Subscribe and join the fam! http://www.youtube...\n",
       "28     Having kids, having anxiety and not having boo...\n",
       "29                                             episode 4\n",
       "                             ...                        \n",
       "470    WATCH NEXT - \\nFeeling Left Out 😞 : https://ww...\n",
       "471    Remy Ma - Wake Me Up featuring Lil' Kim (Offic...\n",
       "472    Watch Simon's Cat's Guide To Birthdays! \\nSUBS...\n",
       "473    In tribute to the December edition of Vogue – ...\n",
       "474    Listen to Strangers here: https://Sigrid.lnk.t...\n",
       "475    A wonderful friend of the bride and groom writ...\n",
       "476    You Can Find Me Here: \\n\\nWebsite: http://www....\n",
       "477    Best of Thirty Seconds To Mars: https://goo.gl...\n",
       "478    Tokyo has some premium romantic views. Let's c...\n",
       "479    Power 106 YouTube Channel: \\nSubscribe Now - h...\n",
       "480    The Script - Arms Open (Acoustic)\\nListen to '...\n",
       "481    My Every Day Autumn Makeup\\n⇢ Previous Video: ...\n",
       "482    Hey babes! Happy Friday! It's the WEEKENDDD He...\n",
       "483    MOVING HOUSE AND PLANNING A WEDDING MEANS I NE...\n",
       "484    After not being invited to Khloe Kardashian's ...\n",
       "485    Lot´s of you asked for a new episode on the En...\n",
       "486    JUSTICE LEAGUE Movie Clip Aquaman Island + Tra...\n",
       "487    Hello Everyone! \\n\\nI forgot to mention that I...\n",
       "488    Many people believe in personality tests and h...\n",
       "489    Link to our pinterest recipes shopping room: h...\n",
       "490    i decided it would be fun to set off some fire...\n",
       "491    In an exclusive interview, Corey Haim's mother...\n",
       "492    Harry Styles' self-titled debut album is avail...\n",
       "493    To see the power of this lip watch my One Chip...\n",
       "494    Céline Dion made a surprise performance at OMN...\n",
       "495    Steven Spielberg directs Meryl Streep and Tom ...\n",
       "496    Welcome to day three of cooking for the price ...\n",
       "497    This episode is brought to you by T-Mobile. No...\n",
       "498    This #VeteransDay, we want to say thank you to...\n",
       "499    In this episode of the Waking Up podcast, Sam ...\n",
       "Name: description, Length: 500, dtype: object"
      ]
     },
     "execution_count": 24,
     "metadata": {},
     "output_type": "execute_result"
    }
   ],
   "source": [
    "GB_csv['description'].head(500)"
   ]
  },
  {
   "cell_type": "code",
   "execution_count": 25,
   "metadata": {},
   "outputs": [
    {
     "data": {
      "text/html": [
       "<div>\n",
       "<style>\n",
       "    .dataframe thead tr:only-child th {\n",
       "        text-align: right;\n",
       "    }\n",
       "\n",
       "    .dataframe thead th {\n",
       "        text-align: left;\n",
       "    }\n",
       "\n",
       "    .dataframe tbody tr th {\n",
       "        vertical-align: top;\n",
       "    }\n",
       "</style>\n",
       "<table border=\"1\" class=\"dataframe\">\n",
       "  <thead>\n",
       "    <tr style=\"text-align: right;\">\n",
       "      <th></th>\n",
       "      <th>count</th>\n",
       "      <th>unique</th>\n",
       "      <th>top</th>\n",
       "      <th>freq</th>\n",
       "    </tr>\n",
       "  </thead>\n",
       "  <tbody>\n",
       "    <tr>\n",
       "      <th>comments_disabled</th>\n",
       "      <td>28421</td>\n",
       "      <td>2</td>\n",
       "      <td>False</td>\n",
       "      <td>27912</td>\n",
       "    </tr>\n",
       "    <tr>\n",
       "      <th>ratings_disabled</th>\n",
       "      <td>28421</td>\n",
       "      <td>2</td>\n",
       "      <td>False</td>\n",
       "      <td>28195</td>\n",
       "    </tr>\n",
       "    <tr>\n",
       "      <th>video_error_or_removed</th>\n",
       "      <td>28421</td>\n",
       "      <td>1</td>\n",
       "      <td>False</td>\n",
       "      <td>28421</td>\n",
       "    </tr>\n",
       "  </tbody>\n",
       "</table>\n",
       "</div>"
      ],
      "text/plain": [
       "                        count unique    top   freq\n",
       "comments_disabled       28421      2  False  27912\n",
       "ratings_disabled        28421      2  False  28195\n",
       "video_error_or_removed  28421      1  False  28421"
      ]
     },
     "execution_count": 25,
     "metadata": {},
     "output_type": "execute_result"
    }
   ],
   "source": [
    "GB_csv.select_dtypes(['bool']).describe().T"
   ]
  },
  {
   "cell_type": "code",
   "execution_count": 26,
   "metadata": {},
   "outputs": [
    {
     "data": {
      "text/plain": [
       "False    27912\n",
       "True       509\n",
       "Name: comments_disabled, dtype: int64"
      ]
     },
     "execution_count": 26,
     "metadata": {},
     "output_type": "execute_result"
    }
   ],
   "source": [
    "GB_csv['comments_disabled'].value_counts()"
   ]
  },
  {
   "cell_type": "code",
   "execution_count": 27,
   "metadata": {},
   "outputs": [
    {
     "data": {
      "text/plain": [
       "False    28195\n",
       "True       226\n",
       "Name: ratings_disabled, dtype: int64"
      ]
     },
     "execution_count": 27,
     "metadata": {},
     "output_type": "execute_result"
    }
   ],
   "source": [
    "GB_csv['ratings_disabled'].value_counts()"
   ]
  },
  {
   "cell_type": "code",
   "execution_count": 28,
   "metadata": {},
   "outputs": [
    {
     "data": {
      "text/plain": [
       "False    28421\n",
       "Name: video_error_or_removed, dtype: int64"
      ]
     },
     "execution_count": 28,
     "metadata": {},
     "output_type": "execute_result"
    }
   ],
   "source": [
    "#All values are false- drop this column\n",
    "GB_csv['video_error_or_removed'].value_counts()"
   ]
  },
  {
   "cell_type": "code",
   "execution_count": 29,
   "metadata": {},
   "outputs": [
    {
     "data": {
      "text/html": [
       "<div>\n",
       "<style>\n",
       "    .dataframe thead tr:only-child th {\n",
       "        text-align: right;\n",
       "    }\n",
       "\n",
       "    .dataframe thead th {\n",
       "        text-align: left;\n",
       "    }\n",
       "\n",
       "    .dataframe tbody tr th {\n",
       "        vertical-align: top;\n",
       "    }\n",
       "</style>\n",
       "<table border=\"1\" class=\"dataframe\">\n",
       "  <thead>\n",
       "    <tr style=\"text-align: right;\">\n",
       "      <th></th>\n",
       "      <th>count</th>\n",
       "      <th>mean</th>\n",
       "      <th>std</th>\n",
       "      <th>min</th>\n",
       "      <th>25%</th>\n",
       "      <th>50%</th>\n",
       "      <th>75%</th>\n",
       "      <th>max</th>\n",
       "    </tr>\n",
       "  </thead>\n",
       "  <tbody>\n",
       "    <tr>\n",
       "      <th>category_id</th>\n",
       "      <td>28421.0</td>\n",
       "      <td>1.744601e+01</td>\n",
       "      <td>7.690715e+00</td>\n",
       "      <td>1.0</td>\n",
       "      <td>10.0</td>\n",
       "      <td>22.0</td>\n",
       "      <td>24.0</td>\n",
       "      <td>29.0</td>\n",
       "    </tr>\n",
       "    <tr>\n",
       "      <th>views</th>\n",
       "      <td>28421.0</td>\n",
       "      <td>4.633962e+06</td>\n",
       "      <td>1.734725e+07</td>\n",
       "      <td>851.0</td>\n",
       "      <td>182820.0</td>\n",
       "      <td>689896.0</td>\n",
       "      <td>2515417.0</td>\n",
       "      <td>424538912.0</td>\n",
       "    </tr>\n",
       "    <tr>\n",
       "      <th>likes</th>\n",
       "      <td>28421.0</td>\n",
       "      <td>1.067375e+05</td>\n",
       "      <td>2.953774e+05</td>\n",
       "      <td>0.0</td>\n",
       "      <td>4372.0</td>\n",
       "      <td>17976.0</td>\n",
       "      <td>80521.0</td>\n",
       "      <td>4737873.0</td>\n",
       "    </tr>\n",
       "    <tr>\n",
       "      <th>dislikes</th>\n",
       "      <td>28421.0</td>\n",
       "      <td>6.917841e+03</td>\n",
       "      <td>5.758249e+04</td>\n",
       "      <td>0.0</td>\n",
       "      <td>150.0</td>\n",
       "      <td>583.0</td>\n",
       "      <td>2486.0</td>\n",
       "      <td>1944971.0</td>\n",
       "    </tr>\n",
       "    <tr>\n",
       "      <th>comment_count</th>\n",
       "      <td>28421.0</td>\n",
       "      <td>1.104017e+04</td>\n",
       "      <td>4.781586e+04</td>\n",
       "      <td>0.0</td>\n",
       "      <td>507.0</td>\n",
       "      <td>1795.0</td>\n",
       "      <td>6846.0</td>\n",
       "      <td>1626501.0</td>\n",
       "    </tr>\n",
       "  </tbody>\n",
       "</table>\n",
       "</div>"
      ],
      "text/plain": [
       "                 count          mean           std    min       25%       50%  \\\n",
       "category_id    28421.0  1.744601e+01  7.690715e+00    1.0      10.0      22.0   \n",
       "views          28421.0  4.633962e+06  1.734725e+07  851.0  182820.0  689896.0   \n",
       "likes          28421.0  1.067375e+05  2.953774e+05    0.0    4372.0   17976.0   \n",
       "dislikes       28421.0  6.917841e+03  5.758249e+04    0.0     150.0     583.0   \n",
       "comment_count  28421.0  1.104017e+04  4.781586e+04    0.0     507.0    1795.0   \n",
       "\n",
       "                     75%          max  \n",
       "category_id         24.0         29.0  \n",
       "views          2515417.0  424538912.0  \n",
       "likes            80521.0    4737873.0  \n",
       "dislikes          2486.0    1944971.0  \n",
       "comment_count     6846.0    1626501.0  "
      ]
     },
     "execution_count": 29,
     "metadata": {},
     "output_type": "execute_result"
    }
   ],
   "source": [
    "GB_csv.select_dtypes(['int']).describe().T"
   ]
  },
  {
   "cell_type": "code",
   "execution_count": 30,
   "metadata": {
    "scrolled": true
   },
   "outputs": [
    {
     "data": {
      "text/plain": [
       "191321      5\n",
       "191327      3\n",
       "18506       3\n",
       "46059       3\n",
       "155014      2\n",
       "130569      2\n",
       "175790      2\n",
       "85195       2\n",
       "117761      2\n",
       "36097       2\n",
       "5963        2\n",
       "679745      2\n",
       "551302      2\n",
       "240194      2\n",
       "57610       2\n",
       "63734       2\n",
       "29489       2\n",
       "81331       2\n",
       "8766        2\n",
       "58889       2\n",
       "215949      2\n",
       "142666      2\n",
       "88778       2\n",
       "588196      2\n",
       "1944085     2\n",
       "776738      2\n",
       "72753       2\n",
       "131797      2\n",
       "51789       2\n",
       "29126       2\n",
       "           ..\n",
       "2411308     1\n",
       "312109      1\n",
       "316143      1\n",
       "5163756     1\n",
       "21183       1\n",
       "9761515     1\n",
       "2538178     1\n",
       "1872700     1\n",
       "12163782    1\n",
       "61991624    1\n",
       "3275466     1\n",
       "3394252     1\n",
       "383694      1\n",
       "4492984     1\n",
       "605333      1\n",
       "670418      1\n",
       "68308       1\n",
       "2235094     1\n",
       "6318808     1\n",
       "484057      1\n",
       "3832538     1\n",
       "13515511    1\n",
       "545503      1\n",
       "3320544     1\n",
       "41697       1\n",
       "4950756     1\n",
       "60136       1\n",
       "58089       1\n",
       "457450      1\n",
       "423154      1\n",
       "Name: views, Length: 28213, dtype: int64"
      ]
     },
     "execution_count": 30,
     "metadata": {},
     "output_type": "execute_result"
    }
   ],
   "source": [
    "GB_csv['views'].value_counts()"
   ]
  },
  {
   "cell_type": "code",
   "execution_count": 31,
   "metadata": {
    "scrolled": true
   },
   "outputs": [
    {
     "data": {
      "text/plain": [
       "0          226\n",
       "35          15\n",
       "32          13\n",
       "22          13\n",
       "53          12\n",
       "403         12\n",
       "321         10\n",
       "54          10\n",
       "48           9\n",
       "50           9\n",
       "290          9\n",
       "525          9\n",
       "333          9\n",
       "828          9\n",
       "9            9\n",
       "423          9\n",
       "61           9\n",
       "43           8\n",
       "51           8\n",
       "334          8\n",
       "89           8\n",
       "185          8\n",
       "13           8\n",
       "1861         8\n",
       "332          8\n",
       "173          8\n",
       "484          7\n",
       "83           7\n",
       "170          7\n",
       "30           7\n",
       "          ... \n",
       "51539        1\n",
       "784725       1\n",
       "684324       1\n",
       "24918        1\n",
       "6489         1\n",
       "373084       1\n",
       "53600        1\n",
       "22881        1\n",
       "2483         1\n",
       "2676         1\n",
       "442690       1\n",
       "1268033      1\n",
       "100890       1\n",
       "66148        1\n",
       "132831       1\n",
       "24870        1\n",
       "258936       1\n",
       "4392         1\n",
       "131370       1\n",
       "47405        1\n",
       "10543        1\n",
       "60604        1\n",
       "4452660      1\n",
       "3369271      1\n",
       "4408         1\n",
       "39225        1\n",
       "314          1\n",
       "35131        1\n",
       "309565       1\n",
       "38869        1\n",
       "Name: likes, Length: 22345, dtype: int64"
      ]
     },
     "execution_count": 31,
     "metadata": {},
     "output_type": "execute_result"
    }
   ],
   "source": [
    "GB_csv['likes'].value_counts()"
   ]
  },
  {
   "cell_type": "code",
   "execution_count": 32,
   "metadata": {
    "scrolled": true
   },
   "outputs": [
    {
     "data": {
      "text/plain": [
       "0         320\n",
       "15        104\n",
       "11         84\n",
       "3          84\n",
       "12         81\n",
       "17         80\n",
       "22         80\n",
       "27         78\n",
       "79         74\n",
       "77         73\n",
       "21         72\n",
       "80         72\n",
       "16         71\n",
       "7          69\n",
       "44         68\n",
       "2          68\n",
       "38         67\n",
       "54         67\n",
       "14         65\n",
       "8          65\n",
       "39         64\n",
       "26         64\n",
       "51         64\n",
       "91         62\n",
       "52         61\n",
       "50         60\n",
       "37         60\n",
       "20         58\n",
       "75         57\n",
       "40         57\n",
       "         ... \n",
       "6052        1\n",
       "6831        1\n",
       "8101        1\n",
       "1958        1\n",
       "4007        1\n",
       "192427      1\n",
       "1974        1\n",
       "4023        1\n",
       "22460       1\n",
       "2733        1\n",
       "6004        1\n",
       "4846        1\n",
       "64211       1\n",
       "70561       1\n",
       "14112       1\n",
       "10985       1\n",
       "3879        1\n",
       "2781        1\n",
       "3895        1\n",
       "63288       1\n",
       "8005        1\n",
       "12147       1\n",
       "6847        1\n",
       "12115       1\n",
       "8021        1\n",
       "107192      1\n",
       "94043       1\n",
       "24413       1\n",
       "185014      1\n",
       "14321       1\n",
       "Name: dislikes, Length: 8083, dtype: int64"
      ]
     },
     "execution_count": 32,
     "metadata": {},
     "output_type": "execute_result"
    }
   ],
   "source": [
    "GB_csv['dislikes'].value_counts()"
   ]
  },
  {
   "cell_type": "code",
   "execution_count": 33,
   "metadata": {
    "scrolled": true
   },
   "outputs": [
    {
     "data": {
      "text/plain": [
       "0         532\n",
       "40         39\n",
       "50         38\n",
       "53         36\n",
       "201        36\n",
       "37         34\n",
       "1          33\n",
       "30         33\n",
       "7          31\n",
       "257        30\n",
       "26         30\n",
       "46         29\n",
       "271        28\n",
       "346        27\n",
       "14         26\n",
       "42         25\n",
       "316        25\n",
       "133        25\n",
       "149        25\n",
       "64         25\n",
       "56         24\n",
       "67         24\n",
       "275        24\n",
       "301        24\n",
       "644        23\n",
       "615        23\n",
       "41         23\n",
       "443        23\n",
       "212        23\n",
       "366        23\n",
       "         ... \n",
       "29719       1\n",
       "261126      1\n",
       "13311       1\n",
       "48126       1\n",
       "7162        1\n",
       "13407       1\n",
       "25589       1\n",
       "27636       1\n",
       "54642       1\n",
       "34993       1\n",
       "5099        1\n",
       "34149       1\n",
       "17441       1\n",
       "60452       1\n",
       "3112        1\n",
       "74797       1\n",
       "48174       1\n",
       "13359       1\n",
       "50225       1\n",
       "31798       1\n",
       "7226        1\n",
       "183360      1\n",
       "7242        1\n",
       "70217       1\n",
       "9293        1\n",
       "19536       1\n",
       "27732       1\n",
       "5211        1\n",
       "9309        1\n",
       "8300        1\n",
       "Name: comment_count, Length: 11760, dtype: int64"
      ]
     },
     "execution_count": 33,
     "metadata": {},
     "output_type": "execute_result"
    }
   ],
   "source": [
    "GB_csv['comment_count'].value_counts()"
   ]
  },
  {
   "cell_type": "markdown",
   "metadata": {},
   "source": [
    "#### Summary of data quality plan:\n",
    "\n",
    "   \n",
    "| Feature                   | Data Quality Issue   | Handling Strategy            |\n",
    "|---------------------------|----------------------|------------------------------|\n",
    "| thumbnail link            | Unnecessary data     | Remove column                |\n",
    "| video_error_or_removed    |  100% values = false | Drop column                  |\n",
    "| description               | 0.01% null values    | Convert to 0                 |"
   ]
  },
  {
   "cell_type": "code",
   "execution_count": 34,
   "metadata": {
    "collapsed": true
   },
   "outputs": [],
   "source": [
    "GB_youtube_df= GB_csv.drop(['thumbnail_link','video_error_or_removed'], axis=1)"
   ]
  },
  {
   "cell_type": "markdown",
   "metadata": {},
   "source": [
    "### Scatterplot matrix of continous features"
   ]
  },
  {
   "cell_type": "code",
   "execution_count": 35,
   "metadata": {},
   "outputs": [
    {
     "data": {
      "text/plain": [
       "<seaborn.axisgrid.FacetGrid at 0x110f26b38>"
      ]
     },
     "execution_count": 35,
     "metadata": {},
     "output_type": "execute_result"
    },
    {
     "data": {
      "image/png": "[encoded data removed]",
      "text/plain": [
       "<matplotlib.figure.Figure at 0x110f26ac8>"
      ]
     },
     "metadata": {},
     "output_type": "display_data"
    }
   ],
   "source": [
    "sns.lmplot(x='views', y='dislikes', data=GB_youtube_df)"
   ]
  },
  {
   "cell_type": "code",
   "execution_count": 36,
   "metadata": {},
   "outputs": [
    {
     "data": {
      "text/plain": [
       "<seaborn.axisgrid.FacetGrid at 0x1132d0e48>"
      ]
     },
     "execution_count": 36,
     "metadata": {},
     "output_type": "execute_result"
    },
    {
     "data": {
      "image/png": "[encoded data removed]",
      "text/plain": [
       "<matplotlib.figure.Figure at 0x110f26860>"
      ]
     },
     "metadata": {},
     "output_type": "display_data"
    }
   ],
   "source": [
    "sns.lmplot(x='views', y='likes', data=GB_youtube_df)"
   ]
  },
  {
   "cell_type": "code",
   "execution_count": 37,
   "metadata": {},
   "outputs": [
    {
     "data": {
      "text/plain": [
       "<seaborn.axisgrid.FacetGrid at 0x11317f5f8>"
      ]
     },
     "execution_count": 37,
     "metadata": {},
     "output_type": "execute_result"
    },
    {
     "data": {
      "image/png": "[encoded data removed]",
      "text/plain": [
       "<matplotlib.figure.Figure at 0x1131719e8>"
      ]
     },
     "metadata": {},
     "output_type": "display_data"
    }
   ],
   "source": [
    "sns.lmplot(x='views', y='comment_count', data=GB_youtube_df)"
   ]
  },
  {
   "cell_type": "code",
   "execution_count": 38,
   "metadata": {},
   "outputs": [
    {
     "data": {
      "text/plain": [
       "<seaborn.axisgrid.FacetGrid at 0x1a1a4bdb00>"
      ]
     },
     "execution_count": 38,
     "metadata": {},
     "output_type": "execute_result"
    },
    {
     "data": {
      "image/png": "[encoded data removed]",
      "text/plain": [
       "<matplotlib.figure.Figure at 0x1a1a4bdb70>"
      ]
     },
     "metadata": {},
     "output_type": "display_data"
    }
   ],
   "source": [
    "sns.lmplot(x='likes', y='comment_count', data=GB_youtube_df)"
   ]
  },
  {
   "cell_type": "code",
   "execution_count": null,
   "metadata": {},
   "outputs": [
    {
     "data": {
      "text/plain": [
       "<seaborn.axisgrid.FacetGrid at 0x1104eda58>"
      ]
     },
     "execution_count": 39,
     "metadata": {},
     "output_type": "execute_result"
    },
    {
     "data": {
      "image/png": "[encoded data removed]",
      "text/plain": [
       "<matplotlib.figure.Figure at 0x1104edeb8>"
      ]
     },
     "metadata": {},
     "output_type": "display_data"
    }
   ],
   "source": [
    "sns.lmplot(x='dislikes', y='comment_count', data=GB_youtube_df)"
   ]
  },
  {
   "cell_type": "code",
   "execution_count": null,
   "metadata": {
    "collapsed": true
   },
   "outputs": [],
   "source": [
    "#sns.countplot(x='dislikes', hue='comment_count', data=GB_youtube_df)"
   ]
  },
  {
   "cell_type": "code",
   "execution_count": null,
   "metadata": {
    "collapsed": true
   },
   "outputs": [],
   "source": [
    "#from pandas.plotting import scatter_matrix\n",
    "#scatter_matrix(GB_youtube_df, alpha=0.3, figsize=(20, 20), diagonal='kde', marker='o',color='green');"
   ]
  },
  {
   "cell_type": "markdown",
   "metadata": {},
   "source": [
    "### Boxplot of all features"
   ]
  },
  {
   "cell_type": "code",
   "execution_count": null,
   "metadata": {
    "collapsed": true
   },
   "outputs": [],
   "source": []
  },
  {
   "cell_type": "code",
   "execution_count": null,
   "metadata": {
    "collapsed": true
   },
   "outputs": [],
   "source": []
  },
  {
   "cell_type": "markdown",
   "metadata": {},
   "source": [
    "## Look for outliers with barplots"
   ]
  },
  {
   "cell_type": "markdown",
   "metadata": {},
   "source": [
    "### Plot all features "
   ]
  },
  {
   "cell_type": "code",
   "execution_count": null,
   "metadata": {},
   "outputs": [],
   "source": [
    "# Correlation matrix using code found on https://stanford.edu/~mwaskom/software/seaborn/examples/many_pairwise_correlations.html\n",
    "GB_youtube_df = pd.read_csv(\"GBvideos.csv\")\n",
    "sns.set(style=\"white\")\n",
    "\n",
    "# Select columns containing continuous data\n",
    "continuous_columns = GB_youtube_df[['category_id','views','likes','dislikes','comment_count']].columns\n",
    "\n",
    "# Calculate correlation of all pairs of continuous features\n",
    "corr = GB_youtube_df[continuous_columns].corr()\n",
    "\n",
    "# Generate a mask for the upper triangle\n",
    "mask = np.zeros_like(corr, dtype=np.bool)\n",
    "mask[np.triu_indices_from(mask)] = True\n",
    "\n",
    "# Set up the matplotlib figure\n",
    "f, ax = plt.subplots(figsize=(11, 9))\n",
    "\n",
    "# Generate a custom colormap - blue and red\n",
    "cmap = sns.diverging_palette(220, 10, as_cmap=True)\n",
    "\n",
    "# Draw the heatmap with the mask and correct aspect ratio\n",
    "sns.heatmap(corr, annot=True, mask=mask, cmap=cmap, vmax=1, vmin=-1,\n",
    "            square=True, xticklabels=True, yticklabels=True,\n",
    "            linewidths=.5, cbar_kws={\"shrink\": .5}, ax=ax)\n",
    "plt.yticks(rotation = 0)\n",
    "plt.xticks(rotation = 45)"
   ]
  },
  {
   "cell_type": "code",
   "execution_count": null,
   "metadata": {
    "scrolled": true
   },
   "outputs": [],
   "source": [
    "GB_youtube_df['likes'].value_counts()"
   ]
  },
  {
   "cell_type": "code",
   "execution_count": null,
   "metadata": {},
   "outputs": [],
   "source": [
    "GB_youtube_df.hist(bins=20, normed=True, alpha=0.5, figsize=(7,8),\n",
    "         histtype='stepfilled', color='green',\n",
    "         edgecolor='none');"
   ]
  },
  {
   "cell_type": "markdown",
   "metadata": {
    "collapsed": true
   },
   "source": [
    "### Create feature matrix and response vector\n"
   ]
  },
  {
   "cell_type": "markdown",
   "metadata": {},
   "source": [
    "Features are predictors/inputs/attributes\n",
    "The 'response' is the target, label, output"
   ]
  },
  {
   "cell_type": "code",
   "execution_count": null,
   "metadata": {
    "collapsed": true
   },
   "outputs": [],
   "source": [
    "#x = dataframe with all columns apart from views\n",
    "#y = views\n",
    "#capital 'X' for 2 dimensional\n",
    "#capital 'Y' for 1 dimensional \n",
    "\n",
    "GB_X = GB_youtube_df[['likes','dislikes','comment_count']]\n",
    "GB_y = GB_youtube_df[['views']]\n",
    "\n",
    "#target = views"
   ]
  },
  {
   "cell_type": "code",
   "execution_count": null,
   "metadata": {},
   "outputs": [],
   "source": [
    "#shapes of x and y \n",
    "GB_X.shape"
   ]
  },
  {
   "cell_type": "code",
   "execution_count": null,
   "metadata": {},
   "outputs": [],
   "source": [
    "GB_y.shape"
   ]
  },
  {
   "cell_type": "markdown",
   "metadata": {},
   "source": [
    "In order to build a model the features must be numeric, and every observation must have the same features in the same order. Can transfer text to numbers but all data fed into model must be numeric.  "
   ]
  },
  {
   "cell_type": "code",
   "execution_count": null,
   "metadata": {},
   "outputs": [],
   "source": [
    "#import the class\n",
    "from sklearn.neighbors import KNeighborsClassifier\n",
    "\n",
    "#instantiate the model\n",
    "knn = KNeighborsClassifier()\n",
    "\n",
    "#fit the model with data (occurs in-place)\n",
    "knn.fit(GB_X,GB_y)"
   ]
  },
  {
   "cell_type": "code",
   "execution_count": null,
   "metadata": {},
   "outputs": [],
   "source": [
    "#examine first 5 rows of the feature matrix\n",
    "GB_X.head()"
   ]
  },
  {
   "cell_type": "code",
   "execution_count": null,
   "metadata": {
    "scrolled": true
   },
   "outputs": [],
   "source": [
    "#examine the response vector\n",
    "GB_y"
   ]
  },
  {
   "cell_type": "code",
   "execution_count": null,
   "metadata": {},
   "outputs": [],
   "source": [
    "#prediction data must match training data dimension/shape\n",
    "#predict the response for a new observation\n",
    "knn.predict([[3,5,4]])"
   ]
  },
  {
   "cell_type": "markdown",
   "metadata": {},
   "source": [
    "### Representing text as numerical data"
   ]
  },
  {
   "cell_type": "code",
   "execution_count": null,
   "metadata": {
    "collapsed": true
   },
   "outputs": [],
   "source": [
    "simple_train = ['official','music','podcast','documentary','iTunes','episode','spotify','ft.','subscribe']"
   ]
  },
  {
   "cell_type": "code",
   "execution_count": null,
   "metadata": {
    "collapsed": true
   },
   "outputs": [],
   "source": [
    "#sample response vector\n",
    "yt_keywords = [0,0,0,1,1,1,1,0,1]"
   ]
  },
  {
   "cell_type": "code",
   "execution_count": null,
   "metadata": {
    "collapsed": true
   },
   "outputs": [],
   "source": [
    "#import and instantiate CountVectorizer (with the default parameters)f\n",
    "from sklearn.feature_extraction.text import CountVectorizer\n",
    "vect = CountVectorizer()"
   ]
  },
  {
   "cell_type": "code",
   "execution_count": null,
   "metadata": {},
   "outputs": [],
   "source": [
    "#learn the vocabulary of the training data (occurs in place)\n",
    "vect.fit(simple_train)"
   ]
  },
  {
   "cell_type": "code",
   "execution_count": null,
   "metadata": {},
   "outputs": [],
   "source": [
    "#examine the fitted vocabulary, outputs vocabulary as a list\n",
    "#ignores punctuation, duplication\n",
    "vect.get_feature_names()"
   ]
  },
  {
   "cell_type": "code",
   "execution_count": null,
   "metadata": {},
   "outputs": [],
   "source": [
    "#transform training data into a \"document-term matrix\"\n",
    "simple_train_dtm = vect.transform(simple_train)\n",
    "simple_train_dtm"
   ]
  },
  {
   "cell_type": "code",
   "execution_count": null,
   "metadata": {},
   "outputs": [],
   "source": [
    "simple_train_dtm.toarray()"
   ]
  },
  {
   "cell_type": "code",
   "execution_count": null,
   "metadata": {},
   "outputs": [],
   "source": [
    "#bag of words strategy/tokenization\n",
    "#examining the vocabulary and document-term matrix together\n",
    "pd.DataFrame(simple_train_dtm.toarray(),columns=vect.get_feature_names())"
   ]
  },
  {
   "cell_type": "code",
   "execution_count": null,
   "metadata": {},
   "outputs": [],
   "source": [
    "type(simple_train_dtm)"
   ]
  },
  {
   "cell_type": "code",
   "execution_count": null,
   "metadata": {},
   "outputs": [],
   "source": [
    "print(simple_train_dtm)"
   ]
  },
  {
   "cell_type": "code",
   "execution_count": null,
   "metadata": {},
   "outputs": [],
   "source": [
    "#build a model to predict youtube keywords\n",
    "knn = KNeighborsClassifier(n_neighbors=1)\n",
    "knn.fit(simple_train_dtm, yt_keywords)"
   ]
  },
  {
   "cell_type": "code",
   "execution_count": null,
   "metadata": {
    "collapsed": true
   },
   "outputs": [],
   "source": [
    "#example test for model testing\n",
    "simple_test = ['music']"
   ]
  },
  {
   "cell_type": "markdown",
   "metadata": {},
   "source": [
    "In order to make a prediction, the new observation mus have the same feaatures as the trining observations, both in number and meaning."
   ]
  },
  {
   "cell_type": "code",
   "execution_count": null,
   "metadata": {},
   "outputs": [],
   "source": [
    "#skip the fit, as fit is where vocabulary gets learned\n",
    "#transforming testing data into a document-term matrix (using existing vocabulary)\n",
    "simple_test_dtm = vect.transform(simple_test)\n",
    "simple_test_dtm.toarray()"
   ]
  },
  {
   "cell_type": "code",
   "execution_count": null,
   "metadata": {},
   "outputs": [],
   "source": [
    "#examine the vocabulary and document-term matrix together\n",
    "#created feature matrix with same features \n",
    "pd.DataFrame(simple_test_dtm.toarray(), columns=vect.get_feature_names())"
   ]
  },
  {
   "cell_type": "code",
   "execution_count": null,
   "metadata": {},
   "outputs": [],
   "source": [
    "#predict whether simple_test is a youtube keyword\n",
    "knn.predict(simple_test_dtm)"
   ]
  },
  {
   "cell_type": "markdown",
   "metadata": {},
   "source": [
    "> * `Summary `\n",
    "\n",
    "`* vect.fit(train) learns the vocabulary of the training data`\n",
    "\n",
    "`* vect.transform(train) uses the fitted vocabulary to build a document-term matrix from the training data`\n",
    "\n",
    "`* vect.transform(test) used the fitted vocabulary to build a document-term matrix from the testing data (and ignores tokens it hasn't seen before)`\n",
    "\n",
    "\n"
   ]
  },
  {
   "cell_type": "markdown",
   "metadata": {},
   "source": [
    "## Text based processing \n",
    "How can I import and parse the text column of description and somehow count the frequency /occurrences of words "
   ]
  },
  {
   "cell_type": "code",
   "execution_count": null,
   "metadata": {
    "collapsed": true
   },
   "outputs": [],
   "source": [
    "from sklearn.feature_extraction.text import CountVectorizer"
   ]
  },
  {
   "cell_type": "code",
   "execution_count": null,
   "metadata": {
    "collapsed": true
   },
   "outputs": [],
   "source": [
    "text = GB_youtube_df['description'].str.lower()\n",
    "#df['url'] = df['url'].str.lower()"
   ]
  },
  {
   "cell_type": "code",
   "execution_count": null,
   "metadata": {
    "scrolled": true
   },
   "outputs": [],
   "source": [
    "text"
   ]
  },
  {
   "cell_type": "code",
   "execution_count": null,
   "metadata": {
    "collapsed": true
   },
   "outputs": [],
   "source": [
    "#convert text from object into string? \n",
    "#text = GB_youtube_df['description'] = GB_youtube_df['description'].astype('str')\n",
    "GB_youtube_df['description'] = GB_youtube_df['description'].astype('U')\n",
    "#df['column'] = df['column'].astype('|S') "
   ]
  },
  {
   "cell_type": "code",
   "execution_count": null,
   "metadata": {
    "scrolled": true
   },
   "outputs": [],
   "source": [
    "#text type is changed to unicode even though datatype remains as object\n",
    "#unicode_text\n",
    "GB_youtube_df['description'] "
   ]
  },
  {
   "cell_type": "code",
   "execution_count": null,
   "metadata": {},
   "outputs": [],
   "source": [
    "print(type(text))"
   ]
  },
  {
   "cell_type": "code",
   "execution_count": null,
   "metadata": {
    "collapsed": true
   },
   "outputs": [],
   "source": [
    "vectorizer = CountVectorizer()"
   ]
  },
  {
   "cell_type": "code",
   "execution_count": null,
   "metadata": {
    "collapsed": true
   },
   "outputs": [],
   "source": [
    "#convert description text to type unicode\n",
    "x = vectorizer.fit_transform(GB_youtube_df['description'].values.astype('U')) \n",
    "x = vectorizer.fit_transform(GB_youtube_df['description'])"
   ]
  },
  {
   "cell_type": "code",
   "execution_count": null,
   "metadata": {},
   "outputs": [],
   "source": [
    "x"
   ]
  },
  {
   "cell_type": "code",
   "execution_count": null,
   "metadata": {},
   "outputs": [],
   "source": [
    "type(x)"
   ]
  },
  {
   "cell_type": "code",
   "execution_count": null,
   "metadata": {},
   "outputs": [],
   "source": [
    "#tokenize and build vocab\n",
    "#vectorizer.fit(x) - error: lower not found\n",
    "\n",
    "vectorizer.fit(text)"
   ]
  },
  {
   "cell_type": "code",
   "execution_count": null,
   "metadata": {},
   "outputs": [],
   "source": [
    "# summarize\n",
    "print(vectorizer.vocabulary_)"
   ]
  },
  {
   "cell_type": "code",
   "execution_count": null,
   "metadata": {
    "collapsed": true
   },
   "outputs": [],
   "source": [
    "#encode document\n",
    "vector = vectorizer.transform(text)"
   ]
  },
  {
   "cell_type": "code",
   "execution_count": null,
   "metadata": {
    "scrolled": true
   },
   "outputs": [],
   "source": [
    "# summarize encoded vector\n",
    "print(vector.shape)\n",
    "print(type(vector))\n",
    "print(vector.toarray())"
   ]
  },
  {
   "cell_type": "markdown",
   "metadata": {},
   "source": [
    "### Plot token frequency distribution <font color = \"#4DB6AC\"> Description Box </font>"
   ]
  },
  {
   "cell_type": "code",
   "execution_count": null,
   "metadata": {
    "collapsed": true
   },
   "outputs": [],
   "source": [
    "from yellowbrick.text.freqdist import FreqDistVisualizer\n",
    "from sklearn.feature_extraction.text import CountVectorizer"
   ]
  },
  {
   "cell_type": "code",
   "execution_count": null,
   "metadata": {},
   "outputs": [],
   "source": [
    "vectorizer = CountVectorizer()\n",
    "docs       = vectorizer.fit_transform(text)\n",
    "features   = vectorizer.get_feature_names()\n",
    "\n",
    "visualizer = FreqDistVisualizer(features=features)\n",
    "visualizer.fit(docs)\n",
    "visualizer.poof()\n",
    "\n",
    "plt.rcParams[\"figure.figsize\"] = (10, 10)\n",
    "plt.rcParams[\"xtick.labelsize\"] = 10\n",
    "plt.rcParams[\"ytick.labelsize\"] = 11"
   ]
  },
  {
   "cell_type": "markdown",
   "metadata": {},
   "source": [
    "### Plotting frequency of distribution without 'stop words'"
   ]
  },
  {
   "cell_type": "code",
   "execution_count": null,
   "metadata": {},
   "outputs": [],
   "source": [
    "#stop_words = removes common conjunction words in english \n",
    "vectorizer = CountVectorizer(stop_words='english')\n",
    "docs       = vectorizer.fit_transform(text)\n",
    "features   = vectorizer.get_feature_names()\n",
    "\n",
    "visualizer = FreqDistVisualizer(features=features)\n",
    "visualizer.fit(docs)\n",
    "visualizer.poof()\n",
    "\n",
    "#plt.rcParams[\"ytick.labelsize\"] = 12"
   ]
  },
  {
   "cell_type": "markdown",
   "metadata": {},
   "source": [
    "How to parse text to remove 'n' character in front of words"
   ]
  },
  {
   "cell_type": "markdown",
   "metadata": {},
   "source": [
    "### Plot token frequency distribution <font color = \"#8E44AD\"> Title </font>"
   ]
  },
  {
   "cell_type": "code",
   "execution_count": null,
   "metadata": {
    "collapsed": true
   },
   "outputs": [],
   "source": [
    "GB_youtube_df['title'] = GB_youtube_df['title'].astype('U')"
   ]
  },
  {
   "cell_type": "code",
   "execution_count": null,
   "metadata": {
    "scrolled": true
   },
   "outputs": [],
   "source": [
    "GB_youtube_df['title']"
   ]
  },
  {
   "cell_type": "code",
   "execution_count": null,
   "metadata": {
    "collapsed": true
   },
   "outputs": [],
   "source": [
    "title_text = GB_youtube_df['title'].str.lower()"
   ]
  },
  {
   "cell_type": "code",
   "execution_count": null,
   "metadata": {},
   "outputs": [],
   "source": [
    "vectorizer.fit(title_text)"
   ]
  },
  {
   "cell_type": "code",
   "execution_count": null,
   "metadata": {},
   "outputs": [],
   "source": [
    "print(vectorizer.vocabulary_)"
   ]
  },
  {
   "cell_type": "code",
   "execution_count": null,
   "metadata": {},
   "outputs": [],
   "source": [
    "#stop_words = removes common conjunction words in english \n",
    "vectorizer = CountVectorizer(stop_words='english')\n",
    "docs       = vectorizer.fit_transform(title_text)\n",
    "features   = vectorizer.get_feature_names()\n",
    "\n",
    "visualizer = FreqDistVisualizer(features=features)\n",
    "visualizer.fit(docs)\n",
    "visualizer.poof()"
   ]
  },
  {
   "cell_type": "markdown",
   "metadata": {},
   "source": [
    "Frequency distribution for UK youtube data: title"
   ]
  },
  {
   "cell_type": "markdown",
   "metadata": {},
   "source": [
    "### Plot token frequency distribution <font color = \"#FFC300\"> Tags </font>"
   ]
  },
  {
   "cell_type": "code",
   "execution_count": null,
   "metadata": {
    "collapsed": true
   },
   "outputs": [],
   "source": [
    "GB_youtube_df['tags'] = GB_youtube_df['tags'].astype('U')"
   ]
  },
  {
   "cell_type": "code",
   "execution_count": null,
   "metadata": {
    "scrolled": true
   },
   "outputs": [],
   "source": [
    "GB_youtube_df['tags']"
   ]
  },
  {
   "cell_type": "code",
   "execution_count": null,
   "metadata": {
    "collapsed": true
   },
   "outputs": [],
   "source": [
    "tags_text = GB_youtube_df['tags'].str.lower()"
   ]
  },
  {
   "cell_type": "code",
   "execution_count": null,
   "metadata": {},
   "outputs": [],
   "source": [
    "vectorizer.fit(tags_text)"
   ]
  },
  {
   "cell_type": "code",
   "execution_count": null,
   "metadata": {},
   "outputs": [],
   "source": [
    "print(vectorizer.vocabulary_)"
   ]
  },
  {
   "cell_type": "code",
   "execution_count": null,
   "metadata": {},
   "outputs": [],
   "source": [
    "#stop_words = removes common conjunction words in english \n",
    "vectorizer = CountVectorizer(stop_words='english')\n",
    "docs       = vectorizer.fit_transform(tags_text)\n",
    "features   = vectorizer.get_feature_names()\n",
    "\n",
    "visualizer = FreqDistVisualizer(features=features)\n",
    "visualizer.fit(docs)\n",
    "visualizer.poof()"
   ]
  },
  {
   "cell_type": "markdown",
   "metadata": {},
   "source": [
    "Frequency distribution for UK youtube data: tags"
   ]
  },
  {
   "cell_type": "markdown",
   "metadata": {},
   "source": [
    "### Plot token frequency distribution <font color = \"#2ECC71\"> Channel title </font>"
   ]
  },
  {
   "cell_type": "code",
   "execution_count": null,
   "metadata": {
    "collapsed": true
   },
   "outputs": [],
   "source": [
    "GB_youtube_df['channel_title'] = GB_youtube_df['channel_title'].astype('U')"
   ]
  },
  {
   "cell_type": "code",
   "execution_count": null,
   "metadata": {
    "scrolled": true
   },
   "outputs": [],
   "source": [
    "GB_youtube_df['channel_title']"
   ]
  },
  {
   "cell_type": "code",
   "execution_count": null,
   "metadata": {
    "collapsed": true
   },
   "outputs": [],
   "source": [
    "channel_text = GB_youtube_df['channel_title'].str.lower()"
   ]
  },
  {
   "cell_type": "code",
   "execution_count": null,
   "metadata": {},
   "outputs": [],
   "source": [
    "vectorizer.fit(channel_text)"
   ]
  },
  {
   "cell_type": "code",
   "execution_count": null,
   "metadata": {},
   "outputs": [],
   "source": [
    "print(vectorizer.vocabulary_)"
   ]
  },
  {
   "cell_type": "code",
   "execution_count": null,
   "metadata": {},
   "outputs": [],
   "source": [
    "#stop_words = removes common conjunction words in english \n",
    "vectorizer = CountVectorizer(stop_words='english')\n",
    "docs       = vectorizer.fit_transform(channel_text)\n",
    "features   = vectorizer.get_feature_names()\n",
    "\n",
    "visualizer = FreqDistVisualizer(features=features)\n",
    "visualizer.fit(docs)\n",
    "visualizer.poof()"
   ]
  },
  {
   "cell_type": "markdown",
   "metadata": {},
   "source": [
    "Frequency distribution of tokens for UK youtube data: channel_title"
   ]
  },
  {
   "cell_type": "code",
   "execution_count": null,
   "metadata": {
    "collapsed": true
   },
   "outputs": [],
   "source": []
  },
  {
   "cell_type": "code",
   "execution_count": null,
   "metadata": {
    "collapsed": true
   },
   "outputs": [],
   "source": []
  },
  {
   "cell_type": "code",
   "execution_count": null,
   "metadata": {
    "collapsed": true
   },
   "outputs": [],
   "source": []
  },
  {
   "cell_type": "code",
   "execution_count": null,
   "metadata": {
    "collapsed": true
   },
   "outputs": [],
   "source": []
  },
  {
   "cell_type": "code",
   "execution_count": null,
   "metadata": {
    "collapsed": true
   },
   "outputs": [],
   "source": []
  },
  {
   "cell_type": "code",
   "execution_count": null,
   "metadata": {
    "collapsed": true
   },
   "outputs": [],
   "source": []
  },
  {
   "cell_type": "code",
   "execution_count": null,
   "metadata": {
    "collapsed": true
   },
   "outputs": [],
   "source": []
  },
  {
   "cell_type": "code",
   "execution_count": null,
   "metadata": {
    "collapsed": true
   },
   "outputs": [],
   "source": []
  },
  {
   "cell_type": "code",
   "execution_count": null,
   "metadata": {},
   "outputs": [],
   "source": [
    "import matplotlib.pyplot as plt\n",
    "plt.xlabel('my x label', size = 20)\n",
    "plt.ylabel('my y label', size = 30)\n",
    "plt.title('my title', size = 40)\n",
    "plt.xticks(size = 50)\n",
    "plt.yticks(size = 60)"
   ]
  },
  {
   "cell_type": "code",
   "execution_count": null,
   "metadata": {
    "collapsed": true
   },
   "outputs": [],
   "source": []
  },
  {
   "cell_type": "code",
   "execution_count": null,
   "metadata": {
    "collapsed": true
   },
   "outputs": [],
   "source": []
  },
  {
   "cell_type": "code",
   "execution_count": null,
   "metadata": {
    "collapsed": true
   },
   "outputs": [],
   "source": []
  },
  {
   "cell_type": "markdown",
   "metadata": {},
   "source": []
  },
  {
   "cell_type": "code",
   "execution_count": null,
   "metadata": {
    "collapsed": true
   },
   "outputs": [],
   "source": []
  },
  {
   "cell_type": "code",
   "execution_count": null,
   "metadata": {
    "collapsed": true
   },
   "outputs": [],
   "source": []
  },
  {
   "cell_type": "code",
   "execution_count": null,
   "metadata": {
    "collapsed": true
   },
   "outputs": [],
   "source": []
  },
  {
   "cell_type": "code",
   "execution_count": null,
   "metadata": {
    "collapsed": true
   },
   "outputs": [],
   "source": []
  },
  {
   "cell_type": "code",
   "execution_count": null,
   "metadata": {
    "collapsed": true
   },
   "outputs": [],
   "source": []
  },
  {
   "cell_type": "code",
   "execution_count": null,
   "metadata": {
    "collapsed": true
   },
   "outputs": [],
   "source": [
    "#Access vocabulary to see what was tokenizes\n",
    "#print(vectorizer.vocabulary_)"
   ]
  },
  {
   "cell_type": "markdown",
   "metadata": {},
   "source": [
    "Yellowbrick for vocab presentation"
   ]
  },
  {
   "cell_type": "code",
   "execution_count": null,
   "metadata": {},
   "outputs": [],
   "source": [
    "from yellowbrick.features import Rank2D\n",
    "\n",
    "visualizer = Rank2D(features=GB_X, algorithm='covariance')\n",
    "visualizer.fit(GB_X, GB_y)                # Fit the data to the visualizer\n",
    "visualizer.transform(GB_X)             # Transform the data\n",
    "visualizer.poof()                   # Draw/show/poof the data"
   ]
  },
  {
   "cell_type": "code",
   "execution_count": null,
   "metadata": {
    "collapsed": true
   },
   "outputs": [],
   "source": [
    "# Feature Analysis Imports \n",
    "# NOTE that all these are available for import from the `yellowbrick.features` module \n",
    "from yellowbrick.features.rankd import Rank1D, Rank2D \n",
    "from yellowbrick.features.radviz import RadViz \n",
    "from yellowbrick.features.pcoords import ParallelCoordinates \n",
    "from yellowbrick.features.jointplot import JointPlotVisualizer\n",
    "from yellowbrick.features.pca import PCADecomposition\n",
    "from yellowbrick.features.scatter import ScatterVisualizer"
   ]
  },
  {
   "cell_type": "code",
   "execution_count": null,
   "metadata": {},
   "outputs": [],
   "source": [
    "# Load the classification data set\n",
    "data = GB_youtube_df\n",
    "\n",
    "# Specify the features of interest\n",
    "features = data['views']\n",
    "\n",
    "#features = ['documentary','episode','ft','itunes','music','official','podcast','spotify','subscribe','cat','dog','makeup','ASMR']\n",
    "# features = [\n",
    "#         'limit', 'sex', 'edu', 'married', 'age', 'apr_delay', 'may_delay',\n",
    "#         'jun_delay', 'jul_delay', 'aug_delay', 'sep_delay', 'apr_bill', 'may_bill',\n",
    "#         'jun_bill', 'jul_bill', 'aug_bill', 'sep_bill', 'apr_pay', 'may_pay', 'jun_pay',\n",
    "#         'jul_pay', 'aug_pay', 'sep_pay',\n",
    "#     ]\n",
    "\n",
    "# Extract the numpy arrays from the data frame \n",
    "X = data[features].as_matrix()\n",
    "y = data.default.as_matrix()"
   ]
  },
  {
   "cell_type": "code",
   "execution_count": null,
   "metadata": {
    "collapsed": true
   },
   "outputs": [],
   "source": []
  },
  {
   "cell_type": "code",
   "execution_count": null,
   "metadata": {
    "collapsed": true
   },
   "outputs": [],
   "source": []
  },
  {
   "cell_type": "code",
   "execution_count": null,
   "metadata": {
    "collapsed": true
   },
   "outputs": [],
   "source": []
  },
  {
   "cell_type": "markdown",
   "metadata": {},
   "source": [
    "### Reading a text-based dataset into pandas"
   ]
  },
  {
   "cell_type": "code",
   "execution_count": null,
   "metadata": {
    "collapsed": true
   },
   "outputs": [],
   "source": []
  },
  {
   "cell_type": "code",
   "execution_count": null,
   "metadata": {
    "collapsed": true
   },
   "outputs": [],
   "source": []
  },
  {
   "cell_type": "code",
   "execution_count": null,
   "metadata": {
    "collapsed": true
   },
   "outputs": [],
   "source": []
  },
  {
   "cell_type": "code",
   "execution_count": null,
   "metadata": {
    "collapsed": true
   },
   "outputs": [],
   "source": []
  },
  {
   "cell_type": "code",
   "execution_count": null,
   "metadata": {
    "collapsed": true
   },
   "outputs": [],
   "source": []
  },
  {
   "cell_type": "code",
   "execution_count": null,
   "metadata": {
    "collapsed": true
   },
   "outputs": [],
   "source": []
  },
  {
   "cell_type": "markdown",
   "metadata": {},
   "source": [
    "## Parsing json file"
   ]
  },
  {
   "cell_type": "code",
   "execution_count": null,
   "metadata": {
    "collapsed": true
   },
   "outputs": [],
   "source": []
  },
  {
   "cell_type": "code",
   "execution_count": null,
   "metadata": {
    "collapsed": true
   },
   "outputs": [],
   "source": [
    "new_df2 = pd.read_json(\"GB_category_id.json\", orient='columns', typ='frame', dtype=True, convert_axes=True,)"
   ]
  },
  {
   "cell_type": "code",
   "execution_count": null,
   "metadata": {},
   "outputs": [],
   "source": [
    "new_df2.head()"
   ]
  },
  {
   "cell_type": "code",
   "execution_count": null,
   "metadata": {
    "collapsed": true
   },
   "outputs": [],
   "source": [
    "def makeDataFrame(jsonData):\n",
    "    listOfId=[]\n",
    "    listOfGenre=[]\n",
    "    for i in jsonData['items']:\n",
    "        listOfId.append(i['id'])\n",
    "        listOfGenre.append(i['snippet']['title'])\n",
    "\n",
    "    genreIds={}\n",
    "    genreIds['id']=listOfId\n",
    "    genreIds['Genre']=listOfGenre\n",
    "    genreDf=pd.DataFrame.from_dict(genreIds)\n",
    "    return genreDf"
   ]
  },
  {
   "cell_type": "code",
   "execution_count": null,
   "metadata": {
    "collapsed": true
   },
   "outputs": [],
   "source": [
    "jsonData=pd.read_json('GB_category_id.json')\n",
    "\n",
    "listOfId=[]\n",
    "listOfGenre=[]\n",
    "for i in jsonData['items']:\n",
    "    listOfId.append(i['id'])\n",
    "    listOfGenre.append(i['snippet']['title'])\n",
    "    \n",
    "genreIds={}\n",
    "genreIds['id']=listOfId\n",
    "genreIds['Genre']=listOfGenre\n",
    "genreDf=pd.DataFrame.from_dict(genreIds)\n"
   ]
  },
  {
   "cell_type": "code",
   "execution_count": null,
   "metadata": {
    "collapsed": true
   },
   "outputs": [],
   "source": []
  },
  {
   "cell_type": "code",
   "execution_count": null,
   "metadata": {
    "collapsed": true
   },
   "outputs": [],
   "source": []
  },
  {
   "cell_type": "code",
   "execution_count": null,
   "metadata": {},
   "outputs": [],
   "source": [
    "with open('GB_category_id.json') as f:\n",
    "    d = json.load(f)"
   ]
  },
  {
   "cell_type": "code",
   "execution_count": null,
   "metadata": {
    "collapsed": true
   },
   "outputs": [],
   "source": [
    "nycphil = json_normalize(d)"
   ]
  },
  {
   "cell_type": "code",
   "execution_count": null,
   "metadata": {
    "collapsed": true
   },
   "outputs": [],
   "source": [
    "df.B.apply(pd.Series)"
   ]
  },
  {
   "cell_type": "code",
   "execution_count": null,
   "metadata": {
    "collapsed": true
   },
   "outputs": [],
   "source": [
    "works_data = json_normalize(data=d[0])\n",
    "works_data.head(3)"
   ]
  },
  {
   "cell_type": "code",
   "execution_count": null,
   "metadata": {
    "collapsed": true
   },
   "outputs": [],
   "source": [
    "def flatten_json(y):\n",
    "    out = {}\n",
    "\n",
    "    def flatten(x, name=''):\n",
    "        if type(x) is dict:\n",
    "            for a in x:\n",
    "                flatten(x[a], name + a + '_')\n",
    "        elif type(x) is list:\n",
    "            i = 0\n",
    "            for a in x:\n",
    "                flatten(a, name + str(i) + '_')\n",
    "                i += 1\n",
    "        else:\n",
    "            #out[str(name[:-1])] = str(x)\n",
    "            out[name[:-1]] = x\n",
    "\n",
    "    flatten(y)\n",
    "    return out"
   ]
  },
  {
   "cell_type": "code",
   "execution_count": null,
   "metadata": {
    "collapsed": true
   },
   "outputs": [],
   "source": [
    "flattened = flatten_json(new_df2)"
   ]
  },
  {
   "cell_type": "code",
   "execution_count": null,
   "metadata": {
    "collapsed": true,
    "scrolled": true
   },
   "outputs": [],
   "source": [
    "flattened"
   ]
  },
  {
   "cell_type": "code",
   "execution_count": null,
   "metadata": {
    "collapsed": true
   },
   "outputs": [],
   "source": [
    "from pandas.io.json import json_normalize\n",
    "print(type(flattened))"
   ]
  },
  {
   "cell_type": "code",
   "execution_count": null,
   "metadata": {
    "collapsed": true
   },
   "outputs": [],
   "source": [
    "flat = json_normalize()"
   ]
  },
  {
   "cell_type": "markdown",
   "metadata": {},
   "source": [
    "From json file we need: id, title, kind"
   ]
  },
  {
   "cell_type": "code",
   "execution_count": null,
   "metadata": {
    "collapsed": true
   },
   "outputs": [],
   "source": []
  }
 ],
 "metadata": {
  "kernelspec": {
   "display_name": "Python 3",
   "language": "python",
   "name": "python3"
  },
  "language_info": {
   "codemirror_mode": {
    "name": "ipython",
    "version": 3
   },
   "file_extension": ".py",
   "mimetype": "text/x-python",
   "name": "python",
   "nbconvert_exporter": "python",
   "pygments_lexer": "ipython3",
   "version": "3.6.3"
  }
 },
 "nbformat": 4,
 "nbformat_minor": 2
}
